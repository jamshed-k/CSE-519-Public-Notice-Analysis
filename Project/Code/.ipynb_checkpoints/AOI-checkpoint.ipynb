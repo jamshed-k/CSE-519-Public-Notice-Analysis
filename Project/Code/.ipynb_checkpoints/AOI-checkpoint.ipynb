{
 "cells": [
  {
   "cell_type": "code",
   "execution_count": 50,
   "metadata": {},
   "outputs": [],
   "source": [
    "from collections import OrderedDict\n",
    "\n",
    "def write_roman(num):\n",
    "\n",
    "    roman = OrderedDict()\n",
    "    roman[10] = \"x\"\n",
    "    roman[9] = \"ix\"\n",
    "    roman[5] = \"v\"\n",
    "    roman[4] = \"iv\"\n",
    "    roman[1] = \"i\"\n",
    "\n",
    "    def roman_num(num):\n",
    "        for r in roman.keys():\n",
    "            x, y = divmod(num, r)\n",
    "            yield roman[r] * x\n",
    "            num -= (r * x)\n",
    "            if num > 0:\n",
    "                roman_num(num)\n",
    "            else:\n",
    "                break\n",
    "\n",
    "    return \"\".join([a for a in roman_num(num)])"
   ]
  },
  {
   "cell_type": "code",
   "execution_count": 48,
   "metadata": {},
   "outputs": [
    {
     "data": {
      "text/plain": [
       "'iii'"
      ]
     },
     "execution_count": 48,
     "metadata": {},
     "output_type": "execute_result"
    }
   ],
   "source": [
    "write_roman(3)"
   ]
  },
  {
   "cell_type": "code",
   "execution_count": 2,
   "metadata": {},
   "outputs": [
    {
     "name": "stderr",
     "output_type": "stream",
     "text": [
      "C:\\Users\\Prime\\AppData\\Local\\Continuum\\anaconda3\\lib\\site-packages\\ipykernel_launcher.py:4: FutureWarning: from_csv is deprecated. Please use read_csv(...) instead. Note that some of the default arguments are different, so please refer to the documentation for from_csv when changing your function calls\n",
      "  after removing the cwd from sys.path.\n"
     ]
    }
   ],
   "source": [
    "import pandas as pd \n",
    "\n",
    "FILE = 'AOO'\n",
    "df = pd.DataFrame.from_csv('../Data/'+FILE+'.csv')\n",
    "df.content = df.content.str.replace('/',' ') \n",
    "df.content = df.content.str.replace(',',' ') \n",
    "df.content = df.content.str.replace('(',' ')\n",
    "df.content = df.content.str.replace(')',' ') \n",
    "df.content = df.content.str.replace('\"','\\'') "
   ]
  },
  {
   "cell_type": "code",
   "execution_count": 3,
   "metadata": {},
   "outputs": [
    {
     "data": {
      "text/plain": [
       "53510"
      ]
     },
     "execution_count": 3,
     "metadata": {},
     "output_type": "execute_result"
    }
   ],
   "source": [
    "len(df)"
   ]
  },
  {
   "cell_type": "code",
   "execution_count": 51,
   "metadata": {},
   "outputs": [
    {
     "name": "stdout",
     "output_type": "stream",
     "text": [
      "['. name: northern arizona surgicenter, llc  ii. the address of the known place of business is: 1020 n. san francisco st., suite 200, flagstaff, arizona 86001  iii.']\n",
      "['i. name: northern arizona surgicenter, llc  ii. the address of the known place of business is: 1020 n. san francisco st., suite 200, flagstaff, arizona 86001  iii.']\n",
      "['ii. the address of the known place of business is: 1020 n. san francisco st., suite 200, flagstaff, arizona 86001  iii.']\n",
      "['iii. article 4 of the articles of organization is deleted in its entirety and amended to read as follows:  management of the company is vested in a manager (or managers) and the current manager is: jack quigley, m.d., 1020 n. san francisco st., suite 200, flagstaff, az 86001  each member who owns a twenty percent (20%) or greater interest in the capital or profits of the company is:  jack quigley, m.d., 1020 n. san francisco st., suite 200, flagstaff, az 86001; stephen f. lex, m.d., 1020 n. san francisco st., suite 200, flagstaff, az 86001; adam boettcher, m.d., ., 1020 n. san francisco st., suite 200, flagstaff, az 86001  iv.']\n",
      "['iv. article 5 of the articles of organization is deleted in its entirety and amended to read as follows:  the latest date this company can dissolve is december 31, 2050.  v.']\n"
     ]
    }
   ],
   "source": [
    "import re\n",
    "\n",
    "for i in range(10):\n",
    "    #regstr = str(str(i)+'[\\. ][\\W\\S]*'+str(i+1)+'\\.')\n",
    "    regstr = str(str(write_roman(i))+'\\.\\s[\\W\\S]*'+str(write_roman(i+1))+'[\\.]')\n",
    "    regex = re.compile(r\"%s\" % regstr)\n",
    "    #print(regex)\n",
    "    strn = \"notice (for publication)  articles of amendment to the articles of organization have been filed in the office of the arizona corporation commission for:  i. name: northern arizona surgicenter, llc  ii. the address of the known place of business is: 1020 n. san francisco st., suite 200, flagstaff, arizona 86001  iii. article 4 of the articles of organization is deleted in its entirety and amended to read as follows:  management of the company is vested in a manager (or managers) and the current manager is: jack quigley, m.d., 1020 n. san francisco st., suite 200, flagstaff, az 86001  each member who owns a twenty percent (20%) or greater interest in the capital or profits of the company is:  jack quigley, m.d., 1020 n. san francisco st., suite 200, flagstaff, az 86001; stephen f. lex, m.d., 1020 n. san francisco st., suite 200, flagstaff, az 86001; adam boettcher, m.d., ., 1020 n. san francisco st., suite 200, flagstaff, az 86001  iv. article 5 of the articles of organization is deleted in its entirety and amended to read as follows:  the latest date this company can dissolve is december 31, 2050.  v. except as hereby amended, the company?s articles of organization shall otherwise remain in full force and effect.  in witness whereof, the undersigned, as the manager of the company, has executed this instrument for and on behalf of company as of the 5th day of april, 2017. northern arizona surgicenter, llc by: /s/ jack quigley, manager  05/03, 05/10, 5/17/17\"\n",
    "    res = regex.findall(strn)\n",
    "    if res==[]:\n",
    "        continue\n",
    "    else:\n",
    "        print(res)"
   ]
  },
  {
   "cell_type": "code",
   "execution_count": 3,
   "metadata": {},
   "outputs": [
    {
     "name": "stdout",
     "output_type": "stream",
     "text": [
      "256    http://www.publicnoticeads.com/AZ/search/view.asp?T=PN&id=34/2222017_23974518.htm\n",
      "257    http://www.publicnoticeads.com/AZ/search/view.asp?T=PN&id=34/2222017_23974519.htm\n",
      "258    http://www.publicnoticeads.com/AZ/search/view.asp?T=PN&id=34/2222017_23974520.htm\n",
      "259    http://www.publicnoticeads.com/AZ/search/view.asp?T=PN&id=34/2222017_23974516.htm\n",
      "260    http://www.publicnoticeads.com/AZ/search/view.asp?T=PN&id=34/2222017_23974517.htm\n",
      "Name: link, dtype: object\n"
     ]
    }
   ],
   "source": [
    "pd.options.display.max_rows\n",
    "pd.set_option('display.max_colwidth', -1)\n",
    "print(df.link.head(5))"
   ]
  },
  {
   "cell_type": "code",
   "execution_count": 54,
   "metadata": {},
   "outputs": [],
   "source": [
    "import re\n",
    "\n",
    "\n",
    "def reg_entity(row):\n",
    "    res = []\n",
    "    strn = str(row)\n",
    "    for i in range(10):\n",
    "        #regstr = str(str(i)+'[\\. ][\\W\\S]*'+str(i+1)+'\\.')\n",
    "        regstr = str(str(i)+'\\.\\s[\\W\\S]*'+str(i+1)+'\\.')\n",
    "        regex = re.compile(r\"%s\" % regstr)\n",
    "         \n",
    "        r = regex.findall(strn)\n",
    "        if r==[]:\n",
    "            continue\n",
    "        else:\n",
    "            res.append(r[5:-4])\n",
    "            print(r[:5])\n",
    "            \n",
    "    #print(strn)\n",
    "    #if res!=[]:\n",
    "        #print(res)\n",
    "    if res !=[]:\n",
    "        results.append(res)"
   ]
  },
  {
   "cell_type": "code",
   "execution_count": 55,
   "metadata": {},
   "outputs": [],
   "source": [
    "import re\n",
    "results = []\n",
    "\n",
    "def reg_entity(row):\n",
    "    last = -1\n",
    "    res = []\n",
    "    strn = str(row)\n",
    "    for i in range(4):\n",
    "        #regstr = str(str(i)+'[\\. ][\\W\\S]*'+str(i+1)+'\\.')\n",
    "        regstr = str(str(i)+'\\.\\s[\\W\\S]*'+str(i+1)+'\\.')\n",
    "        regex = re.compile(r\"%s\" % regstr)\n",
    "         \n",
    "        r = regex.findall(strn)\n",
    "        if r==[]:\n",
    "            continue\n",
    "        else:\n",
    "            r = str(r)\n",
    "            res.append(r[5:-4])\n",
    "            last = i\n",
    "        \n",
    "    regstr = str(str(i)+'\\.\\s[\\W\\S]*')\n",
    "    regex = re.compile(r\"%s\" % regstr)\n",
    "\n",
    "    r = regex.findall(strn)\n",
    "    if r!=[]:\n",
    "        r = str(r)\n",
    "        res.append(r[5:-4])\n",
    "    #print(strn)\n",
    "    if res!=[]:\n",
    "        results.append(res)\n",
    "        #print(res)"
   ]
  },
  {
   "cell_type": "code",
   "execution_count": 56,
   "metadata": {},
   "outputs": [],
   "source": [
    "def reg_entity_roman(row):\n",
    "    last = -1\n",
    "    res = []\n",
    "    strn = str(row)\n",
    "    for i in range(4):\n",
    "        #regstr = str(str(i)+'[\\. ][\\W\\S]*'+str(i+1)+'\\.')\n",
    "        regstr = str(str(write_roman(i))+'\\.\\s[\\W\\S]*'+str(write_roman(i+1))+'[\\.]')\n",
    "        regex = re.compile(r\"%s\" % regstr)\n",
    "         \n",
    "        r = regex.findall(strn)\n",
    "        if r==[]:\n",
    "            continue\n",
    "        else:\n",
    "            r = str(r)\n",
    "            res.append(r[5:-4])\n",
    "            last = i\n",
    "        \n",
    "    regstr = str(str(i)+'\\.\\s[\\W\\S]*')\n",
    "    regex = re.compile(r\"%s\" % regstr)\n",
    "\n",
    "    r = regex.findall(strn)\n",
    "    if r!=[]:\n",
    "        r = str(r)\n",
    "        res.append(r[5:-4])\n",
    "    #print(strn)\n",
    "    if res!=[]:\n",
    "        results.append(res)\n",
    "        #print(res)"
   ]
  },
  {
   "cell_type": "code",
   "execution_count": 57,
   "metadata": {},
   "outputs": [
    {
     "name": "stdout",
     "output_type": "stream",
     "text": [
      "Done\n"
     ]
    }
   ],
   "source": [
    "df.content.apply(reg_entity)\n",
    "df.content.apply(reg_entity_roman)\n",
    "print('Done')"
   ]
  },
  {
   "cell_type": "code",
   "execution_count": 58,
   "metadata": {},
   "outputs": [
    {
     "data": {
      "text/plain": [
       "53510"
      ]
     },
     "execution_count": 58,
     "metadata": {},
     "output_type": "execute_result"
    }
   ],
   "source": [
    "len(df)"
   ]
  },
  {
   "cell_type": "code",
   "execution_count": 59,
   "metadata": {},
   "outputs": [
    {
     "data": {
      "text/plain": [
       "38276"
      ]
     },
     "execution_count": 59,
     "metadata": {},
     "output_type": "execute_result"
    }
   ],
   "source": [
    "len(results)"
   ]
  },
  {
   "cell_type": "code",
   "execution_count": null,
   "metadata": {},
   "outputs": [],
   "source": []
  }
 ],
 "metadata": {
  "kernelspec": {
   "display_name": "Python 3",
   "language": "python",
   "name": "python3"
  },
  "language_info": {
   "codemirror_mode": {
    "name": "ipython",
    "version": 3
   },
   "file_extension": ".py",
   "mimetype": "text/x-python",
   "name": "python",
   "nbconvert_exporter": "python",
   "pygments_lexer": "ipython3",
   "version": "3.6.6"
  }
 },
 "nbformat": 4,
 "nbformat_minor": 2
}
