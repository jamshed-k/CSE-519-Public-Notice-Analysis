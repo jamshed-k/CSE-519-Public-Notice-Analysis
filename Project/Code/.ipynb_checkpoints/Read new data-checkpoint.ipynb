{
 "cells": [
  {
   "cell_type": "code",
   "execution_count": null,
   "metadata": {},
   "outputs": [
    {
     "name": "stderr",
     "output_type": "stream",
     "text": [
      "C:\\Users\\Sabir Ismail\\Anaconda3\\lib\\site-packages\\ipykernel_launcher.py:5: FutureWarning: from_csv is deprecated. Please use read_csv(...) instead. Note that some of the default arguments are different, so please refer to the documentation for from_csv when changing your function calls\n",
      "  \"\"\"\n"
     ]
    }
   ],
   "source": [
    "import pandas as pd\n",
    "\n",
    "PATH = 'C:\\\\CSE-519-Project\\\\Input\\\\'\n",
    "\n",
    "df = pd.DataFrame.from_csv(PATH+'combined.tsv', sep='\\t', header=0)"
   ]
  },
  {
   "cell_type": "code",
   "execution_count": 43,
   "metadata": {},
   "outputs": [
    {
     "data": {
      "text/plain": [
       "1199659"
      ]
     },
     "execution_count": 43,
     "metadata": {},
     "output_type": "execute_result"
    }
   ],
   "source": [
    "len(df)"
   ]
  },
  {
   "cell_type": "code",
   "execution_count": 44,
   "metadata": {},
   "outputs": [
    {
     "data": {
      "text/html": [
       "<div>\n",
       "<style scoped>\n",
       "    .dataframe tbody tr th:only-of-type {\n",
       "        vertical-align: middle;\n",
       "    }\n",
       "\n",
       "    .dataframe tbody tr th {\n",
       "        vertical-align: top;\n",
       "    }\n",
       "\n",
       "    .dataframe thead th {\n",
       "        text-align: right;\n",
       "    }\n",
       "</style>\n",
       "<table border=\"1\" class=\"dataframe\">\n",
       "  <thead>\n",
       "    <tr style=\"text-align: right;\">\n",
       "      <th></th>\n",
       "      <th>county</th>\n",
       "      <th>date</th>\n",
       "      <th>preview</th>\n",
       "      <th>link</th>\n",
       "      <th>publication</th>\n",
       "      <th>state</th>\n",
       "    </tr>\n",
       "  </thead>\n",
       "  <tbody>\n",
       "    <tr>\n",
       "      <th>0.0</th>\n",
       "      <td>Lincoln</td>\n",
       "      <td>2012/05/23</td>\n",
       "      <td>PUBLIC NOTICEVEHICLES AND EQUIPMENT FOR SALEPe...</td>\n",
       "      <td>http://www.publicnoticeads.com/MS/search/view....</td>\n",
       "      <td>Daily Leader</td>\n",
       "      <td>Mississippi</td>\n",
       "    </tr>\n",
       "    <tr>\n",
       "      <th>1.0</th>\n",
       "      <td>Lincoln</td>\n",
       "      <td>2012/05/23</td>\n",
       "      <td>PUBLIC NOTICEÊThe Board of Commissioners of So...</td>\n",
       "      <td>http://www.publicnoticeads.com/MS/search/view....</td>\n",
       "      <td>Daily Leader</td>\n",
       "      <td>Mississippi</td>\n",
       "    </tr>\n",
       "    <tr>\n",
       "      <th>2.0</th>\n",
       "      <td>Lincoln</td>\n",
       "      <td>2012/05/23</td>\n",
       "      <td>PUBLIC NOTICEIN THE CHANCERY COURT OF LINCOLN ...</td>\n",
       "      <td>http://www.publicnoticeads.com/MS/search/view....</td>\n",
       "      <td>Daily Leader</td>\n",
       "      <td>Mississippi</td>\n",
       "    </tr>\n",
       "    <tr>\n",
       "      <th>3.0</th>\n",
       "      <td>Lincoln</td>\n",
       "      <td>2012/05/23</td>\n",
       "      <td>PUBLIC NOTICEIN THE CHANCERY COURT OF LINCOLN ...</td>\n",
       "      <td>http://www.publicnoticeads.com/MS/search/view....</td>\n",
       "      <td>Daily Leader</td>\n",
       "      <td>Mississippi</td>\n",
       "    </tr>\n",
       "    <tr>\n",
       "      <th>4.0</th>\n",
       "      <td>Lincoln</td>\n",
       "      <td>2012/05/23</td>\n",
       "      <td>PUBLIC NOTICEIN THE CHANCERY COURT OF LINCOLN ...</td>\n",
       "      <td>http://www.publicnoticeads.com/MS/search/view....</td>\n",
       "      <td>Daily Leader</td>\n",
       "      <td>Mississippi</td>\n",
       "    </tr>\n",
       "  </tbody>\n",
       "</table>\n",
       "</div>"
      ],
      "text/plain": [
       "      county        date                                            preview  \\\n",
       "0.0  Lincoln  2012/05/23  PUBLIC NOTICEVEHICLES AND EQUIPMENT FOR SALEPe...   \n",
       "1.0  Lincoln  2012/05/23  PUBLIC NOTICEÊThe Board of Commissioners of So...   \n",
       "2.0  Lincoln  2012/05/23  PUBLIC NOTICEIN THE CHANCERY COURT OF LINCOLN ...   \n",
       "3.0  Lincoln  2012/05/23  PUBLIC NOTICEIN THE CHANCERY COURT OF LINCOLN ...   \n",
       "4.0  Lincoln  2012/05/23  PUBLIC NOTICEIN THE CHANCERY COURT OF LINCOLN ...   \n",
       "\n",
       "                                                  link   publication  \\\n",
       "0.0  http://www.publicnoticeads.com/MS/search/view....  Daily Leader   \n",
       "1.0  http://www.publicnoticeads.com/MS/search/view....  Daily Leader   \n",
       "2.0  http://www.publicnoticeads.com/MS/search/view....  Daily Leader   \n",
       "3.0  http://www.publicnoticeads.com/MS/search/view....  Daily Leader   \n",
       "4.0  http://www.publicnoticeads.com/MS/search/view....  Daily Leader   \n",
       "\n",
       "           state  \n",
       "0.0  Mississippi  \n",
       "1.0  Mississippi  \n",
       "2.0  Mississippi  \n",
       "3.0  Mississippi  \n",
       "4.0  Mississippi  "
      ]
     },
     "execution_count": 44,
     "metadata": {},
     "output_type": "execute_result"
    }
   ],
   "source": [
    "df.head()"
   ]
  },
  {
   "cell_type": "code",
   "execution_count": 39,
   "metadata": {},
   "outputs": [
    {
     "data": {
      "text/plain": [
       "1198475"
      ]
     },
     "execution_count": 39,
     "metadata": {},
     "output_type": "execute_result"
    }
   ],
   "source": [
    "len(df)"
   ]
  },
  {
   "cell_type": "code",
   "execution_count": 38,
   "metadata": {},
   "outputs": [
    {
     "data": {
      "text/html": [
       "<div>\n",
       "<style scoped>\n",
       "    .dataframe tbody tr th:only-of-type {\n",
       "        vertical-align: middle;\n",
       "    }\n",
       "\n",
       "    .dataframe tbody tr th {\n",
       "        vertical-align: top;\n",
       "    }\n",
       "\n",
       "    .dataframe thead th {\n",
       "        text-align: right;\n",
       "    }\n",
       "</style>\n",
       "<table border=\"1\" class=\"dataframe\">\n",
       "  <thead>\n",
       "    <tr style=\"text-align: right;\">\n",
       "      <th></th>\n",
       "      <th>state</th>\n",
       "      <th>id</th>\n",
       "      <th>link</th>\n",
       "      <th>county</th>\n",
       "      <th>newspaper</th>\n",
       "      <th>date</th>\n",
       "      <th>content</th>\n",
       "      <th>notice_id</th>\n",
       "    </tr>\n",
       "  </thead>\n",
       "  <tbody>\n",
       "    <tr>\n",
       "      <th>0.0</th>\n",
       "      <td>Mississippi</td>\n",
       "      <td>241/5222012_18505183</td>\n",
       "      <td>http://www.publicnoticeads.com/MS/search/view....</td>\n",
       "      <td>Lincoln</td>\n",
       "      <td>Daily Leader</td>\n",
       "      <td>2012/05/23</td>\n",
       "      <td>PUBLIC NOTICEVEHICLES AND EQUIPMENT FOR SALEPe...</td>\n",
       "      <td>18505183</td>\n",
       "    </tr>\n",
       "    <tr>\n",
       "      <th>1.0</th>\n",
       "      <td>Arizona</td>\n",
       "      <td>193/5232012_18515636</td>\n",
       "      <td>http://www.publicnoticeads.com/AZ/search/view....</td>\n",
       "      <td>Coconino</td>\n",
       "      <td>Lake Powell Chronicle (Page)</td>\n",
       "      <td>2012/05/23</td>\n",
       "      <td>Legal No. 4569\\nNotice: Articles of Organizati...</td>\n",
       "      <td>18515636</td>\n",
       "    </tr>\n",
       "    <tr>\n",
       "      <th>2.0</th>\n",
       "      <td>Arkansas</td>\n",
       "      <td>3132/5232012_18515649</td>\n",
       "      <td>http://www.publicnoticeads.com/AR/search/view....</td>\n",
       "      <td>Cleveland</td>\n",
       "      <td>Cleveland County Herald (Rison)</td>\n",
       "      <td>2012/05/23</td>\n",
       "      <td>IN THE CIRCUIT COURT OF CLEVELAND COUNTY, ARKA...</td>\n",
       "      <td>18515649</td>\n",
       "    </tr>\n",
       "    <tr>\n",
       "      <th>3.0</th>\n",
       "      <td>New Mexico</td>\n",
       "      <td>3103/5232012_18515524</td>\n",
       "      <td>http://www.publicnoticeads.com/NM/search/view....</td>\n",
       "      <td>Santa Fe</td>\n",
       "      <td>Santa Fe Reporter</td>\n",
       "      <td>2012/05/23</td>\n",
       "      <td>Click to view PDF.\\n\\n\\nLegals\\nFirst Judicial...</td>\n",
       "      <td>18515524</td>\n",
       "    </tr>\n",
       "    <tr>\n",
       "      <th>4.0</th>\n",
       "      <td>New Jersey</td>\n",
       "      <td>680/5232012_18517196</td>\n",
       "      <td>http://www.publicnoticeads.com/NJ/search/view....</td>\n",
       "      <td>Monmouth</td>\n",
       "      <td>Beacon, Manahawkin</td>\n",
       "      <td>2012/05/23</td>\n",
       "      <td>05/24/2012Beach Haven-APLegal-APLegalsLegals-A...</td>\n",
       "      <td>18517196</td>\n",
       "    </tr>\n",
       "  </tbody>\n",
       "</table>\n",
       "</div>"
      ],
      "text/plain": [
       "           state                     id  \\\n",
       "0.0  Mississippi   241/5222012_18505183   \n",
       "1.0      Arizona   193/5232012_18515636   \n",
       "2.0     Arkansas  3132/5232012_18515649   \n",
       "3.0   New Mexico  3103/5232012_18515524   \n",
       "4.0   New Jersey   680/5232012_18517196   \n",
       "\n",
       "                                                  link     county  \\\n",
       "0.0  http://www.publicnoticeads.com/MS/search/view....    Lincoln   \n",
       "1.0  http://www.publicnoticeads.com/AZ/search/view....   Coconino   \n",
       "2.0  http://www.publicnoticeads.com/AR/search/view....  Cleveland   \n",
       "3.0  http://www.publicnoticeads.com/NM/search/view....   Santa Fe   \n",
       "4.0  http://www.publicnoticeads.com/NJ/search/view....   Monmouth   \n",
       "\n",
       "                           newspaper        date  \\\n",
       "0.0                     Daily Leader  2012/05/23   \n",
       "1.0     Lake Powell Chronicle (Page)  2012/05/23   \n",
       "2.0  Cleveland County Herald (Rison)  2012/05/23   \n",
       "3.0                Santa Fe Reporter  2012/05/23   \n",
       "4.0               Beacon, Manahawkin  2012/05/23   \n",
       "\n",
       "                                               content notice_id  \n",
       "0.0  PUBLIC NOTICEVEHICLES AND EQUIPMENT FOR SALEPe...  18505183  \n",
       "1.0  Legal No. 4569\\nNotice: Articles of Organizati...  18515636  \n",
       "2.0  IN THE CIRCUIT COURT OF CLEVELAND COUNTY, ARKA...  18515649  \n",
       "3.0  Click to view PDF.\\n\\n\\nLegals\\nFirst Judicial...  18515524  \n",
       "4.0  05/24/2012Beach Haven-APLegal-APLegalsLegals-A...  18517196  "
      ]
     },
     "execution_count": 38,
     "metadata": {},
     "output_type": "execute_result"
    }
   ],
   "source": [
    "df.head()"
   ]
  },
  {
   "cell_type": "code",
   "execution_count": 45,
   "metadata": {},
   "outputs": [
    {
     "data": {
      "text/plain": [
       "array(['Mississippi', 'Arizona', 'Arkansas', 'New Mexico', 'New Jersey',\n",
       "       'Nevada', 'Louisiana', 'Tennessee', 'state', 'Wyoming'],\n",
       "      dtype=object)"
      ]
     },
     "execution_count": 45,
     "metadata": {},
     "output_type": "execute_result"
    }
   ],
   "source": [
    "df.state.unique()"
   ]
  },
  {
   "cell_type": "code",
   "execution_count": 41,
   "metadata": {},
   "outputs": [
    {
     "data": {
      "text/plain": [
       "array(['Mississippi', 'Arizona', 'Arkansas', 'New Mexico', 'New Jersey',\n",
       "       'Nevada', 'Louisiana', 'Tennessee', 'state', 'Wyoming'],\n",
       "      dtype=object)"
      ]
     },
     "execution_count": 41,
     "metadata": {},
     "output_type": "execute_result"
    }
   ],
   "source": [
    "df.state.unique()"
   ]
  },
  {
   "cell_type": "code",
   "execution_count": 34,
   "metadata": {},
   "outputs": [
    {
     "name": "stderr",
     "output_type": "stream",
     "text": [
      "C:\\Users\\Sabir Ismail\\Anaconda3\\lib\\site-packages\\ipykernel_launcher.py:5: FutureWarning: from_csv is deprecated. Please use read_csv(...) instead. Note that some of the default arguments are different, so please refer to the documentation for from_csv when changing your function calls\n",
      "  \"\"\"\n"
     ]
    }
   ],
   "source": [
    "import pandas as pd\n",
    "\n",
    "PATH = 'C:\\\\CSE-519-Project\\\\Input\\\\2012-2013\\\\2012-2013\\\\'\n",
    "\n",
    "df = pd.DataFrame.from_csv(PATH+'notices_cat2_2012-07-07.tsv', sep='\\t', header=0)"
   ]
  },
  {
   "cell_type": "code",
   "execution_count": 35,
   "metadata": {},
   "outputs": [
    {
     "data": {
      "text/plain": [
       "1195"
      ]
     },
     "execution_count": 35,
     "metadata": {},
     "output_type": "execute_result"
    }
   ],
   "source": [
    "len(df)"
   ]
  },
  {
   "cell_type": "code",
   "execution_count": 36,
   "metadata": {},
   "outputs": [
    {
     "data": {
      "text/html": [
       "<div>\n",
       "<style scoped>\n",
       "    .dataframe tbody tr th:only-of-type {\n",
       "        vertical-align: middle;\n",
       "    }\n",
       "\n",
       "    .dataframe tbody tr th {\n",
       "        vertical-align: top;\n",
       "    }\n",
       "\n",
       "    .dataframe thead th {\n",
       "        text-align: right;\n",
       "    }\n",
       "</style>\n",
       "<table border=\"1\" class=\"dataframe\">\n",
       "  <thead>\n",
       "    <tr style=\"text-align: right;\">\n",
       "      <th></th>\n",
       "      <th>state</th>\n",
       "      <th>id</th>\n",
       "      <th>link</th>\n",
       "      <th>county</th>\n",
       "      <th>newspaper</th>\n",
       "      <th>date</th>\n",
       "      <th>content</th>\n",
       "      <th>notice_id</th>\n",
       "    </tr>\n",
       "  </thead>\n",
       "  <tbody>\n",
       "    <tr>\n",
       "      <th>0</th>\n",
       "      <td>Mississippi</td>\n",
       "      <td>465/7132012_18934228</td>\n",
       "      <td>http://www.publicnoticeads.com/MS/search/view....</td>\n",
       "      <td>Warren</td>\n",
       "      <td>Vicksburg Post</td>\n",
       "      <td>2012/07/07</td>\n",
       "      <td>ABANDONED VEHICLE\\nThe following vehicles are ...</td>\n",
       "      <td>18934228</td>\n",
       "    </tr>\n",
       "    <tr>\n",
       "      <th>1</th>\n",
       "      <td>Arizona</td>\n",
       "      <td>63/10082012_19398827</td>\n",
       "      <td>http://www.publicnoticeads.com/AZ/search/view....</td>\n",
       "      <td>Coconino</td>\n",
       "      <td>Arizona Daily Sun (Flagstaff)</td>\n",
       "      <td>2012/07/07</td>\n",
       "      <td>Legal No. 15951 NOTICE OF CALL OF ELECTIONLock...</td>\n",
       "      <td>19398827</td>\n",
       "    </tr>\n",
       "    <tr>\n",
       "      <th>2</th>\n",
       "      <td>Arkansas</td>\n",
       "      <td>3216/762012_18880936</td>\n",
       "      <td>http://www.publicnoticeads.com/AR/search/view....</td>\n",
       "      <td>Crawford</td>\n",
       "      <td>Press Argus-Courier (Van Buren)</td>\n",
       "      <td>2012/07/07</td>\n",
       "      <td>00599113||07/07/12||07/07/12||Legals||NOTICE O...</td>\n",
       "      <td>18880936</td>\n",
       "    </tr>\n",
       "    <tr>\n",
       "      <th>3</th>\n",
       "      <td>New Mexico</td>\n",
       "      <td>3046/7202012_18991650</td>\n",
       "      <td>http://www.publicnoticeads.com/NM/search/view....</td>\n",
       "      <td>San Juan</td>\n",
       "      <td>Farmington Daily Times</td>\n",
       "      <td>2012/07/07</td>\n",
       "      <td>STATE OF NEW MEXICO\\nCOUNTY OF SAN JUAN\\nIN TH...</td>\n",
       "      <td>18991650</td>\n",
       "    </tr>\n",
       "    <tr>\n",
       "      <th>4</th>\n",
       "      <td>New Jersey</td>\n",
       "      <td>1007/7062012_18881500</td>\n",
       "      <td>http://www.publicnoticeads.com/NJ/search/view....</td>\n",
       "      <td>Morris</td>\n",
       "      <td>Daily Record, Parsippany</td>\n",
       "      <td>2012/07/07</td>\n",
       "      <td>MORRIS COUNTY\\n\\nMORRIS COUNTY MUNICIPAL JOINT...</td>\n",
       "      <td>18881500</td>\n",
       "    </tr>\n",
       "  </tbody>\n",
       "</table>\n",
       "</div>"
      ],
      "text/plain": [
       "         state                     id  \\\n",
       "0  Mississippi   465/7132012_18934228   \n",
       "1      Arizona   63/10082012_19398827   \n",
       "2     Arkansas   3216/762012_18880936   \n",
       "3   New Mexico  3046/7202012_18991650   \n",
       "4   New Jersey  1007/7062012_18881500   \n",
       "\n",
       "                                                link    county  \\\n",
       "0  http://www.publicnoticeads.com/MS/search/view....    Warren   \n",
       "1  http://www.publicnoticeads.com/AZ/search/view....  Coconino   \n",
       "2  http://www.publicnoticeads.com/AR/search/view....  Crawford   \n",
       "3  http://www.publicnoticeads.com/NM/search/view....  San Juan   \n",
       "4  http://www.publicnoticeads.com/NJ/search/view....    Morris   \n",
       "\n",
       "                         newspaper        date  \\\n",
       "0                   Vicksburg Post  2012/07/07   \n",
       "1    Arizona Daily Sun (Flagstaff)  2012/07/07   \n",
       "2  Press Argus-Courier (Van Buren)  2012/07/07   \n",
       "3           Farmington Daily Times  2012/07/07   \n",
       "4         Daily Record, Parsippany  2012/07/07   \n",
       "\n",
       "                                             content  notice_id  \n",
       "0  ABANDONED VEHICLE\\nThe following vehicles are ...   18934228  \n",
       "1  Legal No. 15951 NOTICE OF CALL OF ELECTIONLock...   19398827  \n",
       "2  00599113||07/07/12||07/07/12||Legals||NOTICE O...   18880936  \n",
       "3  STATE OF NEW MEXICO\\nCOUNTY OF SAN JUAN\\nIN TH...   18991650  \n",
       "4  MORRIS COUNTY\\n\\nMORRIS COUNTY MUNICIPAL JOINT...   18881500  "
      ]
     },
     "execution_count": 36,
     "metadata": {},
     "output_type": "execute_result"
    }
   ],
   "source": [
    "df.head()"
   ]
  }
 ],
 "metadata": {
  "kernelspec": {
   "display_name": "Python 3",
   "language": "python",
   "name": "python3"
  },
  "language_info": {
   "codemirror_mode": {
    "name": "ipython",
    "version": 3
   },
   "file_extension": ".py",
   "mimetype": "text/x-python",
   "name": "python",
   "nbconvert_exporter": "python",
   "pygments_lexer": "ipython3",
   "version": "3.6.4"
  }
 },
 "nbformat": 4,
 "nbformat_minor": 2
}
