{
 "cells": [
  {
   "cell_type": "code",
   "execution_count": 49,
   "metadata": {},
   "outputs": [
    {
     "name": "stderr",
     "output_type": "stream",
     "text": [
      "C:\\Users\\Prime\\AppData\\Local\\Continuum\\anaconda3\\lib\\site-packages\\ipykernel_launcher.py:7: FutureWarning: from_csv is deprecated. Please use read_csv(...) instead. Note that some of the default arguments are different, so please refer to the documentation for from_csv when changing your function calls\n",
      "  import sys\n"
     ]
    }
   ],
   "source": [
    "import pandas as pd \n",
    "from string import printable\n",
    "st = set(printable)\n",
    "\n",
    "\n",
    "FILE = 'Property Notice_Filtered'\n",
    "df = pd.DataFrame.from_csv('./Data/'+FILE+'.csv')\n",
    "df.content = df.content.str.replace('/',' ') \n",
    "df.content = df.content.str.replace(',',' ') \n",
    "df.content = df.content.str.replace('(',' ')\n",
    "df.content = df.content.str.replace(')',' ') \n",
    "df.content = df.content.str.replace('\"','\\'') \n",
    "df[\"content\"] = df[\"content\"].apply(lambda x: ''.join([\" \" if  i not in  st else i for i in x]))"
   ]
  },
  {
   "cell_type": "code",
   "execution_count": 50,
   "metadata": {},
   "outputs": [],
   "source": [
    "df['len'] = df.content.str.len()"
   ]
  },
  {
   "cell_type": "code",
   "execution_count": 51,
   "metadata": {},
   "outputs": [
    {
     "data": {
      "text/plain": [
       "array([[<matplotlib.axes._subplots.AxesSubplot object at 0x00000292AEE67128>]],\n",
       "      dtype=object)"
      ]
     },
     "execution_count": 51,
     "metadata": {},
     "output_type": "execute_result"
    },
    {
     "data": {
      "image/png": "[encoded data removed]",
      "text/plain": [
       "<Figure size 1440x720 with 1 Axes>"
      ]
     },
     "metadata": {},
     "output_type": "display_data"
    }
   ],
   "source": [
    "df.hist(column='len', bins=200, figsize=(20,10))"
   ]
  },
  {
   "cell_type": "code",
   "execution_count": 41,
   "metadata": {},
   "outputs": [
    {
     "data": {
      "text/plain": [
       "0"
      ]
     },
     "execution_count": 41,
     "metadata": {},
     "output_type": "execute_result"
    }
   ],
   "source": [
    "len(df[df.len>1500])"
   ]
  },
  {
   "cell_type": "code",
   "execution_count": 42,
   "metadata": {},
   "outputs": [],
   "source": [
    "df = df[df.len<1500]"
   ]
  },
  {
   "cell_type": "code",
   "execution_count": 43,
   "metadata": {},
   "outputs": [
    {
     "data": {
      "text/plain": [
       "array([[<matplotlib.axes._subplots.AxesSubplot object at 0x00000292AE8349B0>]],\n",
       "      dtype=object)"
      ]
     },
     "execution_count": 43,
     "metadata": {},
     "output_type": "execute_result"
    },
    {
     "data": {
      "image/png": "[encoded data removed]",
      "text/plain": [
       "<Figure size 1440x720 with 1 Axes>"
      ]
     },
     "metadata": {},
     "output_type": "display_data"
    }
   ],
   "source": [
    "df.hist(column='len', bins=200, figsize=(20,10))"
   ]
  },
  {
   "cell_type": "code",
   "execution_count": 44,
   "metadata": {},
   "outputs": [],
   "source": [
    "df = df.sort_values(by=['state','len'])\n",
    "df.to_csv('./Data/'+FILE+'.csv')"
   ]
  },
  {
   "cell_type": "code",
   "execution_count": 52,
   "metadata": {},
   "outputs": [],
   "source": [
    "import nltk\n",
    "import csv\n",
    "import string\n",
    "import re\n",
    "from nltk import ngrams\n",
    "from collections import Counter\n",
    "\n",
    "non_speaker = re.compile('[A-Za-z]+: (.*)')\n",
    "\n",
    "def untokenize(ngram):\n",
    "    tokens = list(ngram)\n",
    "    return \"\".join([\" \"+i if not i.startswith(\"'\") and \\\n",
    "                             i not in string.punctuation and \\\n",
    "                             i != \"n't\"\n",
    "                          else i for i in tokens]).strip()\n",
    "\n",
    "def extract_phrases(text, phrase_counter, length):\n",
    "    for sent in nltk.sent_tokenize(text):\n",
    "        strip_speaker = non_speaker.match(sent)\n",
    "        if strip_speaker is not None:\n",
    "            sent = strip_speaker.group(1)\n",
    "        words = nltk.word_tokenize(sent)\n",
    "        for phrase in ngrams(words, length):\n",
    "            if all(word not in string.punctuation for word in phrase):\n",
    "                phrase_counter[untokenize(phrase)] += 1"
   ]
  },
  {
   "cell_type": "code",
   "execution_count": 53,
   "metadata": {},
   "outputs": [],
   "source": [
    "phrase_counter = Counter()\n",
    "\n",
    "def get_phrase(row):\n",
    "    extract_phrases(row, phrase_counter, 4)\n",
    "    return "
   ]
  },
  {
   "cell_type": "code",
   "execution_count": 54,
   "metadata": {},
   "outputs": [
    {
     "name": "stderr",
     "output_type": "stream",
     "text": [
      "C:\\Users\\Prime\\AppData\\Local\\Continuum\\anaconda3\\lib\\site-packages\\ipykernel_launcher.py:21: DeprecationWarning: generator 'ngrams' raised StopIteration\n"
     ]
    },
    {
     "name": "stdout",
     "output_type": "stream",
     "text": [
      "Done\n"
     ]
    }
   ],
   "source": [
    "df.content.apply(get_phrase)\n",
    "print('Done')"
   ]
  },
  {
   "cell_type": "code",
   "execution_count": 59,
   "metadata": {},
   "outputs": [
    {
     "name": "stdout",
     "output_type": "stream",
     "text": [
      "24158\n"
     ]
    }
   ],
   "source": [
    "print(len(df))"
   ]
  },
  {
   "cell_type": "code",
   "execution_count": 60,
   "metadata": {},
   "outputs": [
    {
     "name": "stdout",
     "output_type": "stream",
     "text": [
      "5808  appointed personal representative of\n",
      "5629  representative of this estate\n",
      "5608  personal representative of this\n",
      "4943  to the personal representative\n",
      "4883  been appointed personal representative\n",
      "3588  attorney for personal representative\n",
      "3046  personal representative of the\n",
      "2724  representative of the estate\n",
      "2463  the personal representative at\n",
      "2009  as personal representative of\n",
      "1968  attorneys for personal representative\n",
      "1603  personal representative c o\n",
      "1330  the undersigned personal representative\n",
      "1322  appointed as personal representative\n",
      "1285  personal representative at the\n",
      "1160  personal representative in the\n",
      "984   the personal representative c\n",
      "974   counsel for personal representative\n",
      "953   representative in the superior\n",
      "940   for personal representative in\n",
      "898   was appointed personal representative\n",
      "776   undersigned personal representative at\n",
      "704   the personal representative in\n",
      "625   representative in care of\n",
      "623   personal representative in care\n",
      "580   representative at the address\n",
      "557   representatives of this estate\n",
      "525   for the personal representative\n",
      "504   the personal representative of\n",
      "456   the personal representative or\n",
      "388   as the personal representative\n",
      "360   executor administrator personal representative\n",
      "350   personal representative superior court\n",
      "350   representative superior court of\n",
      "332   representatives of the estate\n",
      "317   for personal representative publish\n",
      "315   for personal representative pub\n",
      "311   personal representatives of this\n",
      "302   for personal representative superior\n",
      "286   jr. personal representative s\n",
      "285   undersigned personal representative c\n",
      "282   court as personal representative\n",
      "281   appointed personal representatives of\n",
      "258   appointment of personal representative\n",
      "257   appointed co-personal representatives of\n",
      "250   co-personal representatives of this\n",
      "247   2016 as personal representative\n",
      "233   for personal representative 3\n",
      "233   been appointed co-personal representatives\n",
      "232   representative at the law\n",
      "230   been appointed personal representatives\n",
      "226   personal representative or attorney\n",
      "223   representative or attorney at\n",
      "221   personal representatives of the\n",
      "218   the personal representative as\n",
      "198   personal representative at c\n",
      "198   representative at c o\n",
      "191   as personal representatives of\n",
      "188   personal representative arizona superior\n",
      "188   representative arizona superior court\n",
      "173   for personal representative 12\n",
      "170   personal representative or his\n",
      "166   for personal representative arizona\n",
      "163   representative at the following\n",
      "158   representative or his her\n",
      "157   personal representative as follows\n",
      "157   for personal representative 2\n",
      "156   representative in the second\n",
      "149   personal representative s david\n",
      "147   co-personal representatives of the\n",
      "145   for personal representative 4\n",
      "144   for personal representative 9\n",
      "144   for personal representative 11\n",
      "136   for personal representative 1\n",
      "136   for personal representative 10\n",
      "127   of the personal representative\n",
      "127   to the co-personal representatives\n",
      "127   2017 as personal representative\n",
      "124   against the personal representative\n",
      "123   personal representative s charles\n",
      "118   personal representative s john\n",
      "111   as co-personal representatives of\n",
      "110   for personal representative p.o\n",
      "108   representative of the above-captioned\n",
      "107   personal representative estate of\n",
      "102   for personal representative published\n",
      "101   representative of the above\n",
      "101   personal representative s robert\n",
      "99    to the personal representatives\n",
      "99    attorney for co-personal representatives\n",
      "97    undersigned personal representative in\n",
      "92    appointed as co-personal representatives\n",
      "90    personal representative's attorney\n",
      "89    personal representative 3tc pub\n",
      "89    for personal representative no\n",
      "88    appointed as personal representatives\n",
      "86    personal representative s james\n",
      "86    personal representative published in\n",
      "85    representative at the offices\n",
      "84    personal representative for the\n",
      "84    representative or filed with\n",
      "83    appointed the personal representative\n",
      "81    representative for the estate\n",
      "81    personal representative or filed\n",
      "80    the personal representative's\n",
      "77    for personal representative 5\n",
      "75    personal representatives c o\n",
      "74    personal representative s gary\n",
      "73    attorneys for personal representatives\n",
      "73    counsel for co-personal representatives\n",
      "69    representative c o emily\n",
      "66    representative at post office\n",
      "66    attorneys for co-personal representatives\n",
      "66    personal representative s patricia\n",
      "66    undersigned personal representative or\n",
      "65    personal representative law offices\n",
      "64    representative at the office\n",
      "63    personal representative at post\n",
      "62    the personal representative is\n",
      "61    from the personal representative\n",
      "61    personal representative as prescribed\n",
      "61    representative as prescribed in\n",
      "61    sr. personal representative s\n",
      "60    as personal representative for\n",
      "60    personal representative by s\n",
      "60    for personal representative by\n",
      "60    personal representative s william\n",
      "60    personal representative s linda\n",
      "58    of personal representative case\n",
      "58    smith personal representative s\n",
      "57    representative hahn law office\n",
      "56    the co-personal representatives at\n",
      "55    representative c o hahn\n",
      "54    personal representative at gust\n",
      "54    representative at gust rosenfeld\n",
      "54    personal representative s thomas\n",
      "53    attorney for personal representatives\n",
      "53    the personal representatives c\n",
      "52    personal representative s ronald\n",
      "51    personal representative hahn law\n",
      "51    representative law offices of\n",
      "50    representative c o law\n",
      "50    personal representative for this\n",
      "50    representative c o the\n",
      "49    for personal representative john\n",
      "49    court as personal representatives\n",
      "49    personal representative s cynthia\n",
      "48    personal representative 3tvi publish\n"
     ]
    }
   ],
   "source": [
    "most_common_phrases = phrase_counter.most_common(5000)\n",
    "for k,v in most_common_phrases:\n",
    "    if 'representative' in k:\n",
    "        print('{0: <5}'.format(v), k)"
   ]
  }
 ],
 "metadata": {
  "kernelspec": {
   "display_name": "Python 3",
   "language": "python",
   "name": "python3"
  },
  "language_info": {
   "codemirror_mode": {
    "name": "ipython",
    "version": 3
   },
   "file_extension": ".py",
   "mimetype": "text/x-python",
   "name": "python",
   "nbconvert_exporter": "python",
   "pygments_lexer": "ipython3",
   "version": "3.6.4"
  }
 },
 "nbformat": 4,
 "nbformat_minor": 2
}
