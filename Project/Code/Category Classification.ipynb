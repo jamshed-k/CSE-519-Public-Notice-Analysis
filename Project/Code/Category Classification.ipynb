{
 "cells": [
  {
   "cell_type": "code",
   "execution_count": 52,
   "metadata": {},
   "outputs": [],
   "source": [
    "import numpy\n",
    "from keras.models import Sequential\n",
    "from keras.layers import Dense,Conv1D,MaxPooling1D\n",
    "from keras.layers import Dropout\n",
    "from keras.layers import LSTM, Flatten\n",
    "from keras.layers.embeddings import Embedding\n",
    "from keras.preprocessing import sequence\n",
    "from keras.preprocessing import sequence\n",
    "from keras.preprocessing import sequence\n",
    "from keras.models import Sequential\n",
    "from keras.layers import Dense, Dropout, Activation\n",
    "from keras.layers import Embedding\n",
    "from keras.layers import Conv1D, GlobalMaxPooling1D\n",
    "# fix random seed for reproducibility\n",
    "#numpy.random.seed(7)\n",
    "from keras_tqdm import TQDMNotebookCallback\n",
    "from sklearn.preprocessing import LabelBinarizer\n",
    "from sklearn.feature_extraction.text import TfidfVectorizer, CountVectorizer\n",
    "import seaborn as sns\n",
    "import numpy as np\n",
    "\n",
    "import pandas as pd\n",
    "import numpy as np\n",
    "import pickle\n",
    "from keras.preprocessing.text import Tokenizer\n",
    "from keras.models import Sequential\n",
    "from keras.layers import Activation, Dense, Dropout\n",
    "from sklearn.preprocessing import LabelBinarizer\n",
    "import sklearn.datasets as skds\n",
    "from matplotlib import pyplot"
   ]
  },
  {
   "cell_type": "code",
   "execution_count": 53,
   "metadata": {},
   "outputs": [
    {
     "name": "stdout",
     "output_type": "stream",
     "text": [
      "237046\n"
     ]
    },
    {
     "data": {
      "text/html": [
       "<div>\n",
       "<style scoped>\n",
       "    .dataframe tbody tr th:only-of-type {\n",
       "        vertical-align: middle;\n",
       "    }\n",
       "\n",
       "    .dataframe tbody tr th {\n",
       "        vertical-align: top;\n",
       "    }\n",
       "\n",
       "    .dataframe thead th {\n",
       "        text-align: right;\n",
       "    }\n",
       "</style>\n",
       "<table border=\"1\" class=\"dataframe\">\n",
       "  <thead>\n",
       "    <tr style=\"text-align: right;\">\n",
       "      <th></th>\n",
       "      <th>Unnamed: 0</th>\n",
       "      <th>state</th>\n",
       "      <th>id</th>\n",
       "      <th>link</th>\n",
       "      <th>county</th>\n",
       "      <th>newspaper</th>\n",
       "      <th>date</th>\n",
       "      <th>content</th>\n",
       "      <th>notice_id</th>\n",
       "      <th>category</th>\n",
       "      <th>...</th>\n",
       "      <th>Fictitious Business Names (DBA)</th>\n",
       "      <th>Water Resumes</th>\n",
       "      <th>Tax Deeds</th>\n",
       "      <th>Seizures</th>\n",
       "      <th>Forfeited Property</th>\n",
       "      <th>Estate Claims</th>\n",
       "      <th>count_catogory</th>\n",
       "      <th>category_no_duplicate</th>\n",
       "      <th>category_no_duplicate_str</th>\n",
       "      <th>count_catogory_no_duplicate</th>\n",
       "    </tr>\n",
       "  </thead>\n",
       "  <tbody>\n",
       "    <tr>\n",
       "      <th>0</th>\n",
       "      <td>0</td>\n",
       "      <td>Mississippi</td>\n",
       "      <td>626/2272017_23983816</td>\n",
       "      <td>http://www.publicnoticeads.com/MS/search/view....</td>\n",
       "      <td>Pearl River</td>\n",
       "      <td>Picayune Item</td>\n",
       "      <td>2017/02/24</td>\n",
       "      <td>notice of auction  on friday, march 17, 2017 a...</td>\n",
       "      <td>23983816.0</td>\n",
       "      <td>['Auctions']</td>\n",
       "      <td>...</td>\n",
       "      <td>False</td>\n",
       "      <td>False</td>\n",
       "      <td>False</td>\n",
       "      <td>False</td>\n",
       "      <td>False</td>\n",
       "      <td>False</td>\n",
       "      <td>1</td>\n",
       "      <td>['Auctions']</td>\n",
       "      <td>['Auctions']</td>\n",
       "      <td>1</td>\n",
       "    </tr>\n",
       "    <tr>\n",
       "      <th>1</th>\n",
       "      <td>1</td>\n",
       "      <td>Mississippi</td>\n",
       "      <td>626/2272017_23983815</td>\n",
       "      <td>http://www.publicnoticeads.com/MS/search/view....</td>\n",
       "      <td>Pearl River</td>\n",
       "      <td>Picayune Item</td>\n",
       "      <td>2017/02/24</td>\n",
       "      <td>public notice  on october 28, 2015, the pa sta...</td>\n",
       "      <td>23983815.0</td>\n",
       "      <td>['License Suspension']</td>\n",
       "      <td>...</td>\n",
       "      <td>False</td>\n",
       "      <td>False</td>\n",
       "      <td>False</td>\n",
       "      <td>False</td>\n",
       "      <td>False</td>\n",
       "      <td>False</td>\n",
       "      <td>1</td>\n",
       "      <td>['License Suspension']</td>\n",
       "      <td>['License Suspension']</td>\n",
       "      <td>1</td>\n",
       "    </tr>\n",
       "    <tr>\n",
       "      <th>2</th>\n",
       "      <td>6</td>\n",
       "      <td>Louisiana</td>\n",
       "      <td>346/2242017_23980782</td>\n",
       "      <td>http://www.publicnoticeads.com/LA/search/view....</td>\n",
       "      <td>Lincoln</td>\n",
       "      <td>The Ruston Daily Leader</td>\n",
       "      <td>2017/02/24</td>\n",
       "      <td>february 24 legals      notice of special elec...</td>\n",
       "      <td>23980782.0</td>\n",
       "      <td>['Elections']</td>\n",
       "      <td>...</td>\n",
       "      <td>False</td>\n",
       "      <td>False</td>\n",
       "      <td>False</td>\n",
       "      <td>False</td>\n",
       "      <td>False</td>\n",
       "      <td>False</td>\n",
       "      <td>1</td>\n",
       "      <td>['Elections']</td>\n",
       "      <td>['Elections']</td>\n",
       "      <td>1</td>\n",
       "    </tr>\n",
       "    <tr>\n",
       "      <th>3</th>\n",
       "      <td>17</td>\n",
       "      <td>Louisiana</td>\n",
       "      <td>363/3012017_23987556</td>\n",
       "      <td>http://www.publicnoticeads.com/LA/search/view....</td>\n",
       "      <td>St. Bernard</td>\n",
       "      <td>The St. Bernard Voice</td>\n",
       "      <td>2017/02/24</td>\n",
       "      <td>sheriff's sales bank of america na vs. katedra...</td>\n",
       "      <td>23987556.0</td>\n",
       "      <td>['Auctions']</td>\n",
       "      <td>...</td>\n",
       "      <td>False</td>\n",
       "      <td>False</td>\n",
       "      <td>False</td>\n",
       "      <td>False</td>\n",
       "      <td>False</td>\n",
       "      <td>False</td>\n",
       "      <td>1</td>\n",
       "      <td>['Auctions']</td>\n",
       "      <td>['Auctions']</td>\n",
       "      <td>1</td>\n",
       "    </tr>\n",
       "    <tr>\n",
       "      <th>4</th>\n",
       "      <td>20</td>\n",
       "      <td>Louisiana</td>\n",
       "      <td>363/3012017_23987557</td>\n",
       "      <td>http://www.publicnoticeads.com/LA/search/view....</td>\n",
       "      <td>St. Bernard</td>\n",
       "      <td>The St. Bernard Voice</td>\n",
       "      <td>2017/02/24</td>\n",
       "      <td>sheriff's sales gulf coast bank and trust co v...</td>\n",
       "      <td>23987557.0</td>\n",
       "      <td>['Auctions']</td>\n",
       "      <td>...</td>\n",
       "      <td>False</td>\n",
       "      <td>False</td>\n",
       "      <td>False</td>\n",
       "      <td>False</td>\n",
       "      <td>False</td>\n",
       "      <td>False</td>\n",
       "      <td>1</td>\n",
       "      <td>['Auctions']</td>\n",
       "      <td>['Auctions']</td>\n",
       "      <td>1</td>\n",
       "    </tr>\n",
       "  </tbody>\n",
       "</table>\n",
       "<p>5 rows × 49 columns</p>\n",
       "</div>"
      ],
      "text/plain": [
       "   Unnamed: 0        state                    id  \\\n",
       "0           0  Mississippi  626/2272017_23983816   \n",
       "1           1  Mississippi  626/2272017_23983815   \n",
       "2           6    Louisiana  346/2242017_23980782   \n",
       "3          17    Louisiana  363/3012017_23987556   \n",
       "4          20    Louisiana  363/3012017_23987557   \n",
       "\n",
       "                                                link       county  \\\n",
       "0  http://www.publicnoticeads.com/MS/search/view....  Pearl River   \n",
       "1  http://www.publicnoticeads.com/MS/search/view....  Pearl River   \n",
       "2  http://www.publicnoticeads.com/LA/search/view....      Lincoln   \n",
       "3  http://www.publicnoticeads.com/LA/search/view....  St. Bernard   \n",
       "4  http://www.publicnoticeads.com/LA/search/view....  St. Bernard   \n",
       "\n",
       "                 newspaper        date  \\\n",
       "0            Picayune Item  2017/02/24   \n",
       "1            Picayune Item  2017/02/24   \n",
       "2  The Ruston Daily Leader  2017/02/24   \n",
       "3    The St. Bernard Voice  2017/02/24   \n",
       "4    The St. Bernard Voice  2017/02/24   \n",
       "\n",
       "                                             content   notice_id  \\\n",
       "0  notice of auction  on friday, march 17, 2017 a...  23983816.0   \n",
       "1  public notice  on october 28, 2015, the pa sta...  23983815.0   \n",
       "2  february 24 legals      notice of special elec...  23980782.0   \n",
       "3  sheriff's sales bank of america na vs. katedra...  23987556.0   \n",
       "4  sheriff's sales gulf coast bank and trust co v...  23987557.0   \n",
       "\n",
       "                 category             ...               \\\n",
       "0            ['Auctions']             ...                \n",
       "1  ['License Suspension']             ...                \n",
       "2           ['Elections']             ...                \n",
       "3            ['Auctions']             ...                \n",
       "4            ['Auctions']             ...                \n",
       "\n",
       "   Fictitious Business Names (DBA)  Water Resumes  Tax Deeds  Seizures  \\\n",
       "0                            False          False      False     False   \n",
       "1                            False          False      False     False   \n",
       "2                            False          False      False     False   \n",
       "3                            False          False      False     False   \n",
       "4                            False          False      False     False   \n",
       "\n",
       "   Forfeited Property  Estate Claims  count_catogory   category_no_duplicate  \\\n",
       "0               False          False               1            ['Auctions']   \n",
       "1               False          False               1  ['License Suspension']   \n",
       "2               False          False               1           ['Elections']   \n",
       "3               False          False               1            ['Auctions']   \n",
       "4               False          False               1            ['Auctions']   \n",
       "\n",
       "   category_no_duplicate_str  count_catogory_no_duplicate  \n",
       "0               ['Auctions']                            1  \n",
       "1     ['License Suspension']                            1  \n",
       "2              ['Elections']                            1  \n",
       "3               ['Auctions']                            1  \n",
       "4               ['Auctions']                            1  \n",
       "\n",
       "[5 rows x 49 columns]"
      ]
     },
     "execution_count": 53,
     "metadata": {},
     "output_type": "execute_result"
    }
   ],
   "source": [
    "import pandas as pd\n",
    "df_temp = pd.read_csv('../Data/all_combined.csv')\n",
    "print(len(df_temp))\n",
    "df_temp.head()"
   ]
  },
  {
   "cell_type": "code",
   "execution_count": 54,
   "metadata": {},
   "outputs": [],
   "source": [
    "df_temp = df_temp[['content', 'category_no_duplicate']]"
   ]
  },
  {
   "cell_type": "code",
   "execution_count": 55,
   "metadata": {},
   "outputs": [],
   "source": [
    "df_temp = df_temp.rename(columns={'category_no_duplicate': 'category'})"
   ]
  },
  {
   "cell_type": "code",
   "execution_count": 56,
   "metadata": {},
   "outputs": [],
   "source": [
    "df_temp.category = df_temp.category.str.replace('[','')\n",
    "df_temp.category = df_temp.category.str.replace(']','')\n",
    "df_temp.category = df_temp.category.str.replace('\\'','')"
   ]
  },
  {
   "cell_type": "code",
   "execution_count": 57,
   "metadata": {},
   "outputs": [
    {
     "data": {
      "text/plain": [
       "<Figure size 576x432 with 0 Axes>"
      ]
     },
     "metadata": {},
     "output_type": "display_data"
    },
    {
     "data": {
      "image/png": "[encoded data removed]",
      "text/plain": [
       "<Figure size 1440x720 with 1 Axes>"
      ]
     },
     "metadata": {},
     "output_type": "display_data"
    }
   ],
   "source": [
    "import matplotlib.pyplot as plt\n",
    "fig = plt.figure(figsize=(8,6))\n",
    "df_temp.groupby('category').count().plot.bar(ylim=0, figsize=(20,10))\n",
    "plt.show()"
   ]
  },
  {
   "cell_type": "code",
   "execution_count": 200,
   "metadata": {},
   "outputs": [
    {
     "data": {
      "text/plain": [
       "array(['Auctions', 'License Suspension', 'Elections', 'Proceedings',\n",
       "       'Bids', 'AOO', 'AOI', 'AOD', 'Citation', 'Property Notice',\n",
       "       'Public Hearings', 'Ordinances', 'Summon', 'Liquor Notices',\n",
       "       'Miscellaneous', 'Name Changes', 'Notice to Interested Persons',\n",
       "       'Probate Notices', 'Tax Notice', 'Government Notices',\n",
       "       'Foreclosures', 'Metro Districts',\n",
       "       'Fictitious Business Names (DBA)', 'Water Resumes',\n",
       "       'Prevailing Wage Notices'], dtype=object)"
      ]
     },
     "execution_count": 200,
     "metadata": {},
     "output_type": "execute_result"
    }
   ],
   "source": [
    "df_temp.category.unique()"
   ]
  },
  {
   "cell_type": "code",
   "execution_count": 226,
   "metadata": {},
   "outputs": [],
   "source": [
    "CATEGORY= ['Auctions', 'AOO',]\n",
    "#'Proceedings', 'Bids', , 'Property Notice', 'Public Hearings', 'Summon', 'Name Changes']"
   ]
  },
  {
   "cell_type": "code",
   "execution_count": 227,
   "metadata": {},
   "outputs": [],
   "source": [
    "TARGET  = 'Probate Notices'"
   ]
  },
  {
   "cell_type": "code",
   "execution_count": 228,
   "metadata": {},
   "outputs": [],
   "source": [
    "df = df_temp[df_temp['category']==TARGET]"
   ]
  },
  {
   "cell_type": "code",
   "execution_count": 229,
   "metadata": {},
   "outputs": [],
   "source": [
    "#df = df_temp[df_temp['category'].isin(CATEGORY)]"
   ]
  },
  {
   "cell_type": "code",
   "execution_count": 230,
   "metadata": {},
   "outputs": [
    {
     "name": "stdout",
     "output_type": "stream",
     "text": [
      "2021\n"
     ]
    }
   ],
   "source": [
    "n = len(df)\n",
    "print(n)"
   ]
  },
  {
   "cell_type": "code",
   "execution_count": 231,
   "metadata": {},
   "outputs": [
    {
     "data": {
      "text/html": [
       "<div>\n",
       "<style scoped>\n",
       "    .dataframe tbody tr th:only-of-type {\n",
       "        vertical-align: middle;\n",
       "    }\n",
       "\n",
       "    .dataframe tbody tr th {\n",
       "        vertical-align: top;\n",
       "    }\n",
       "\n",
       "    .dataframe thead th {\n",
       "        text-align: right;\n",
       "    }\n",
       "</style>\n",
       "<table border=\"1\" class=\"dataframe\">\n",
       "  <thead>\n",
       "    <tr style=\"text-align: right;\">\n",
       "      <th></th>\n",
       "      <th>content</th>\n",
       "      <th>category</th>\n",
       "    </tr>\n",
       "  </thead>\n",
       "  <tbody>\n",
       "    <tr>\n",
       "      <th>78584</th>\n",
       "      <td>notice to creditors  letters of adminstration,...</td>\n",
       "      <td>Probate Notices</td>\n",
       "    </tr>\n",
       "    <tr>\n",
       "      <th>78682</th>\n",
       "      <td>notice of hearing on petition for formal proba...</td>\n",
       "      <td>Probate Notices</td>\n",
       "    </tr>\n",
       "    <tr>\n",
       "      <th>78686</th>\n",
       "      <td>notice of informal probate of will and appoint...</td>\n",
       "      <td>Probate Notices</td>\n",
       "    </tr>\n",
       "    <tr>\n",
       "      <th>78687</th>\n",
       "      <td>non-probate notice to creditors by publication...</td>\n",
       "      <td>Probate Notices</td>\n",
       "    </tr>\n",
       "    <tr>\n",
       "      <th>78730</th>\n",
       "      <td>non-probate notice to creditors by publication...</td>\n",
       "      <td>Probate Notices</td>\n",
       "    </tr>\n",
       "  </tbody>\n",
       "</table>\n",
       "</div>"
      ],
      "text/plain": [
       "                                                 content         category\n",
       "78584  notice to creditors  letters of adminstration,...  Probate Notices\n",
       "78682  notice of hearing on petition for formal proba...  Probate Notices\n",
       "78686  notice of informal probate of will and appoint...  Probate Notices\n",
       "78687  non-probate notice to creditors by publication...  Probate Notices\n",
       "78730  non-probate notice to creditors by publication...  Probate Notices"
      ]
     },
     "execution_count": 231,
     "metadata": {},
     "output_type": "execute_result"
    }
   ],
   "source": [
    "df.head()"
   ]
  },
  {
   "cell_type": "code",
   "execution_count": 232,
   "metadata": {},
   "outputs": [],
   "source": [
    "df = df.append(df_temp[df_temp['category']!=TARGET].sample(n=n))"
   ]
  },
  {
   "cell_type": "code",
   "execution_count": 233,
   "metadata": {},
   "outputs": [
    {
     "data": {
      "text/plain": [
       "4042"
      ]
     },
     "execution_count": 233,
     "metadata": {},
     "output_type": "execute_result"
    }
   ],
   "source": [
    "len(df)"
   ]
  },
  {
   "cell_type": "code",
   "execution_count": 234,
   "metadata": {},
   "outputs": [
    {
     "data": {
      "text/html": [
       "<div>\n",
       "<style scoped>\n",
       "    .dataframe tbody tr th:only-of-type {\n",
       "        vertical-align: middle;\n",
       "    }\n",
       "\n",
       "    .dataframe tbody tr th {\n",
       "        vertical-align: top;\n",
       "    }\n",
       "\n",
       "    .dataframe thead th {\n",
       "        text-align: right;\n",
       "    }\n",
       "</style>\n",
       "<table border=\"1\" class=\"dataframe\">\n",
       "  <thead>\n",
       "    <tr style=\"text-align: right;\">\n",
       "      <th></th>\n",
       "      <th>content</th>\n",
       "      <th>category</th>\n",
       "    </tr>\n",
       "  </thead>\n",
       "  <tbody>\n",
       "    <tr>\n",
       "      <th>78584</th>\n",
       "      <td>notice to creditors  letters of adminstration,...</td>\n",
       "      <td>Probate Notices</td>\n",
       "    </tr>\n",
       "    <tr>\n",
       "      <th>78682</th>\n",
       "      <td>notice of hearing on petition for formal proba...</td>\n",
       "      <td>Probate Notices</td>\n",
       "    </tr>\n",
       "    <tr>\n",
       "      <th>78686</th>\n",
       "      <td>notice of informal probate of will and appoint...</td>\n",
       "      <td>Probate Notices</td>\n",
       "    </tr>\n",
       "    <tr>\n",
       "      <th>78687</th>\n",
       "      <td>non-probate notice to creditors by publication...</td>\n",
       "      <td>Probate Notices</td>\n",
       "    </tr>\n",
       "    <tr>\n",
       "      <th>78730</th>\n",
       "      <td>non-probate notice to creditors by publication...</td>\n",
       "      <td>Probate Notices</td>\n",
       "    </tr>\n",
       "  </tbody>\n",
       "</table>\n",
       "</div>"
      ],
      "text/plain": [
       "                                                 content         category\n",
       "78584  notice to creditors  letters of adminstration,...  Probate Notices\n",
       "78682  notice of hearing on petition for formal proba...  Probate Notices\n",
       "78686  notice of informal probate of will and appoint...  Probate Notices\n",
       "78687  non-probate notice to creditors by publication...  Probate Notices\n",
       "78730  non-probate notice to creditors by publication...  Probate Notices"
      ]
     },
     "execution_count": 234,
     "metadata": {},
     "output_type": "execute_result"
    }
   ],
   "source": [
    "df.head()"
   ]
  },
  {
   "cell_type": "code",
   "execution_count": 235,
   "metadata": {},
   "outputs": [
    {
     "data": {
      "text/plain": [
       "array(['Probate Notices', 'Property Notice', 'Bids', 'Tax Notice',\n",
       "       'Public Hearings', 'Auctions', 'AOO', 'Proceedings', 'Elections',\n",
       "       'Name Changes', 'Citation', 'Summon', 'Foreclosures', 'AOI', 'AOD',\n",
       "       'Miscellaneous', 'Notice to Interested Persons', 'Ordinances',\n",
       "       'Liquor Notices', 'Government Notices'], dtype=object)"
      ]
     },
     "execution_count": 235,
     "metadata": {},
     "output_type": "execute_result"
    }
   ],
   "source": [
    "df.category.unique()"
   ]
  },
  {
   "cell_type": "code",
   "execution_count": 236,
   "metadata": {},
   "outputs": [
    {
     "data": {
      "image/png": "[encoded data removed]",
      "text/plain": [
       "<Figure size 1440x720 with 1 Axes>"
      ]
     },
     "metadata": {},
     "output_type": "display_data"
    }
   ],
   "source": [
    "import matplotlib.pyplot as plt\n",
    "fig = plt.figure(figsize=(8,6))\n",
    "df.groupby('category')['content'].count().plot.bar(ylim=0, figsize=(20,10))\n",
    "plt.show()"
   ]
  },
  {
   "cell_type": "code",
   "execution_count": 237,
   "metadata": {},
   "outputs": [],
   "source": [
    "def replace_other(row):\n",
    "    if row !=TARGET:\n",
    "        return 'Other'\n",
    "    else:\n",
    "        return TARGET"
   ]
  },
  {
   "cell_type": "code",
   "execution_count": 238,
   "metadata": {},
   "outputs": [],
   "source": [
    "df['category_new'] = df.category.apply(replace_other)"
   ]
  },
  {
   "cell_type": "code",
   "execution_count": 239,
   "metadata": {},
   "outputs": [
    {
     "data": {
      "image/png": "[encoded data removed]",
      "text/plain": [
       "<Figure size 1440x720 with 1 Axes>"
      ]
     },
     "metadata": {},
     "output_type": "display_data"
    }
   ],
   "source": [
    "import matplotlib.pyplot as plt\n",
    "fig = plt.figure(figsize=(8,6))\n",
    "df.groupby('category_new')['content'].count().plot.bar(ylim=0, figsize=(20,10))\n",
    "plt.show()"
   ]
  },
  {
   "cell_type": "code",
   "execution_count": 240,
   "metadata": {},
   "outputs": [],
   "source": [
    "# Data cleaning \n",
    "df[\"content\"] = df[\"content\"].str.strip()\n",
    "df[\"content\"] = df[\"content\"].str.lower()\n",
    "df[\"content\"] = df[\"content\"].str.replace(r'\\r',' ')\n",
    "df[\"content\"] = df[\"content\"].str.replace(r'\\n',' ')\n",
    "df[\"content\"] = df[\"content\"].str.replace('[^\\w\\s]',' ')"
   ]
  },
  {
   "cell_type": "code",
   "execution_count": 241,
   "metadata": {},
   "outputs": [],
   "source": [
    "df = df.rename(columns={'content': 'message'})"
   ]
  },
  {
   "cell_type": "code",
   "execution_count": 242,
   "metadata": {},
   "outputs": [
    {
     "data": {
      "text/html": [
       "<div>\n",
       "<style scoped>\n",
       "    .dataframe tbody tr th:only-of-type {\n",
       "        vertical-align: middle;\n",
       "    }\n",
       "\n",
       "    .dataframe tbody tr th {\n",
       "        vertical-align: top;\n",
       "    }\n",
       "\n",
       "    .dataframe thead th {\n",
       "        text-align: right;\n",
       "    }\n",
       "</style>\n",
       "<table border=\"1\" class=\"dataframe\">\n",
       "  <thead>\n",
       "    <tr style=\"text-align: right;\">\n",
       "      <th></th>\n",
       "      <th>category_new</th>\n",
       "      <th>message</th>\n",
       "      <th>category_id</th>\n",
       "    </tr>\n",
       "  </thead>\n",
       "  <tbody>\n",
       "    <tr>\n",
       "      <th>78584</th>\n",
       "      <td>Probate Notices</td>\n",
       "      <td>notice to creditors  letters of adminstration ...</td>\n",
       "      <td>0</td>\n",
       "    </tr>\n",
       "    <tr>\n",
       "      <th>78682</th>\n",
       "      <td>Probate Notices</td>\n",
       "      <td>notice of hearing on petition for formal proba...</td>\n",
       "      <td>0</td>\n",
       "    </tr>\n",
       "    <tr>\n",
       "      <th>78686</th>\n",
       "      <td>Probate Notices</td>\n",
       "      <td>notice of informal probate of will and appoint...</td>\n",
       "      <td>0</td>\n",
       "    </tr>\n",
       "    <tr>\n",
       "      <th>78687</th>\n",
       "      <td>Probate Notices</td>\n",
       "      <td>non probate notice to creditors by publication...</td>\n",
       "      <td>0</td>\n",
       "    </tr>\n",
       "    <tr>\n",
       "      <th>78730</th>\n",
       "      <td>Probate Notices</td>\n",
       "      <td>non probate notice to creditors by publication...</td>\n",
       "      <td>0</td>\n",
       "    </tr>\n",
       "  </tbody>\n",
       "</table>\n",
       "</div>"
      ],
      "text/plain": [
       "          category_new                                            message  \\\n",
       "78584  Probate Notices  notice to creditors  letters of adminstration ...   \n",
       "78682  Probate Notices  notice of hearing on petition for formal proba...   \n",
       "78686  Probate Notices  notice of informal probate of will and appoint...   \n",
       "78687  Probate Notices  non probate notice to creditors by publication...   \n",
       "78730  Probate Notices  non probate notice to creditors by publication...   \n",
       "\n",
       "       category_id  \n",
       "78584            0  \n",
       "78682            0  \n",
       "78686            0  \n",
       "78687            0  \n",
       "78730            0  "
      ]
     },
     "execution_count": 242,
     "metadata": {},
     "output_type": "execute_result"
    }
   ],
   "source": [
    "from io import StringIO\n",
    "col = ['category_new', 'message']\n",
    "df = df[col]\n",
    "df = df[pd.notnull(df['message'])]\n",
    "df.columns = ['category_new', 'message']\n",
    "df['category_id'] = df['category_new'].factorize()[0]\n",
    "category_id_df = df[['category_new', 'category_id']].drop_duplicates().sort_values('category_id')\n",
    "category_to_id = dict(category_id_df.values)\n",
    "id_to_category = dict(category_id_df[['category_id', 'category_new']].values)\n",
    "df.head()"
   ]
  },
  {
   "cell_type": "code",
   "execution_count": 243,
   "metadata": {},
   "outputs": [],
   "source": [
    "# lets take 80% data as training and remaining 20% for test.\n",
    "train_size = int(len(df) * .8)\n",
    "\n",
    "train_posts = df['message'][:train_size]\n",
    "train_tags = df['category_id'][:train_size]\n",
    "\n",
    "test_posts = df['message'][train_size:]\n",
    "test_tags = df['category_id'][train_size:]"
   ]
  },
  {
   "cell_type": "code",
   "execution_count": 244,
   "metadata": {},
   "outputs": [],
   "source": [
    "def train_test_eq_split(X, y, n_per_class, random_state=None):\n",
    "    if random_state:\n",
    "        np.random.seed(random_state)\n",
    "    sampled = X.groupby(y, sort=False).apply(\n",
    "        lambda frame: frame.sample(n_per_class))\n",
    "    mask = sampled.index.get_level_values(1)\n",
    "\n",
    "    X_train = X.drop(mask)\n",
    "    X_test = X.loc[mask]\n",
    "    y_train = y.drop(mask)\n",
    "    y_test = y.loc[mask]\n",
    "\n",
    "    return X_train, X_test, y_train, y_test"
   ]
  },
  {
   "cell_type": "code",
   "execution_count": 245,
   "metadata": {},
   "outputs": [],
   "source": [
    "N_PER_CLASS = 500\n",
    "train_posts, test_posts, train_tags, test_tags = train_test_eq_split(df['message'], df['category_id'], n_per_class=N_PER_CLASS, random_state=42)"
   ]
  },
  {
   "cell_type": "code",
   "execution_count": 246,
   "metadata": {},
   "outputs": [],
   "source": [
    "# 20 news groups\n",
    "num_labels = 2\n",
    "vocab_size = 15000\n",
    "batch_size = 100\n",
    "\n",
    "# set parameters:\n",
    "max_features = 5000\n",
    "maxlen = 400\n",
    "batch_size = 32\n",
    "embedding_dims = 50\n",
    "filters = 250\n",
    "kernel_size = 3\n",
    "hidden_dims = 250\n",
    "epochs = 2\n",
    "\n",
    "# define Tokenizer with Vocab Size\n",
    "tokenizer = Tokenizer(num_words=vocab_size)\n",
    "tokenizer.fit_on_texts(train_posts)\n",
    "\n",
    "#x_train = tokenizer.texts_to_matrix(train_posts)#, mode='tfidf')\n",
    "#x_test = tokenizer.texts_to_matrix(test_posts)#, mode='tfidf')\n",
    "\n",
    "count_vect = CountVectorizer(analyzer='word', token_pattern=r'\\w{1,}')\n",
    "count_vect.fit(df['message'])\n",
    "\n",
    "# transform the training and validation data using count vectorizer object\n",
    "x_train = count_vect.transform(train_posts)\n",
    "x_test = count_vect.transform(test_posts)\n",
    "\n",
    "encoder = LabelBinarizer()\n",
    "encoder.fit(train_tags)\n",
    "y_train = encoder.transform(train_tags)\n",
    "y_test = encoder.transform(test_tags)"
   ]
  },
  {
   "cell_type": "code",
   "execution_count": 247,
   "metadata": {},
   "outputs": [
    {
     "data": {
      "text/plain": [
       "(3042, 29674)"
      ]
     },
     "execution_count": 247,
     "metadata": {},
     "output_type": "execute_result"
    }
   ],
   "source": [
    "x_train.shape"
   ]
  },
  {
   "cell_type": "code",
   "execution_count": 248,
   "metadata": {},
   "outputs": [
    {
     "name": "stdout",
     "output_type": "stream",
     "text": [
      "(3042, 200)\n",
      "(1000, 200)\n"
     ]
    }
   ],
   "source": [
    "x_train= x_train[:,:200]\n",
    "x_test= x_test[:,:200]\n",
    "print(x_train.shape)\n",
    "print(x_test.shape)"
   ]
  },
  {
   "cell_type": "code",
   "execution_count": 249,
   "metadata": {},
   "outputs": [],
   "source": [
    "# create the model\n",
    "embedding_vecor_length = 128\n",
    "top_words = 1000\n",
    "max_review_length = 200"
   ]
  },
  {
   "cell_type": "code",
   "execution_count": 250,
   "metadata": {},
   "outputs": [
    {
     "name": "stdout",
     "output_type": "stream",
     "text": [
      "_________________________________________________________________\n",
      "Layer (type)                 Output Shape              Param #   \n",
      "=================================================================\n",
      "embedding_6 (Embedding)      (None, 200, 128)          128000    \n",
      "_________________________________________________________________\n",
      "lstm_11 (LSTM)               (None, 200, 100)          91600     \n",
      "_________________________________________________________________\n",
      "lstm_12 (LSTM)               (None, 200, 100)          80400     \n",
      "_________________________________________________________________\n",
      "flatten_6 (Flatten)          (None, 20000)             0         \n",
      "_________________________________________________________________\n",
      "dropout_6 (Dropout)          (None, 20000)             0         \n",
      "_________________________________________________________________\n",
      "dense_11 (Dense)             (None, 512)               10240512  \n",
      "_________________________________________________________________\n",
      "dense_12 (Dense)             (None, 1)                 513       \n",
      "=================================================================\n",
      "Total params: 10,541,025\n",
      "Trainable params: 10,541,025\n",
      "Non-trainable params: 0\n",
      "_________________________________________________________________\n",
      "None\n",
      "Train on 3042 samples, validate on 1000 samples\n"
     ]
    },
    {
     "data": {
      "application/vnd.jupyter.widget-view+json": {
       "model_id": "2b9d7786d9164e2ba2489fe25d6cbf32",
       "version_major": 2,
       "version_minor": 0
      },
      "text/plain": [
       "HBox(children=(IntProgress(value=0, description='Training', max=5), HTML(value='')))"
      ]
     },
     "metadata": {},
     "output_type": "display_data"
    },
    {
     "name": "stdout",
     "output_type": "stream",
     "text": [
      "Epoch 1/5\n"
     ]
    },
    {
     "data": {
      "application/vnd.jupyter.widget-view+json": {
       "model_id": "",
       "version_major": 2,
       "version_minor": 0
      },
      "text/plain": [
       "HBox(children=(IntProgress(value=0, description='Epoch 0', max=3042), HTML(value='')))"
      ]
     },
     "metadata": {},
     "output_type": "display_data"
    },
    {
     "name": "stdout",
     "output_type": "stream",
     "text": [
      " - 44s - loss: 0.7467 - acc: 0.4977 - val_loss: 0.6963 - val_acc: 0.5000\n",
      "Epoch 2/5\n"
     ]
    },
    {
     "data": {
      "application/vnd.jupyter.widget-view+json": {
       "model_id": "",
       "version_major": 2,
       "version_minor": 0
      },
      "text/plain": [
       "HBox(children=(IntProgress(value=0, description='Epoch 1', max=3042), HTML(value='')))"
      ]
     },
     "metadata": {},
     "output_type": "display_data"
    },
    {
     "name": "stdout",
     "output_type": "stream",
     "text": [
      " - 38s - loss: 0.6909 - acc: 0.5201 - val_loss: 0.6874 - val_acc: 0.5310\n",
      "Epoch 3/5\n"
     ]
    },
    {
     "data": {
      "application/vnd.jupyter.widget-view+json": {
       "model_id": "",
       "version_major": 2,
       "version_minor": 0
      },
      "text/plain": [
       "HBox(children=(IntProgress(value=0, description='Epoch 2', max=3042), HTML(value='')))"
      ]
     },
     "metadata": {},
     "output_type": "display_data"
    },
    {
     "name": "stdout",
     "output_type": "stream",
     "text": [
      " - 39s - loss: 0.6818 - acc: 0.5250 - val_loss: 0.6803 - val_acc: 0.5160\n",
      "Epoch 4/5\n"
     ]
    },
    {
     "data": {
      "application/vnd.jupyter.widget-view+json": {
       "model_id": "",
       "version_major": 2,
       "version_minor": 0
      },
      "text/plain": [
       "HBox(children=(IntProgress(value=0, description='Epoch 3', max=3042), HTML(value='')))"
      ]
     },
     "metadata": {},
     "output_type": "display_data"
    },
    {
     "name": "stdout",
     "output_type": "stream",
     "text": [
      " - 42s - loss: 0.6741 - acc: 0.5273 - val_loss: 0.6808 - val_acc: 0.5320\n",
      "Epoch 5/5\n"
     ]
    },
    {
     "data": {
      "application/vnd.jupyter.widget-view+json": {
       "model_id": "",
       "version_major": 2,
       "version_minor": 0
      },
      "text/plain": [
       "HBox(children=(IntProgress(value=0, description='Epoch 4', max=3042), HTML(value='')))"
      ]
     },
     "metadata": {},
     "output_type": "display_data"
    },
    {
     "name": "stdout",
     "output_type": "stream",
     "text": [
      " - 39s - loss: 0.6729 - acc: 0.5391 - val_loss: 0.6849 - val_acc: 0.5320\n"
     ]
    },
    {
     "data": {
      "text/plain": [
       "<keras.callbacks.History at 0x25da67dbe80>"
      ]
     },
     "execution_count": 250,
     "metadata": {},
     "output_type": "execute_result"
    }
   ],
   "source": [
    "model = Sequential()\n",
    "model.add(Embedding(top_words, embedding_vecor_length, input_length=max_review_length))\n",
    "model.add(LSTM(100, return_sequences=True))\n",
    "model.add(LSTM(100, return_sequences=True))\n",
    "model.add(Flatten())\n",
    "model.add(Dropout(0.25))\n",
    "model.add(Dense(512))\n",
    "model.add(Dense(1, activation='sigmoid'))\n",
    "#model.add(Dense(8, activation='softmax'))\n",
    "\n",
    "model.compile(loss='binary_crossentropy', optimizer='adam', metrics=['accuracy'])\n",
    "print(model.summary())\n",
    "model.fit(x_train, y_train, validation_data=(x_test, y_test), epochs=5, batch_size=64,verbose=2,callbacks=[TQDMNotebookCallback()])\n",
    "# Final evaluation of the model"
   ]
  },
  {
   "cell_type": "code",
   "execution_count": 251,
   "metadata": {},
   "outputs": [
    {
     "name": "stdout",
     "output_type": "stream",
     "text": [
      "Accuracy: 53.20%\n"
     ]
    }
   ],
   "source": [
    "scores = model.evaluate(x_test, y_test, verbose=0)#\n",
    "preds = model.predict(x_test)\n",
    "print(\"Accuracy: %.2f%%\" % (scores[1]*100))"
   ]
  },
  {
   "cell_type": "code",
   "execution_count": 252,
   "metadata": {},
   "outputs": [],
   "source": [
    "text_labels = encoder.classes_\n",
    "\n",
    "actl_tag = []\n",
    "pred_tag = []\n",
    "\n",
    "for i in range(len(y_test)):\n",
    "    predicted_label = round(preds[i][0])\n",
    "    actl_tag.append(test_tags.iloc[i])\n",
    "    pred_tag.append(predicted_label)\n",
    "    #print('Actual label:' , test_tags.iloc[i])\n",
    "    #print(\"Predicted label: \" , predicted_label)"
   ]
  },
  {
   "cell_type": "code",
   "execution_count": 253,
   "metadata": {},
   "outputs": [
    {
     "data": {
      "image/png": "[encoded data removed]",
      "text/plain": [
       "<Figure size 720x720 with 2 Axes>"
      ]
     },
     "metadata": {},
     "output_type": "display_data"
    }
   ],
   "source": [
    "conf_mat = confusion_matrix(actl_tag, pred_tag)\n",
    "fig, ax = plt.subplots(figsize=(10,10))\n",
    "sns.heatmap(conf_mat, annot=True, fmt='d',\n",
    "            xticklabels=category_id_df.category_new.values, yticklabels=category_id_df.category_new.values)\n",
    "plt.ylabel('Actual')\n",
    "plt.xlabel('Predicted')\n",
    "plt.show()"
   ]
  }
 ],
 "metadata": {
  "kernelspec": {
   "display_name": "Python 3",
   "language": "python",
   "name": "python3"
  },
  "language_info": {
   "codemirror_mode": {
    "name": "ipython",
    "version": 3
   },
   "file_extension": ".py",
   "mimetype": "text/x-python",
   "name": "python",
   "nbconvert_exporter": "python",
   "pygments_lexer": "ipython3",
   "version": "3.6.6"
  }
 },
 "nbformat": 4,
 "nbformat_minor": 2
}
