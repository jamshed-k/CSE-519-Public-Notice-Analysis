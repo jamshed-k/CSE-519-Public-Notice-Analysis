{
 "cells": [
  {
   "cell_type": "code",
   "execution_count": null,
   "metadata": {},
   "outputs": [
    {
     "name": "stderr",
     "output_type": "stream",
     "text": [
      "C:\\Users\\Prime\\AppData\\Local\\Continuum\\anaconda3\\lib\\site-packages\\ipykernel_launcher.py:3: FutureWarning: from_csv is deprecated. Please use read_csv(...) instead. Note that some of the default arguments are different, so please refer to the documentation for from_csv when changing your function calls\n",
      "  This is separate from the ipykernel package so we can avoid doing imports until\n"
     ]
    }
   ],
   "source": [
    "import pandas as pd \n",
    "\n",
    "df = pd.DataFrame.from_csv('C:\\\\CSE-519-Project\\\\Input\\\\combined.csv', sep='\\t')"
   ]
  },
  {
   "cell_type": "code",
   "execution_count": 2,
   "metadata": {},
   "outputs": [
    {
     "name": "stdout",
     "output_type": "stream",
     "text": [
      "64077332\n"
     ]
    }
   ],
   "source": [
    "print(len(df))"
   ]
  },
  {
   "cell_type": "code",
   "execution_count": 4,
   "metadata": {},
   "outputs": [
    {
     "data": {
      "text/html": [
       "<div>\n",
       "<style scoped>\n",
       "    .dataframe tbody tr th:only-of-type {\n",
       "        vertical-align: middle;\n",
       "    }\n",
       "\n",
       "    .dataframe tbody tr th {\n",
       "        vertical-align: top;\n",
       "    }\n",
       "\n",
       "    .dataframe thead th {\n",
       "        text-align: right;\n",
       "    }\n",
       "</style>\n",
       "<table border=\"1\" class=\"dataframe\">\n",
       "  <thead>\n",
       "    <tr style=\"text-align: right;\">\n",
       "      <th></th>\n",
       "    </tr>\n",
       "    <tr>\n",
       "      <th>,state,county,newspaper,date,content</th>\n",
       "    </tr>\n",
       "  </thead>\n",
       "  <tbody>\n",
       "    <tr>\n",
       "      <th>0.0,Mississippi,Lincoln,Daily Leader,2012/05/23,\"PUBLIC NOTICEVEHICLES AND EQUIPMENT FOR SALEPeoples Bank of the South will sell the following at a public auction at the Bude office at 2:00 pm on Friday, May 25, 2012. Written bids will be accepted until 4:30 p.m. on May 24, 2012.One (1) 2008 Pontiac G6 Sedan, S/N 1G2ZH57N784130011One (1) 2004 Chevrolet K150 Ext. Cab Z71 pickup truck, S/N 1GCEK19T54Z300069The Bank reserves the right to sell any and all items prior to the auction.To place a bid or for more information, contact Lisa Smith at Peoples Bank of the South, 50 Main Street, Meadville, MS 39653 (601) 384-4222.Publish: MaY 17, 18, 22, 23, 24, 2012\"</th>\n",
       "    </tr>\n",
       "    <tr>\n",
       "      <th>1.0,Arizona,Coconino,Lake Powell Chronicle (Page),2012/05/23,\"Legal No. 4569</th>\n",
       "    </tr>\n",
       "    <tr>\n",
       "      <th>Notice: Articles of Organization have been filed in the office of the Arizona Corporation Commission for Aspen One, LLC, file number L-1751083-9</th>\n",
       "    </tr>\n",
       "    <tr>\n",
       "      <th>I. The address of the known place of business is: 4355 East Industrial Drive, Flagstaff, AZ 86004.</th>\n",
       "    </tr>\n",
       "    <tr>\n",
       "      <th>II. The name and street address of the Statutory Agent is: Marcus Lynn Daniels, 4355 East Industrial Drive, Flagstaff, AZ 86004.</th>\n",
       "    </tr>\n",
       "  </tbody>\n",
       "</table>\n",
       "</div>"
      ],
      "text/plain": [
       "Empty DataFrame\n",
       "Columns: []\n",
       "Index: [0.0,Mississippi,Lincoln,Daily Leader,2012/05/23,\"PUBLIC NOTICEVEHICLES AND EQUIPMENT FOR SALEPeoples Bank of the South will sell the following at a public auction at the Bude office at 2:00 pm on Friday, May 25, 2012. Written bids will be accepted until 4:30 p.m. on May 24, 2012.One (1) 2008 Pontiac G6 Sedan, S/N 1G2ZH57N784130011One (1) 2004 Chevrolet K150 Ext. Cab Z71 pickup truck, S/N 1GCEK19T54Z300069The Bank reserves the right to sell any and all items prior to the auction.To place a bid or for more information, contact Lisa Smith at Peoples Bank of the South, 50 Main Street, Meadville, MS 39653 (601) 384-4222.Publish: MaY 17, 18, 22, 23, 24, 2012\", 1.0,Arizona,Coconino,Lake Powell Chronicle (Page),2012/05/23,\"Legal No. 4569, Notice: Articles of Organization have been filed in the office of the Arizona Corporation Commission for Aspen One, LLC, file number L-1751083-9, I. The address of the known place of business is: 4355 East Industrial Drive, Flagstaff, AZ 86004., II. The name and street address of the Statutory Agent is: Marcus Lynn Daniels, 4355 East Industrial Drive, Flagstaff, AZ 86004.]"
      ]
     },
     "execution_count": 4,
     "metadata": {},
     "output_type": "execute_result"
    }
   ],
   "source": [
    "df.head()"
   ]
  },
  {
   "cell_type": "code",
   "execution_count": 3,
   "metadata": {},
   "outputs": [
    {
     "ename": "AttributeError",
     "evalue": "'DataFrame' object has no attribute 'content'",
     "output_type": "error",
     "traceback": [
      "\u001b[1;31m---------------------------------------------------------------------------\u001b[0m",
      "\u001b[1;31mAttributeError\u001b[0m                            Traceback (most recent call last)",
      "\u001b[1;32m<ipython-input-3-ab95034b3ed3>\u001b[0m in \u001b[0;36m<module>\u001b[1;34m()\u001b[0m\n\u001b[1;32m----> 1\u001b[1;33m \u001b[0mprint\u001b[0m\u001b[1;33m(\u001b[0m\u001b[0mlen\u001b[0m\u001b[1;33m(\u001b[0m\u001b[0mdf\u001b[0m\u001b[1;33m.\u001b[0m\u001b[0mcontent\u001b[0m\u001b[1;33m.\u001b[0m\u001b[0mnunique\u001b[0m\u001b[1;33m(\u001b[0m\u001b[1;33m)\u001b[0m\u001b[1;33m)\u001b[0m\u001b[1;33m)\u001b[0m\u001b[1;33m\u001b[0m\u001b[0m\n\u001b[0m",
      "\u001b[1;32m~\\AppData\\Local\\Continuum\\anaconda3\\lib\\site-packages\\pandas\\core\\generic.py\u001b[0m in \u001b[0;36m__getattr__\u001b[1;34m(self, name)\u001b[0m\n\u001b[0;32m   4370\u001b[0m             \u001b[1;32mif\u001b[0m \u001b[0mself\u001b[0m\u001b[1;33m.\u001b[0m\u001b[0m_info_axis\u001b[0m\u001b[1;33m.\u001b[0m\u001b[0m_can_hold_identifiers_and_holds_name\u001b[0m\u001b[1;33m(\u001b[0m\u001b[0mname\u001b[0m\u001b[1;33m)\u001b[0m\u001b[1;33m:\u001b[0m\u001b[1;33m\u001b[0m\u001b[0m\n\u001b[0;32m   4371\u001b[0m                 \u001b[1;32mreturn\u001b[0m \u001b[0mself\u001b[0m\u001b[1;33m[\u001b[0m\u001b[0mname\u001b[0m\u001b[1;33m]\u001b[0m\u001b[1;33m\u001b[0m\u001b[0m\n\u001b[1;32m-> 4372\u001b[1;33m             \u001b[1;32mreturn\u001b[0m \u001b[0mobject\u001b[0m\u001b[1;33m.\u001b[0m\u001b[0m__getattribute__\u001b[0m\u001b[1;33m(\u001b[0m\u001b[0mself\u001b[0m\u001b[1;33m,\u001b[0m \u001b[0mname\u001b[0m\u001b[1;33m)\u001b[0m\u001b[1;33m\u001b[0m\u001b[0m\n\u001b[0m\u001b[0;32m   4373\u001b[0m \u001b[1;33m\u001b[0m\u001b[0m\n\u001b[0;32m   4374\u001b[0m     \u001b[1;32mdef\u001b[0m \u001b[0m__setattr__\u001b[0m\u001b[1;33m(\u001b[0m\u001b[0mself\u001b[0m\u001b[1;33m,\u001b[0m \u001b[0mname\u001b[0m\u001b[1;33m,\u001b[0m \u001b[0mvalue\u001b[0m\u001b[1;33m)\u001b[0m\u001b[1;33m:\u001b[0m\u001b[1;33m\u001b[0m\u001b[0m\n",
      "\u001b[1;31mAttributeError\u001b[0m: 'DataFrame' object has no attribute 'content'"
     ]
    }
   ],
   "source": [
    "print(len(df.content.nunique()))"
   ]
  }
 ],
 "metadata": {
  "kernelspec": {
   "display_name": "Python 3",
   "language": "python",
   "name": "python3"
  },
  "language_info": {
   "codemirror_mode": {
    "name": "ipython",
    "version": 3
   },
   "file_extension": ".py",
   "mimetype": "text/x-python",
   "name": "python",
   "nbconvert_exporter": "python",
   "pygments_lexer": "ipython3",
   "version": "3.6.6"
  }
 },
 "nbformat": 4,
 "nbformat_minor": 2
}
