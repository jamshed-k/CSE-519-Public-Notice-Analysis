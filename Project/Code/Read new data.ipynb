{
 "cells": [
  {
   "cell_type": "code",
   "execution_count": 35,
   "metadata": {},
   "outputs": [
    {
     "name": "stderr",
     "output_type": "stream",
     "text": [
      "C:\\Users\\Sabir Ismail\\Anaconda3\\lib\\site-packages\\ipykernel_launcher.py:5: FutureWarning: from_csv is deprecated. Please use read_csv(...) instead. Note that some of the default arguments are different, so please refer to the documentation for from_csv when changing your function calls\n",
      "  \"\"\"\n"
     ]
    }
   ],
   "source": [
    "import pandas as pd\n",
    "\n",
    "PATH = 'C:\\\\CSE-519-Project\\\\Input\\\\'\n",
    "\n",
    "df = pd.DataFrame.from_csv(PATH+'2017_18.tsv', sep='\\t', header=0)"
   ]
  },
  {
   "cell_type": "code",
   "execution_count": 36,
   "metadata": {},
   "outputs": [
    {
     "data": {
      "text/plain": [
       "619590"
      ]
     },
     "execution_count": 36,
     "metadata": {},
     "output_type": "execute_result"
    }
   ],
   "source": [
    "len(df)"
   ]
  },
  {
   "cell_type": "code",
   "execution_count": 37,
   "metadata": {},
   "outputs": [
    {
     "data": {
      "text/plain": [
       "array(['Wyoming', 'Mississippi', 'Arizona', 'Arkansas', 'New Mexico',\n",
       "       'Nevada', 'Louisiana', 'Tennessee', 'state'], dtype=object)"
      ]
     },
     "execution_count": 37,
     "metadata": {},
     "output_type": "execute_result"
    }
   ],
   "source": [
    "df.state.unique()"
   ]
  },
  {
   "cell_type": "code",
   "execution_count": 38,
   "metadata": {},
   "outputs": [],
   "source": [
    "df[['state','county','newspaper','date','content']].to_csv(PATH+'2017.csv')"
   ]
  },
  {
   "cell_type": "code",
   "execution_count": 5,
   "metadata": {},
   "outputs": [
    {
     "data": {
      "text/plain": [
       "array(['Wyoming', 'Mississippi', 'Arizona', 'Arkansas', 'New Mexico',\n",
       "       'New Jersey', 'Nevada', 'Louisiana', 'Tennessee', 'state'],\n",
       "      dtype=object)"
      ]
     },
     "execution_count": 5,
     "metadata": {},
     "output_type": "execute_result"
    }
   ],
   "source": [
    "df.state.unique()"
   ]
  },
  {
   "cell_type": "code",
   "execution_count": 17,
   "metadata": {},
   "outputs": [
    {
     "name": "stderr",
     "output_type": "stream",
     "text": [
      "C:\\Users\\Sabir Ismail\\Anaconda3\\lib\\site-packages\\ipykernel_launcher.py:3: FutureWarning: from_csv is deprecated. Please use read_csv(...) instead. Note that some of the default arguments are different, so please refer to the documentation for from_csv when changing your function calls\n",
      "  This is separate from the ipykernel package so we can avoid doing imports until\n",
      "C:\\Users\\Sabir Ismail\\Anaconda3\\lib\\site-packages\\IPython\\core\\interactiveshell.py:2850: DtypeWarning: Columns (3,5) have mixed types. Specify dtype option on import or set low_memory=False.\n",
      "  if self.run_code(code, result):\n"
     ]
    }
   ],
   "source": [
    "import pandas as pd\n",
    "\n",
    "df = pd.DataFrame.from_csv('../Data/2013-14-cleaned_data.csv')"
   ]
  },
  {
   "cell_type": "code",
   "execution_count": 20,
   "metadata": {},
   "outputs": [
    {
     "data": {
      "text/plain": [
       "2127594"
      ]
     },
     "execution_count": 20,
     "metadata": {},
     "output_type": "execute_result"
    }
   ],
   "source": [
    "len(df)"
   ]
  },
  {
   "cell_type": "code",
   "execution_count": 21,
   "metadata": {},
   "outputs": [
    {
     "data": {
      "text/html": [
       "<div>\n",
       "<style scoped>\n",
       "    .dataframe tbody tr th:only-of-type {\n",
       "        vertical-align: middle;\n",
       "    }\n",
       "\n",
       "    .dataframe tbody tr th {\n",
       "        vertical-align: top;\n",
       "    }\n",
       "\n",
       "    .dataframe thead th {\n",
       "        text-align: right;\n",
       "    }\n",
       "</style>\n",
       "<table border=\"1\" class=\"dataframe\">\n",
       "  <thead>\n",
       "    <tr style=\"text-align: right;\">\n",
       "      <th></th>\n",
       "      <th>state</th>\n",
       "      <th>county</th>\n",
       "      <th>newspaper</th>\n",
       "      <th>date</th>\n",
       "      <th>content</th>\n",
       "    </tr>\n",
       "  </thead>\n",
       "  <tbody>\n",
       "    <tr>\n",
       "      <th>0</th>\n",
       "      <td>Wyoming</td>\n",
       "      <td>Uinta</td>\n",
       "      <td>Uinta County Herald (Evanston)</td>\n",
       "      <td>2013/06/21</td>\n",
       "      <td>STATE OF WYOMING IN THE DISTRICT COURT\\r\\nCOUN...</td>\n",
       "    </tr>\n",
       "    <tr>\n",
       "      <th>1</th>\n",
       "      <td>Mississippi</td>\n",
       "      <td>Pearl River</td>\n",
       "      <td>Picayune Item</td>\n",
       "      <td>2013/06/21</td>\n",
       "      <td>CHANCERY COURT OF PEARL RIVER COUNTY\\r\\nIN THE...</td>\n",
       "    </tr>\n",
       "    <tr>\n",
       "      <th>2</th>\n",
       "      <td>Arizona</td>\n",
       "      <td>Coconino</td>\n",
       "      <td>Arizona Daily Sun (Flagstaff)</td>\n",
       "      <td>2013/06/21</td>\n",
       "      <td>Legal No. 17071 NOTICE OF TRUSTEE'S SALE File ...</td>\n",
       "    </tr>\n",
       "    <tr>\n",
       "      <th>3</th>\n",
       "      <td>Arkansas</td>\n",
       "      <td>St. Francis</td>\n",
       "      <td>Times-Herald (Forrest City)</td>\n",
       "      <td>2013/06/21</td>\n",
       "      <td>June 12, 2013\\r\\nThe Forrest City School Distr...</td>\n",
       "    </tr>\n",
       "    <tr>\n",
       "      <th>4</th>\n",
       "      <td>New Mexico</td>\n",
       "      <td>Cibola</td>\n",
       "      <td>Cibola County Beacon (Grants)</td>\n",
       "      <td>2013/06/21</td>\n",
       "      <td>PUBLIC NOTICE CITY OF GRANTS Invitation to Bid...</td>\n",
       "    </tr>\n",
       "  </tbody>\n",
       "</table>\n",
       "</div>"
      ],
      "text/plain": [
       "         state       county                       newspaper        date  \\\n",
       "0      Wyoming        Uinta  Uinta County Herald (Evanston)  2013/06/21   \n",
       "1  Mississippi  Pearl River                   Picayune Item  2013/06/21   \n",
       "2      Arizona     Coconino   Arizona Daily Sun (Flagstaff)  2013/06/21   \n",
       "3     Arkansas  St. Francis     Times-Herald (Forrest City)  2013/06/21   \n",
       "4   New Mexico       Cibola   Cibola County Beacon (Grants)  2013/06/21   \n",
       "\n",
       "                                             content  \n",
       "0  STATE OF WYOMING IN THE DISTRICT COURT\\r\\nCOUN...  \n",
       "1  CHANCERY COURT OF PEARL RIVER COUNTY\\r\\nIN THE...  \n",
       "2  Legal No. 17071 NOTICE OF TRUSTEE'S SALE File ...  \n",
       "3  June 12, 2013\\r\\nThe Forrest City School Distr...  \n",
       "4  PUBLIC NOTICE CITY OF GRANTS Invitation to Bid...  "
      ]
     },
     "execution_count": 21,
     "metadata": {},
     "output_type": "execute_result"
    }
   ],
   "source": [
    "df.head()"
   ]
  },
  {
   "cell_type": "code",
   "execution_count": 22,
   "metadata": {},
   "outputs": [
    {
     "data": {
      "text/plain": [
       "array(['Wyoming', 'Mississippi', 'Arizona', 'Arkansas', 'New Mexico',\n",
       "       'New Jersey', 'Nevada', 'Louisiana', 'Tennessee'], dtype=object)"
      ]
     },
     "execution_count": 22,
     "metadata": {},
     "output_type": "execute_result"
    }
   ],
   "source": [
    "df.state.unique()"
   ]
  },
  {
   "cell_type": "code",
   "execution_count": 41,
   "metadata": {},
   "outputs": [
    {
     "data": {
      "text/plain": [
       "array(['Mississippi', 'Arizona', 'Arkansas', 'New Mexico', 'New Jersey',\n",
       "       'Nevada', 'Louisiana', 'Tennessee', 'state', 'Wyoming'],\n",
       "      dtype=object)"
      ]
     },
     "execution_count": 41,
     "metadata": {},
     "output_type": "execute_result"
    }
   ],
   "source": [
    "df.state.unique()"
   ]
  },
  {
   "cell_type": "code",
   "execution_count": 34,
   "metadata": {},
   "outputs": [
    {
     "name": "stderr",
     "output_type": "stream",
     "text": [
      "C:\\Users\\Sabir Ismail\\Anaconda3\\lib\\site-packages\\ipykernel_launcher.py:5: FutureWarning: from_csv is deprecated. Please use read_csv(...) instead. Note that some of the default arguments are different, so please refer to the documentation for from_csv when changing your function calls\n",
      "  \"\"\"\n"
     ]
    }
   ],
   "source": [
    "import pandas as pd\n",
    "\n",
    "PATH = 'C:\\\\CSE-519-Project\\\\Input\\\\2012-2013\\\\2012-2013\\\\'\n",
    "\n",
    "df = pd.DataFrame.from_csv(PATH+'notices_cat2_2012-07-07.tsv', sep='\\t', header=0)"
   ]
  },
  {
   "cell_type": "code",
   "execution_count": 35,
   "metadata": {},
   "outputs": [
    {
     "data": {
      "text/plain": [
       "1195"
      ]
     },
     "execution_count": 35,
     "metadata": {},
     "output_type": "execute_result"
    }
   ],
   "source": [
    "len(df)"
   ]
  },
  {
   "cell_type": "code",
   "execution_count": 36,
   "metadata": {},
   "outputs": [
    {
     "data": {
      "text/html": [
       "<div>\n",
       "<style scoped>\n",
       "    .dataframe tbody tr th:only-of-type {\n",
       "        vertical-align: middle;\n",
       "    }\n",
       "\n",
       "    .dataframe tbody tr th {\n",
       "        vertical-align: top;\n",
       "    }\n",
       "\n",
       "    .dataframe thead th {\n",
       "        text-align: right;\n",
       "    }\n",
       "</style>\n",
       "<table border=\"1\" class=\"dataframe\">\n",
       "  <thead>\n",
       "    <tr style=\"text-align: right;\">\n",
       "      <th></th>\n",
       "      <th>state</th>\n",
       "      <th>id</th>\n",
       "      <th>link</th>\n",
       "      <th>county</th>\n",
       "      <th>newspaper</th>\n",
       "      <th>date</th>\n",
       "      <th>content</th>\n",
       "      <th>notice_id</th>\n",
       "    </tr>\n",
       "  </thead>\n",
       "  <tbody>\n",
       "    <tr>\n",
       "      <th>0</th>\n",
       "      <td>Mississippi</td>\n",
       "      <td>465/7132012_18934228</td>\n",
       "      <td>http://www.publicnoticeads.com/MS/search/view....</td>\n",
       "      <td>Warren</td>\n",
       "      <td>Vicksburg Post</td>\n",
       "      <td>2012/07/07</td>\n",
       "      <td>ABANDONED VEHICLE\\nThe following vehicles are ...</td>\n",
       "      <td>18934228</td>\n",
       "    </tr>\n",
       "    <tr>\n",
       "      <th>1</th>\n",
       "      <td>Arizona</td>\n",
       "      <td>63/10082012_19398827</td>\n",
       "      <td>http://www.publicnoticeads.com/AZ/search/view....</td>\n",
       "      <td>Coconino</td>\n",
       "      <td>Arizona Daily Sun (Flagstaff)</td>\n",
       "      <td>2012/07/07</td>\n",
       "      <td>Legal No. 15951 NOTICE OF CALL OF ELECTIONLock...</td>\n",
       "      <td>19398827</td>\n",
       "    </tr>\n",
       "    <tr>\n",
       "      <th>2</th>\n",
       "      <td>Arkansas</td>\n",
       "      <td>3216/762012_18880936</td>\n",
       "      <td>http://www.publicnoticeads.com/AR/search/view....</td>\n",
       "      <td>Crawford</td>\n",
       "      <td>Press Argus-Courier (Van Buren)</td>\n",
       "      <td>2012/07/07</td>\n",
       "      <td>00599113||07/07/12||07/07/12||Legals||NOTICE O...</td>\n",
       "      <td>18880936</td>\n",
       "    </tr>\n",
       "    <tr>\n",
       "      <th>3</th>\n",
       "      <td>New Mexico</td>\n",
       "      <td>3046/7202012_18991650</td>\n",
       "      <td>http://www.publicnoticeads.com/NM/search/view....</td>\n",
       "      <td>San Juan</td>\n",
       "      <td>Farmington Daily Times</td>\n",
       "      <td>2012/07/07</td>\n",
       "      <td>STATE OF NEW MEXICO\\nCOUNTY OF SAN JUAN\\nIN TH...</td>\n",
       "      <td>18991650</td>\n",
       "    </tr>\n",
       "    <tr>\n",
       "      <th>4</th>\n",
       "      <td>New Jersey</td>\n",
       "      <td>1007/7062012_18881500</td>\n",
       "      <td>http://www.publicnoticeads.com/NJ/search/view....</td>\n",
       "      <td>Morris</td>\n",
       "      <td>Daily Record, Parsippany</td>\n",
       "      <td>2012/07/07</td>\n",
       "      <td>MORRIS COUNTY\\n\\nMORRIS COUNTY MUNICIPAL JOINT...</td>\n",
       "      <td>18881500</td>\n",
       "    </tr>\n",
       "  </tbody>\n",
       "</table>\n",
       "</div>"
      ],
      "text/plain": [
       "         state                     id  \\\n",
       "0  Mississippi   465/7132012_18934228   \n",
       "1      Arizona   63/10082012_19398827   \n",
       "2     Arkansas   3216/762012_18880936   \n",
       "3   New Mexico  3046/7202012_18991650   \n",
       "4   New Jersey  1007/7062012_18881500   \n",
       "\n",
       "                                                link    county  \\\n",
       "0  http://www.publicnoticeads.com/MS/search/view....    Warren   \n",
       "1  http://www.publicnoticeads.com/AZ/search/view....  Coconino   \n",
       "2  http://www.publicnoticeads.com/AR/search/view....  Crawford   \n",
       "3  http://www.publicnoticeads.com/NM/search/view....  San Juan   \n",
       "4  http://www.publicnoticeads.com/NJ/search/view....    Morris   \n",
       "\n",
       "                         newspaper        date  \\\n",
       "0                   Vicksburg Post  2012/07/07   \n",
       "1    Arizona Daily Sun (Flagstaff)  2012/07/07   \n",
       "2  Press Argus-Courier (Van Buren)  2012/07/07   \n",
       "3           Farmington Daily Times  2012/07/07   \n",
       "4         Daily Record, Parsippany  2012/07/07   \n",
       "\n",
       "                                             content  notice_id  \n",
       "0  ABANDONED VEHICLE\\nThe following vehicles are ...   18934228  \n",
       "1  Legal No. 15951 NOTICE OF CALL OF ELECTIONLock...   19398827  \n",
       "2  00599113||07/07/12||07/07/12||Legals||NOTICE O...   18880936  \n",
       "3  STATE OF NEW MEXICO\\nCOUNTY OF SAN JUAN\\nIN TH...   18991650  \n",
       "4  MORRIS COUNTY\\n\\nMORRIS COUNTY MUNICIPAL JOINT...   18881500  "
      ]
     },
     "execution_count": 36,
     "metadata": {},
     "output_type": "execute_result"
    }
   ],
   "source": [
    "df.head()"
   ]
  }
 ],
 "metadata": {
  "kernelspec": {
   "display_name": "Python 3",
   "language": "python",
   "name": "python3"
  },
  "language_info": {
   "codemirror_mode": {
    "name": "ipython",
    "version": 3
   },
   "file_extension": ".py",
   "mimetype": "text/x-python",
   "name": "python",
   "nbconvert_exporter": "python",
   "pygments_lexer": "ipython3",
   "version": "3.6.4"
  }
 },
 "nbformat": 4,
 "nbformat_minor": 2
}
