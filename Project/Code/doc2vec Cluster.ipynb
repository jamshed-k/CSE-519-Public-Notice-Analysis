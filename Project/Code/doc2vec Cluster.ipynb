{
 "cells": [
  {
   "cell_type": "code",
   "execution_count": 53,
   "metadata": {},
   "outputs": [
    {
     "name": "stderr",
     "output_type": "stream",
     "text": [
      "C:\\Users\\Sabir Ismail\\Anaconda3\\lib\\site-packages\\ipykernel_launcher.py:23: FutureWarning: from_csv is deprecated. Please use read_csv(...) instead. Note that some of the default arguments are different, so please refer to the documentation for from_csv when changing your function calls\n"
     ]
    }
   ],
   "source": [
    "#Imports the libraries and read the data files\n",
    "\n",
    "import numpy as np # linear algebra\n",
    "import pandas as pd # data processing, CSV file I/O (e.g. pd.read_csv)\n",
    "import re\n",
    "import os, sys, email\n",
    "import gensim\n",
    "from gensim.models import Doc2Vec\n",
    "from nltk.tokenize import RegexpTokenizer\n",
    "from nltk.corpus import stopwords\n",
    "from nltk.stem.porter import PorterStemmer\n",
    "import nltk\n",
    "from string import punctuation\n",
    "import timeit\n",
    "from sklearn.cluster import KMeans\n",
    "from sklearn import metrics\n",
    "import pylab as pl\n",
    "import matplotlib.pyplot as plt\n",
    "from sklearn.decomposition import PCA\n",
    "start = timeit.default_timer()\n",
    "import pandas as pd \n",
    "\n",
    "df = pd.DataFrame.from_csv('10K_sample.txt', sep='\\t', header=0)"
   ]
  },
  {
   "cell_type": "code",
   "execution_count": 54,
   "metadata": {},
   "outputs": [
    {
     "data": {
      "text/html": [
       "<div>\n",
       "<style scoped>\n",
       "    .dataframe tbody tr th:only-of-type {\n",
       "        vertical-align: middle;\n",
       "    }\n",
       "\n",
       "    .dataframe tbody tr th {\n",
       "        vertical-align: top;\n",
       "    }\n",
       "\n",
       "    .dataframe thead th {\n",
       "        text-align: right;\n",
       "    }\n",
       "</style>\n",
       "<table border=\"1\" class=\"dataframe\">\n",
       "  <thead>\n",
       "    <tr style=\"text-align: right;\">\n",
       "      <th></th>\n",
       "      <th>state</th>\n",
       "      <th>content</th>\n",
       "    </tr>\n",
       "  </thead>\n",
       "  <tbody>\n",
       "    <tr>\n",
       "      <th>0</th>\n",
       "      <td>Arizona</td>\n",
       "      <td>3742</td>\n",
       "    </tr>\n",
       "    <tr>\n",
       "      <th>1</th>\n",
       "      <td>Arkansas</td>\n",
       "      <td>393</td>\n",
       "    </tr>\n",
       "    <tr>\n",
       "      <th>2</th>\n",
       "      <td>Louisiana</td>\n",
       "      <td>947</td>\n",
       "    </tr>\n",
       "    <tr>\n",
       "      <th>3</th>\n",
       "      <td>Mississippi</td>\n",
       "      <td>661</td>\n",
       "    </tr>\n",
       "    <tr>\n",
       "      <th>4</th>\n",
       "      <td>Nevada</td>\n",
       "      <td>1216</td>\n",
       "    </tr>\n",
       "    <tr>\n",
       "      <th>5</th>\n",
       "      <td>New Mexico</td>\n",
       "      <td>666</td>\n",
       "    </tr>\n",
       "    <tr>\n",
       "      <th>6</th>\n",
       "      <td>Tennessee</td>\n",
       "      <td>2070</td>\n",
       "    </tr>\n",
       "    <tr>\n",
       "      <th>7</th>\n",
       "      <td>Wyoming</td>\n",
       "      <td>304</td>\n",
       "    </tr>\n",
       "  </tbody>\n",
       "</table>\n",
       "</div>"
      ],
      "text/plain": [
       "         state  content\n",
       "0      Arizona     3742\n",
       "1     Arkansas      393\n",
       "2    Louisiana      947\n",
       "3  Mississippi      661\n",
       "4       Nevada     1216\n",
       "5   New Mexico      666\n",
       "6    Tennessee     2070\n",
       "7      Wyoming      304"
      ]
     },
     "execution_count": 54,
     "metadata": {},
     "output_type": "execute_result"
    }
   ],
   "source": [
    "df[['state','content']].groupby('state').count().reset_index()"
   ]
  },
  {
   "cell_type": "code",
   "execution_count": 55,
   "metadata": {},
   "outputs": [],
   "source": [
    "df['date'] = df['date'].astype('datetime64[ns]')"
   ]
  },
  {
   "cell_type": "code",
   "execution_count": 56,
   "metadata": {},
   "outputs": [
    {
     "data": {
      "text/plain": [
       "count                   10000\n",
       "unique                    259\n",
       "top       2016-10-27 00:00:00\n",
       "freq                       85\n",
       "first     2016-09-06 00:00:00\n",
       "last      2017-05-22 00:00:00\n",
       "Name: date, dtype: object"
      ]
     },
     "execution_count": 56,
     "metadata": {},
     "output_type": "execute_result"
    }
   ],
   "source": [
    "df.date.describe()"
   ]
  },
  {
   "cell_type": "code",
   "execution_count": 64,
   "metadata": {},
   "outputs": [],
   "source": [
    "from collections import Counter\n",
    "\n",
    "df.content = df.content.astype(str)\n",
    "df['word_cnt'] = df.content.str.split().str.len()"
   ]
  },
  {
   "cell_type": "code",
   "execution_count": 65,
   "metadata": {},
   "outputs": [
    {
     "data": {
      "text/plain": [
       "count     10000.000000\n",
       "mean        400.455500\n",
       "std        1418.530202\n",
       "min           1.000000\n",
       "25%         142.000000\n",
       "50%         273.000000\n",
       "75%         529.000000\n",
       "max      112891.000000\n",
       "Name: word_cnt, dtype: float64"
      ]
     },
     "execution_count": 65,
     "metadata": {},
     "output_type": "execute_result"
    }
   ],
   "source": [
    "df.word_cnt.describe()"
   ]
  },
  {
   "cell_type": "code",
   "execution_count": 77,
   "metadata": {},
   "outputs": [
    {
     "data": {
      "text/plain": [
       "317"
      ]
     },
     "execution_count": 77,
     "metadata": {},
     "output_type": "execute_result"
    }
   ],
   "source": [
    "len(df[df['word_cnt']>1000])"
   ]
  },
  {
   "cell_type": "code",
   "execution_count": 114,
   "metadata": {},
   "outputs": [
    {
     "name": "stderr",
     "output_type": "stream",
     "text": [
      "C:\\Users\\Sabir Ismail\\Anaconda3\\lib\\site-packages\\scipy\\stats\\stats.py:1713: FutureWarning: Using a non-tuple sequence for multidimensional indexing is deprecated; use `arr[tuple(seq)]` instead of `arr[seq]`. In the future this will be interpreted as an array index, `arr[np.array(seq)]`, which will result either in an error or a different result.\n",
      "  return np.add.reduce(sorted[indexer] * weights, axis=axis) / sumval\n",
      "C:\\Users\\Sabir Ismail\\Anaconda3\\lib\\site-packages\\matplotlib\\axes\\_axes.py:6462: UserWarning: The 'normed' kwarg is deprecated, and has been replaced by the 'density' kwarg.\n",
      "  warnings.warn(\"The 'normed' kwarg is deprecated, and has been \"\n"
     ]
    },
    {
     "data": {
      "image/png": "[encoded data removed]",
      "text/plain": [
       "<Figure size 432x288 with 1 Axes>"
      ]
     },
     "metadata": {},
     "output_type": "display_data"
    }
   ],
   "source": [
    "import seaborn as sns\n",
    "\n",
    "ax = sns.distplot(df.word_cnt)\n",
    "ax.set(xlabel='Word count', ylabel='Distribution')\n",
    "plt.show()"
   ]
  },
  {
   "cell_type": "code",
   "execution_count": 116,
   "metadata": {},
   "outputs": [],
   "source": [
    "df_filltered = df[(df['word_cnt']>0) & (df['word_cnt']<1000)]"
   ]
  },
  {
   "cell_type": "code",
   "execution_count": 117,
   "metadata": {},
   "outputs": [
    {
     "name": "stderr",
     "output_type": "stream",
     "text": [
      "C:\\Users\\Sabir Ismail\\Anaconda3\\lib\\site-packages\\scipy\\stats\\stats.py:1713: FutureWarning: Using a non-tuple sequence for multidimensional indexing is deprecated; use `arr[tuple(seq)]` instead of `arr[seq]`. In the future this will be interpreted as an array index, `arr[np.array(seq)]`, which will result either in an error or a different result.\n",
      "  return np.add.reduce(sorted[indexer] * weights, axis=axis) / sumval\n",
      "C:\\Users\\Sabir Ismail\\Anaconda3\\lib\\site-packages\\matplotlib\\axes\\_axes.py:6462: UserWarning: The 'normed' kwarg is deprecated, and has been replaced by the 'density' kwarg.\n",
      "  warnings.warn(\"The 'normed' kwarg is deprecated, and has been \"\n"
     ]
    },
    {
     "data": {
      "image/png": "[encoded data removed]",
      "text/plain": [
       "<Figure size 432x288 with 1 Axes>"
      ]
     },
     "metadata": {},
     "output_type": "display_data"
    }
   ],
   "source": [
    "import seaborn as sns\n",
    "\n",
    "ax = sns.distplot(df_filltered.word_cnt)\n",
    "ax.set(xlabel='Word count', ylabel='Distribution')\n",
    "plt.show()"
   ]
  },
  {
   "cell_type": "code",
   "execution_count": 66,
   "metadata": {},
   "outputs": [
    {
     "data": {
      "text/html": [
       "<div>\n",
       "<style scoped>\n",
       "    .dataframe tbody tr th:only-of-type {\n",
       "        vertical-align: middle;\n",
       "    }\n",
       "\n",
       "    .dataframe tbody tr th {\n",
       "        vertical-align: top;\n",
       "    }\n",
       "\n",
       "    .dataframe thead th {\n",
       "        text-align: right;\n",
       "    }\n",
       "</style>\n",
       "<table border=\"1\" class=\"dataframe\">\n",
       "  <thead>\n",
       "    <tr style=\"text-align: right;\">\n",
       "      <th></th>\n",
       "      <th>state</th>\n",
       "      <th>id</th>\n",
       "      <th>link</th>\n",
       "      <th>county</th>\n",
       "      <th>newspaper</th>\n",
       "      <th>date</th>\n",
       "      <th>content</th>\n",
       "      <th>notice_id</th>\n",
       "      <th>word_cnt</th>\n",
       "    </tr>\n",
       "  </thead>\n",
       "  <tbody>\n",
       "    <tr>\n",
       "      <th>320471</th>\n",
       "      <td>Arizona</td>\n",
       "      <td>29/12152016_23843750</td>\n",
       "      <td>http://www.publicnoticeads.com/AZ/search/view....</td>\n",
       "      <td>Maricopa</td>\n",
       "      <td>Arizona Business Gazette (Phoenix)</td>\n",
       "      <td>2016-12-15</td>\n",
       "      <td>NOTICE (for publication) ARTICLES OF ORGANIZAT...</td>\n",
       "      <td>23843750.0</td>\n",
       "      <td>122</td>\n",
       "    </tr>\n",
       "    <tr>\n",
       "      <th>428137</th>\n",
       "      <td>Wyoming</td>\n",
       "      <td>3468/11152016_23781745</td>\n",
       "      <td>http://www.publicnoticeads.com/WY/search/view....</td>\n",
       "      <td>Natrona</td>\n",
       "      <td>Casper Star-Tribune</td>\n",
       "      <td>2016-11-15</td>\n",
       "      <td>ADVERTISEMENT FOR BIDS FOR FRONTIER MIDDLE SCH...</td>\n",
       "      <td>23781745.0</td>\n",
       "      <td>613</td>\n",
       "    </tr>\n",
       "    <tr>\n",
       "      <th>171469</th>\n",
       "      <td>Nevada</td>\n",
       "      <td>3371/10312016_23751825</td>\n",
       "      <td>http://www.publicnoticeads.com/NV/search/view....</td>\n",
       "      <td>Clark</td>\n",
       "      <td>Nevada Legal News</td>\n",
       "      <td>2016-10-27</td>\n",
       "      <td>NOTICE OF SALE APN: 177-21-310-169 Order No: H...</td>\n",
       "      <td>23751825.0</td>\n",
       "      <td>616</td>\n",
       "    </tr>\n",
       "    <tr>\n",
       "      <th>486209</th>\n",
       "      <td>Arizona</td>\n",
       "      <td>42/5172017_24138674</td>\n",
       "      <td>http://www.publicnoticeads.com/AZ/search/view....</td>\n",
       "      <td>Maricopa</td>\n",
       "      <td>Arizona Business Gazette (Phoenix)</td>\n",
       "      <td>2017-05-18</td>\n",
       "      <td>NO. CV2017-00580 SUMMONS IN THE SUPERIOR COURT...</td>\n",
       "      <td>24138674.0</td>\n",
       "      <td>373</td>\n",
       "    </tr>\n",
       "    <tr>\n",
       "      <th>227894</th>\n",
       "      <td>Tennessee</td>\n",
       "      <td>2898/5122017_24128271</td>\n",
       "      <td>http://www.publicnoticeads.com/TN/search/view....</td>\n",
       "      <td>Davidson</td>\n",
       "      <td>Tennessean, The (Nashville)</td>\n",
       "      <td>2017-05-12</td>\n",
       "      <td>0002131718 PUBLIC NOTICE The following vehicle...</td>\n",
       "      <td>24128271.0</td>\n",
       "      <td>189</td>\n",
       "    </tr>\n",
       "  </tbody>\n",
       "</table>\n",
       "</div>"
      ],
      "text/plain": [
       "            state                      id  \\\n",
       "320471    Arizona    29/12152016_23843750   \n",
       "428137    Wyoming  3468/11152016_23781745   \n",
       "171469     Nevada  3371/10312016_23751825   \n",
       "486209    Arizona     42/5172017_24138674   \n",
       "227894  Tennessee   2898/5122017_24128271   \n",
       "\n",
       "                                                     link    county  \\\n",
       "320471  http://www.publicnoticeads.com/AZ/search/view....  Maricopa   \n",
       "428137  http://www.publicnoticeads.com/WY/search/view....   Natrona   \n",
       "171469  http://www.publicnoticeads.com/NV/search/view....     Clark   \n",
       "486209  http://www.publicnoticeads.com/AZ/search/view....  Maricopa   \n",
       "227894  http://www.publicnoticeads.com/TN/search/view....  Davidson   \n",
       "\n",
       "                                 newspaper       date  \\\n",
       "320471  Arizona Business Gazette (Phoenix) 2016-12-15   \n",
       "428137                 Casper Star-Tribune 2016-11-15   \n",
       "171469                   Nevada Legal News 2016-10-27   \n",
       "486209  Arizona Business Gazette (Phoenix) 2017-05-18   \n",
       "227894         Tennessean, The (Nashville) 2017-05-12   \n",
       "\n",
       "                                                  content   notice_id  \\\n",
       "320471  NOTICE (for publication) ARTICLES OF ORGANIZAT...  23843750.0   \n",
       "428137  ADVERTISEMENT FOR BIDS FOR FRONTIER MIDDLE SCH...  23781745.0   \n",
       "171469  NOTICE OF SALE APN: 177-21-310-169 Order No: H...  23751825.0   \n",
       "486209  NO. CV2017-00580 SUMMONS IN THE SUPERIOR COURT...  24138674.0   \n",
       "227894  0002131718 PUBLIC NOTICE The following vehicle...  24128271.0   \n",
       "\n",
       "        word_cnt  \n",
       "320471       122  \n",
       "428137       613  \n",
       "171469       616  \n",
       "486209       373  \n",
       "227894       189  "
      ]
     },
     "execution_count": 66,
     "metadata": {},
     "output_type": "execute_result"
    }
   ],
   "source": [
    "df.head()"
   ]
  },
  {
   "cell_type": "code",
   "execution_count": 3,
   "metadata": {},
   "outputs": [
    {
     "name": "stdout",
     "output_type": "stream",
     "text": [
      "['notice (for publication) articles of organization have been filed in the office of the arizona corporation commission for i name: cc solutions llc ii the address of the known place of business is: n. murray grey dr. queen creek, az the name and street address of the statutory agent is: claudia m. romero n. murray grey dr. queen creek, az iii (please check a or b) b. [x] management of the limited liability company is reserved to the members. the names and addresses of each person who is a member are: (please check appropriate box) claudia m. romero n. murray grey dr. queen creek, az [x] member [] manager published: dec.   jan.  ', 'advertisement for bids for frontier middle school drainage improvements for natrona county school district no. casper, wyoming notice is hereby given, pursuant to wyoming statute section - that the natrona county school district no.  casper, wyoming, will receive sealed bids until  am., local time, may   for the following: description of work: installation of lineal feet of €\\x9d storm pipe, two catch basins, connection to four downspouts, and other miscellaneous work associated with installation of the drainage improvments. bids must be in one sealed envelope with statement thereon \"bid enclosed, frontier middle school drainage improvements\" and submitted to wlc, pronghorn street, casper, wyoming, at or before the above stated time. bids will be opened publicly, read aloud, and tabulated by the project manager, or his or her designee, at the above stated time and place, unless an alternative site is designated in writing which is posted at wlc prior to the time of bid opening. no bid may be withdrawn for a period of thirty ( days after the date set for opening thereof. natrona county school district no.  casper, wyoming, reserves the right to reject any or all bids and to waive any informalities or technicalities in the bidding; provided, however, that any bid received after the time specified or without accompanying bid guaranty, as stated below, will not be considered. bidding documents, including specifications, are currently available from the engineer, wlc engineering, surveying and planning, inc., pronghorn, casper, wyoming. bidders may obtain one set of plans for $. partial sets are not available. contact wlc engineering at (  for electronic bidding documents at no charge. a bid guaranty in the form of a properly executed bid bond payable to natrona county school district no. in the amount of not less than  of the total base bid amount must accompany each bid. (note: if your bid is less than $.you may submit a cashiers check for not less than  of the total base bid amount.) the successful bidder will be required to execute an agreement with natrona county school district no.  in the form supplied in the bidding documents, within thirty ( days after notice of award is issued. the notice of award shall serve as notice that the agreement is ready for execution. the bid guaranty shall be forfeited as liquidated damages if the bidder fails to execute the agreement within thirty ( days after such notice is issued, or fails to provide proper bond or other form of guaranty, as approved. the bid guaranty, if a bid bond, shall be executed by a surety or guarantee company authorized to do business in wyoming. the attorney in fact who executes the bond on behalf of the surety shall affix a certified and current copy of its power of attorney from the surety. no other type of bid guaranty will be accepted. natrona county school district no. may proceed against a bid guaranty unless either: a) the agreement has been executed by contractor and performance, and labor and material payment bonds have been furnished, as required; or, b) the specified time has elapsed so that bids may be withdrawn; or, c) the bid has been rejected. notice is hereby given that preference will be granted to wyoming contractors, subcontractors, laborers, and materials, supplies, equipment, machinery, and provisions produced, manufactured, supplied, or grown in wyoming, as required by w.s. section  et seq. a pre bid conference will not be held. contractors are encouraged to tour the site at any time. natrona county school district no.published: april & may  legal no: ', 'notice of sale apn: - order no: h- warning a sale of your property is imminent unless you pay the amount specified in this notice before the sale date, you could lose your home, even if the amount is in dispute. you must act before the sale date. if you have any questions, please call: sale trustee, homeowner association services, inc. ( . if you need assistance, please call the ombudsman’s office, nevada real estate division, at toll-free telephone number (  immediately. on november  , at  oclock p . m. homeowner association services, inc., as agent for paradise spa owners association, inc. under and pursuant to the notice of claim of lien-homeowners assessment dated march h , , executed by michael w. randolph, designated agent for paradise spa owners association, inc. , and recorded on march   in book , of official records, as document no.  of clark county, nevada, such lien being properly assessed and recorded pursuant to nevada revised statutes, in favor of paradise spa owners association, inc. by reason of the breach of assessment obligations secured thereby, notice of default and election to sell, which was recorded on june  , in book , of official records, as document no. , of clark , county, nevada, will sell at public auction to the highest bidder, for lawful money of the united states of america, at the front entrance of the nevada legal news for paradise spa owners association, inc., located at south fourth street, las vegas, nevada  without covenant or warranty, express or implied, regarding title, possession or encumbrances, all right, title and interest of the owner, without equity or right of redemption, the real property situated in the county of clark , state of nevada, described as follows: owner of record: ameristate investments, llc commonly known as: s. las vegas blvd. # las vegas, nv . aka: s. las vegas blvd. # las vegas, nv . continued on page page notice of sale apn: - order no: h- parcel a: an undivided  interest in and to the common area as the same is established as lot on the map of paradise spa unit no.  as shown by map thereof recorded april   on file in book of plats, page  and on the amended plat of paradise spa unit. no.  as shown by map thereof recorded march  on file in book of plats, page  in the office of the county recorder of clark county, nevada. parcel b: unit two hundred seventeen ( of plat of paradise spa unit no.  as shown by map thereof on file in book of plats, page  in the office of the county recorder of the county recorder of clark county, nevada for the purpose of satisfying the assessment obligations secured by said assessment lien, to wit: $ .; with interest from -, as is provided by law, any subsequent monthly homeowners association dues, fees, charges, expenses, and advances, if any, of the homeowners association and its agent, under the terms of the assessment lien. dated: october  homeowner association services, inc. as agent for: paradise spa owners association, inc. by: mike randolph, certified manager phone: (  fax: (  do not publish below this line . land situated in las vegas h judicial township publish notice of sale in nevada legal news . three ( times on october   november  and november  . published in nevada legal news october  november   ', 'no. cv summons in the superior court of the state of arizona in and for the county of pinal assigned to the honorable stephen f mccarville gregorio lara rodriguez, a single man and ricky rodriguez castruita, a single man, plaintiffs vs. jose ventura and jane doe ventura, a married couple; israel cazares lopez and jane doe cazares lopez, a married couple; red valley wall systems l.l.c., an arizona limited liability company; red valley landscapes, l.l.c., an arizona limited liability company; john and jane does i-v; black corporations vi-x; white partnerships xi-xy, defendants. to the above named defendants: you are hereby summoned and required to appear and defend in the above-entitled action, in the above-entitled court, within twenty days (days), exclusive of the day of service, after service of this summons upon you, if served within the state of arizona, and within thirty days (days), exclusive of the date of service, if served outside of the state of arizona, and you are hereby notified that in case you fail to do so, judgment by default will be rendered against you for the relief demanded in the complaint. appear and defend means that you must within the above time period file an answer or other pleading with the clerk of the above superior court accompanied by the proper filing fees and serve a copy of your answer or other responsive pleading upon the attorney for the plaintiff. ada notification: requests for reasonable accommodation for persons with disabilities must be made to the court by parties at least three ( working days in advance of a scheduled court proceeding. the name, address and telephone number of the attorney for plaintiff is cole & leal, pa, by joseph m. leal, west casa grande lakes boulevard north, casa grande, arizona  - dated this day of march, amanda stanford clerk of the superior court by: aubrey kendall deputy clerk serive by publication is complete days after the date of first publication. to obtain a co py of the complaint in this action, contact in writing: joseph m. leal iii, cole & leal, pa, w. casa grande lakes blvd. n., casa grande, az pub: may    june  ', 'public notice the following vehicles will be up for auction on or after /at am- mr. transmission new nashville hwy murfreesboro- dodge kahmexicano auto repair s maple st lebanon- chevy bhctfchavas auto services s lowry st smryna- acura uaakm auto sales & repair nolensville rd nashville- toyota esnzhwy auto repair n. garden st columbia- ford afpajoes body paint shop ash st murfreesboro- dodge esd saab ysb nolensville auto care nolensville rd nolensville- ford myuaa+ auto repair lebanon rd old hickory- mazda jmkdiscount transmission w. main st hendersonville- trailer ktaepo auto repair smith springs rd nashville-chevy ndasmorris auto murfreesboro rd lavergne- chevy nctkeuro fix royal oaks blvd franklin- bmw wbavae volks wvwakp bmw wbaglpexpress towing cornelia ct nashville-kia knafb ford mruwlb chevy nds, chevy wf, hyundai pdheh nissan alc honda jhmegs chevy zt, jeep gzvcinitial publication on -', 'in the chancery court of simpson county, mississippi in re: the determination of heirs of ella newsome, deceased no.  psummons to: the unknown heirs at law of ella newsome, deceased, and any other person or party claiming any legal or equitable interest in and to the estate of ella newsome, deceased. you have been made respondents in the cause filed in this court by janie faye walker floyd, administratrix of the estate of ella newsome, deceased; janie faye walker floyd, individually; and fred newsome, jr., petitioners. the petition for determination of heirs filed in the chancery court of simpson county, mississippi is a civil action seeking adjudication of heirs of ella newsome, deceased, and other relief. you are hereby summoned and commanded to personally appear before the chancery court of simpson county, mississippi, at the simpson county courthouse in mendenhall, mississippi, on the h day of october ,  at  a. m. to defend said suit and show cause if any you can why the relief sought and prayed for in the petition should not be granted, and in case of your failure to appear and defend, a judgment determining heirs at law may be entered against you by default. this the h day of september,  s/tommy joe harvey clerk of court by: d. mckinney, s.c. ,//', 'ordinance no. an ordinance to amend chapter  code of ordinances, city of memphis, so as to amend section  of the plan to add subparagraph (i) to allow for limited suspension of the drop program by qualifying participants and to add subparagraph (j) to allow an extension of the drop suspension period for qualifying participants whereas, the city of memphis maintains the city of memphis retirement system for general employees consisting of a plan, a plan, as amended in  and as amended in  and a plan, all as currently codified and established under city ordinance chapter  articles i through vii, divisions through (the \"citys pension system\"); and whereas, as part of the plan the city of memphis, tennessee has established a deferred retirement option plan (drop) amended and restated by ordinance no. dated october  and ordinance no. dated november   and whereas, the city of memphis desires to further amend section  (i) to allow certain individuals currently participating in the drop program to suspend their current participation and (ii) to allow certain individuals who suspended their participation in the drop program under previous ordinances to elect to extend the original suspension period for an additional period as set forth herein; now, therefore, the drop program is modified by adding as subparagraph (i) and subparagraph (j) of section , as amended and restated by ordinance no. and ordinance  the following subparagraph (i) and subparagraph (j): (i) notwithstanding any other limitations, for any employee who elected or elects to participate in the drop program between november  and may  and whose effective date of retirement is between december  and june  (\"eligible employee\") may elect to \"freeze\" temporarily in place or extend such eligible employees \"freeze\" under subparagraph (g) and suspend participation in the drop program (\"drop suspension\"). requests for a drop suspension must be submitted by an eligible employee in writing to the city of memphis human resources office on or before the h day following the effective date of adoption of this subparagraph (i) on a drop suspension form provided for such purpose by the human resources office. the drop suspension period (\"drop suspension period\") shall commence on the first business day following receipt by the human resources office of the duly executed and complete drop suspension form (the \"drop suspension commencement date\") and shall continue until the earlier of (i) the date the participating employee elects to \"unfreeze\" and resume participation in the drop program by submitting a written notice to the human resources office on a form provided for such purpose by the human resources office (the \"drop suspension termination date\"), which drop suspension termination date may be at any time after the drop suspension commencement date, or (ii) three ( years following the drop suspension commencement date. by electing to \"freeze\" and suspend participation in the drop program, the eligible employee agrees that during the drop suspension period he or she will be deemed to be an \"employee\" under the citys pension system, subject to the terms and conditions of the citys pension system, and for all other city purposes and shall thereby receive creditable service for pension purposes as a regular employee during the drop suspension period. the city and the electing employee will be required to make all city and employee contributions to the citys pension plan during the drop suspension period in accordance with the terms and provisions of the citys pension system. commencing immediately upon the drop suspension commencement date and continuing throughout the drop suspension period the citys payments to the employees drop account will cease. however, any amount accrued in the employees drop account immediately preceding the suspension commencement date will continue in such account for the benefit of the electing employee and will continue to accrue interest as provided in and be subject to subparagraph (d) hereof during the drop suspension period. effective on the first business day following the drop suspension termination date, the eligible employees participation in the drop program shall recommence and the eligible employee shall be entitled to complete any time remaining in the original drop election period under subparagraph (c) (  or years) as of the drop suspension commencement date except that the citys payments into the eligible employees drop account from the recommencement date until termination of the original drop election period shall be based on recalculated pension benefits using the additional pension credible service earned during the drop suspension period. the eligible employee shall not receive pension credible service for the period of time the eligible employee previously participated in the drop program. upon the eligible employees recommencement in the drop program the provisions of subsection (d) shall apply. (j) notwithstanding any other limitations, any employee who elected to freeze in place and suspend participation in the drop program under subparagraph (g) or subparagraph (h), as applicable, may elect to extend such \"freeze\" in place and extend the drop suspension period for an additional drop suspension period until the earlier of (i) the date the electing employee elects to \"unfreeze\" and resume participation in the drop program by submitting a written notice to the human resources directors office, which may be made at any time after the additional drop suspension period commences, or (ii) three ( years from the last day of the original drop suspension period. by electing to extend the \"freeze\" as provided in this subparagraph (j) the electing employee shall be and remain subject to the same terms and conditions as provided in subparagraph (g) or subparagraph (h), as applicable, during the original drop suspension period. may  ????mmd', 'in the circuit court of poinsett county, arkansas in the matter of the estate of jerry lewis taylor, deceased no. pr- last known address of decedent: woodland, lepanto, ar date of death: july  an instrument dated february   was on the h day of august,  admitted to probate as the last will of the above-named decedent, and the undersigned has been duly appointed executrix thereunder. a contest of the probate of the will can be effected only by filing a petition within the time provided by law. all persons having claims against the estate must exhibit them, duly verified, to the undersigned within six ( months from the date of the first publication of this notice, or they shall be forever barred and precluded from any benefit in the estate. provided, that claims for injury or death caused by the negligence of the decedent shall be filed within six ( months from the date of the first publication of the notice, or they shall be forever barred and precluded from any benefit on such estate. this notice first published h day of september,  joyce gilbert c/o noyl houston attorney for estate p. o. box jonesboro, ar ', 'in the juvenile court for anderson county, tennessee state of tennessee department of childrens services petitioner vs. howard eugene robertson, jr. respondent no. j- j-in the matter of: howard eugene robertson, iii dob: -alyssa mcbride dob: -children under eighteen ( years of age motion and order for summons by publication it appearing to the court from the allegations of the petition for temporary custody and motion for summons by publication and the affidavit of diligent search that the whereabouts of the respondent, howard eugene robertson, jr. is unknown and cannot be ascertained by diligent search, therefore, the ordinary process of law cannot be served upon howard eugene robertson, jr. it is therefore, ordered that said respondent be served by publication of the following notice for four ( consecutive weeks in the knoxville news sentinel, a newspaper published in knoxville, tennessee. to the respondent: howard eugene robertson, jr. pursuant to t.c.a. &sect; - you are hereby summoned to appear on the h day of february,  at  p.m., and defend the above-entitled action in the anderson county juvenile court, at clinton, tennessee, and answer the petition filed by the state of tennessee, department of childrens services, and to serve your answer upon the petitioner. in case of your failure to do so, judgment will be rendered against you according to the demand of the petition, which has been filed with the clerk of the anderson county juvenile court located at the juvenile court of anderson county, jolley building, s. main street, suite  clinton, tennessee  since your whereabouts is unknown and the ordinary process of law cannot be served upon you, a copy of this summons shall be published in the knoxville news sentinel newspaper for four ( consecutive weeks. issued this h day of december,  brian j. hunt juvenile court judge approved for entry: amanda l. rucker, bpr # assistant general counsel department of childrens services frank l. diggs drive, suite clinton, tennessee phone: (  first published: -', 'apn#: - trustee sale no. ams notice of foreclosure sale warning a sale of your property is imminent unless you pay the amount spfcified in this notice before the sale date, you could lose your home, even if the amount is in dispute. you must act before the sale date. if you have any questions, please call terra west collections group llc. d/b/a assessment management services at ( . if you need assistance, please call the foreclosure section of the ombudsman’s office, nevada real estate division, at - immediately. you are in default under a delinquent assessment lien, dated may   unless you take action to protect your property, it may be sold at a public sale. if you need an explanation of the nature of the proceedings against you, you should contact a lawyer. notice is hf.rfby given that on february   at  am at the main entrance to the nevada legal news located at so. fourth st., las vegas, nv  under the power of sale pursuant to the terms of those certain covenants, conditions, and restrictions recorded on october  as instrument/book number of the official records of clark county, assessment management services, as duly appointed agent under that certain notice of delinquent assessment lien. recorded on may  as instrument/book number of the official records of said county, and the notice of default and election to sell, recorded on july  as instrument/book number of the official records of said county, will sell at public auction to the highest bidder, for lawful money of the united states, all right, title, and interest in the following property known as: commonly known as: opal bridge court las vegas nv legal description: south mountain rud plat book page lot record owner(s): joe wild notice is hereby given that cameron and crestone homeowners association has executed and delivered to its agent, assessment management services, a written authorization to conduct this sale, and has deposited with said agent such documents as the covenants, conditions, and restrictions and documents evidencing the obligations secured thereby, and declares all sums secured thereby immediately due and payable and elects to cause the property to be sold to satisfy the obligations. the undersigned agent disclaims any liability for incorrectness of the street address and other common designations, if any, shown herein. the sale will be made without covenant or warranty, expressed or implied regarding, but not limited to, title or possession, or encumbrances, or obligations to satisfy any secured or unsecured liens. the total amount of the unpaid balance of the obligation secured by the property to be sold and reasonable estimated costs, expenses and advances at the time of the initial publication of the notice of sale is $. this amount may include assessments, late fees, special assessments, collection fees, and interest. super priority breakdown per nrs for - first security interest holders - breakdown is as follows: months assessments - $ amounts described in nrs  - demand or intent to lien letter - $; notice of delinquent assessment - $; intent to record a notice of default letter - $; notice of default $ not more than one tsg - $ full super priority lien amount due - $ “if the holder of the first security interest on the unit does not satisfy the amount of the association’s lien that is prior to that first security interest pursuant to subsection of nrs , the association may foreclose its lien by sale and that the sale may extinguish the first security interest; “and “if, not later than days before the date of the sale, the holder of the first security interest on the unit satisfies the amount of the association’s lien that is prior to that first security interest pursuant to subsection of nrs  and, not later than days before the date of the sale, a record of such satisfaction is recorded in the office of the recorder of the county in which the unit is located, the association may foreclose its lien by sale but the sale may not extinguish the first security interest as to the unit.” assessment management services, whose address is south cimarron road, suite  las vegas, nevada  is authorized by cameron and crestone homeowners association to enforce the lien by sale. assessment management services is a debt collector and is attempting to collect a debt. any information obtained will be used for that purpose. dated: january  by: abbey rodriguez assessment management services, as agent for cameron and crestone homeowners association tac: pub: / / /', 'public notice - - - public notice louisiana department of environmental quality (ldeq) coca-cola bottling company united, inc./baton rouge coca-cola bottling company, inc. draft water discharge permit the ldeq, office of environmental services, is accepting written comments on a draft louisiana pollutant discharge elimination system (lpdes) permit prepared for coca-cola bottling company united, inc., baton rouge coca-cola bottling company, inc., plank road, baton rouge, la  the facility is located at plank road in baton rouge, east baton rouge parish. upon the effective date of the final permit, the lpdes permit shall replace the previously issued lpdes permit. the principal discharge from this existing source is made into an on-site drainage swale via a pipe, thence into cypress bayou, thence into the comite river, waters of the state classified for primary contact recreation, secondary contact recreation, and propagation of fish and wildlife. under the sic codes and  the applicant proposes to discharge nano-filtration concentrate, water supply well startup pruge, exterior vehicle washwater, and stormwater runoff from an existing carbonated soda/beverage bottling facility. during the preparation of this permit, it has been determined that the discharge will have no adverse impact on the existing uses of the receiving waterbody. as with any discharge, however, some change in existing water quality may occur. comments and requests for a public hearing or notification of the final decision can be submitted via personal delivery, u.s. mail, email, or fax. comments and requests for public hearings must be received by  pm cst, thursday, may   delivery may be made to the drop-box at n. h st., baton rouge, la  u.s. mail may be sent to ldeq, public participation group, p.o. box  baton rouge, la . emails may be submitted to deq.publicnotices @la.gov and faxes sent to ( . please see additional instructions for comment submission, hand delivery and information regarding electronic submission at http://www.deq. louisiana.gov/portal/ default.aspx?tabid =or call ( . if ldeq finds a significant degree of public interest, a public hearing will be held. ldeq will send notification of the final permit decision to the applicant and to each person who has submitted written comments or a written request for notification of the final decision. the application, draft permit, additional information and statement of basis are available for review at the ldeq, public records center, room  north h street, baton rouge, la. viewing hours are from  a.m. to  p.m., monday through friday (except holidays). the available information can also be accessed electronically on the electronic document management system (edms) on the deq public website at www.deq.louisiana.gov inquiries or requests for additional information regarding this permit action should be directed to kelli hamilton, ldeq, water permits division, p.o. box  baton rouge, la , phone ( . persons wishing to be included on the ldeq permit public notice mailing list or for other public participation related questions should contact the public participation group in writing at ldeq, p.o. box  baton rouge, la , by email at deq.publicnotices @la.gov or contact the ldeq customer service center at ( ldeq (). permit public notices including electronic access to the draft permit and statement of basis can be viewed at the ldeq permits public notice webpage at www.deq.louisiana. gov/apps/pubnotice /default.asp and general information related to the public participation in permitting activities can be viewed at www.deq.louisiana. gov/portal/tabid/ default.aspx alternatively, individuals may elect to receive the permit public notices via email by subscribing to the ldeq permits public notice list server at http://louisiana.gov /services/email_ notifications_deq_pn/ all correspondence should specify ai number  permit number la and activity number per apr t', 'notice of trustees sale ?????whereas, default has occurred in the performance of the covenants, terms, and conditions of a deed of trust note dated april   and the deed of trust of even date securing the same, recorded april   document no. , in office of the register of deeds for davidson county, tennessee, executed by robert lee frank, conveying certain property therein described to superior title company, inc. as trustee for mortgage electronic registration systems, inc., as nominee for wilmington finance inc., its successors and assigns; and the undersigned, wilson & associates, p.l.l.c., having been appointed successor trustee by the bank of new york mellon, as trustee for cit mortgage loan trust . ?????now, therefore, notice is hereby given that the entire indebtedness has been declared due and payable; and that an agent of wilson & associates, p.l.l.c., as successor trustee, by virtue of the power, duty, and authority vested in and imposed upon said successor trustee, by the bank of new york mellon, as trustee for cit mortgage loan trust , will, on january  on or about  am, at the bridgestone arena, nashville, tennessee, offer for sale certain property hereinafter described to the highest bidder for certified funds paid at the conclusion of the sale, or credit bid from a bank or other lending entity pre-approved by the successor trustee. the sale is free from all exemptions, which are expressly waived in the deed of trust, said property being real estate situated in davidson county, tennessee, and being more particularly described as follows: land in davidson county, tennessee, being lot no. on the plan of talgans court, as of record in book  page  registers office for davidson county, tennessee, to which plan reference is hereby made for a more complete and detailed description of said lot. also known as: taigans court, nashville, tn ?????this sale is subject to all matters shown on any applicable recorded plat; any unpaid taxes; any restrictive covenants, easements, or setback lines that may be applicable; any statutory rights of redemption of any governmental agency, state or federal; any prior liens or encumbrances as well as any priority created by a fixture filing; and to any matter that an accurate survey of the premises might disclose. in addition, the following parties may claim an interest in the above-referenced property: robert lee frank ?????the sale held pursuant to this notice may be rescinded at the successor trustees option at any time. the right is reserved to adjourn the day of the sale to another day, time, and place certain without further publication, upon announcement at the time and place for the sale set forth above. w&a no. ?????dated december  wilson & associates, p.l.l.c., successor trustee for sale information, visit www.myfir.com and www.realtytrac.com dec.   jan.  ????fll', 'notice to creditors no. h-pr-in the matter of the estate of margaret eller brown, deceased notice is hereby given that on march of letters of administration, cta in respect to the estate of margaret eller brown, who died / were issued to the undersigned by the hawkins county chancery court of hawkins county, tennessee. all persons, resident and non-resident, having claims, matured or unmatured, against the estate are required to file the same with the clerk of the above-named court on or before the earlier of the dates prescribed in ( or ( otherwise their claims will be forever barred: (a) four ( months from the date of the first publication (or posting, as the case may be) of this notice if the creditor received an actual copy of this notice to creditors at least sixty ( days before date that is four ( months from the date of the first publication (or posting); or (b) sixty ( days from the date the creditor received an actual copy of the notice to creditors, if the creditor received the copy of the notice less than sixty ( days prior to the date that is four ( months from the date of the first publication (or posting) as described in ((a); or twelve ( months from the decedents date of death. this h day of march, s/elizabeth fugate humpreys s/gerald c. woythal co-executors kimberly d. rhoton attorney sheryl foster clerk and master deputy clerk  ;/', 'december  delaware energy, l.l.c., w. loop , suite c-, midland, tx  has filed a form c-(application for authorization to inject) with the oil conservation division seeking administrative approval to utilize the proposed catfish swd no (api - -xxxxx) as a salt water disposal well. the catfish swd no will be located at fnl and fwl, lot no.  section  township south, range east, eddy county, new mexico. the well will dispose of water produced from oil and gas wells into the devonian formation from  to  at a maximum rate of  barrels of water per day at a maximum pressure of  psi. interested parties must file objections or requests for hearing with the oil conservations division, south st. francis dr., santa fe, new mexico  within days. additional information can be obtained by contacting delaware energy, l.l.c., at ( .', 'notice of foreclosure sale the state of new mexico county of bernalillo second judicial district federal national mortgage association (\"fannie mae\"), a corporation organized and existing under the laws of the united states of america, plaintiff, vs. case no.: d-cv- jeffrey elam aka jeffrey lindon elam; occupants of the property; and the unknown spouse of jeffrey elam aka jeffrey lindon elam, defendants. please take notice that the above-entitled court, having appointed me or my designee as special master in this matter with the power to sell, has ordered me to sell the real property (the \"property\") situated in bernalillo county, new mexico, commonly known as tennessee street ne, albuquerque, nm  and more particularly described as follows: lots numbered twenty-nine ( and thirty ( in block numbered fifteen ( of the mesa verde addition, an addition to the city of albuquerque, new mexico, as the same is shown and designated on the plat thereof, filed in the office of the county clerk of bernalillo county, new mexico on november   in plat book c, page  the sale is to begin at  am on may   on the front steps of the second judicial district courthouse, city of albuquerque, county of bernalillo, state of new mexico, at which time i will sell to the highest and best bidder for cash, in lawful currency of the united states of america, the property to pay expenses of sale, and to satisfy the foreclosure default judgment granted on march   in the total amount of $.  with interest at the rate o f % per annum from february  through the date of the sale. the sale is subject to the entry of an order by this court approving the sale. notice is further given that the real property and improvements concerned with herein will be sold subject to any and all patent reservations, easements, and all taxes and utility liens, special assessments and taxes that may be due . federal national mortgage association (\"fannie mae\"), a corporation organized and existing under the laws of the united states of america, its attorneys, and the undersigned special master, disclaim all responsibility for, and the purchaser at the sale takes the property \"as is,\" in its present condition, subject to the valuation of the property by the county assessor as real or personal property, affixture of any mobile or manufactured home to the land, deactivation of title to a mobile or manufactured home on the property, if any, environmental contamination on the property, if any, and zoning violations concerning the property, if any . notice is further given that the purchaser at such sale shall take title to the above described real property subject to a one ( month right of redemption . prospective purchasers at sale are advised to make their own examination of the title and the condition of the property and to consult their own attorney before bidding. by: robert a. doyle, special master c/o legal process network p.o. box albuquerque, nm - nm--jud idspub #/ // /journal: april    may   ', 'notice of trustees sale whereas, default has occurred in the performance of the covenants, terms, and conditions of a deed of trust note dated july   and the deed of trust of even date securing the same, recorded july   in book no.  at page  in office of the register of deeds for gibson county, tennessee, executed by james b. cloar, jr. and tiffany n. cloar, conveying certain property therein described to fidelity national title as trustee for mortgage electronic registration systems, inc., as nominee for advanced financial services, inc., its successors and assigns; and the undersigned, wilson & associates, p.l.l.c., having been appointed successor trustee by u.s. bank trust, n.a., as trustee for lsfmaster participation trust. now, therefore, notice is hereby given that the entire indebtedness has been declared due and payable; and that an agent of wilson & associates, p.l.l.c., as successor trustee, by virtue of the power, duty, and authority vested in and imposed upon said successor trustee, by u.s. bank trust, n.a., as trustee for lsfmaster participation trust, will, on may  on or about  pm, at the gibson county courthouse, trenton, tennessee, offer for sale certain property hereinafter described to the highest bidder for certified funds paid at the conclusion of the sale, or credit bid from a bank or other lending entity pre-approved by the successor trustee. the sale is free from all exemptions, which are expressly waived in the deed of trust, said property being real estate situated in gibson county, tennessee, and being more particularly described as follows: the land referred to herein below is situated in the county of gibson, state of tennessee in deed book at page and is described as follows: located in civil district  city of kenton, county of gibson. state of tennessee: beginning at an iron pin in the south right-of-way of melrose street (this point being exactly ft. from the center of said melrose street) and the east right-of-way of cherokee (this point being exactly feet from the center of said cherokee street) and runs thence south degrees minutes west, feet to a point on the east right-of-way of said cherokee street stephens northwest corner, thence due east with said stephens north line, feet to a point; thence north degrees minutes east, feet to a point on the south right-of-way of said melrose street; thence due west with the south right-of-way of said melrose street, feet to the point of beginning also known as: cherokee street, kenton, tn this sale is subject to all matters shown on any applicable recorded plat; any unpaid taxes; any restrictive covenants, easements, or setback lines that may be applicable; any statutory rights of redemption of any governmental agency, state or federal; any prior liens or encumbrances as well as any priority created by a fixture filing; and to any matter that an accurate survey of the premises might disclose. in addition, the following parties may claim an interest in the above-referenced property: james b. cloar, jr. tiffany n. cloar the sale held pursuant to this notice may be rescinded at the successor trustee’s option at any time. the right is reserved to adjourn the day of the sale to another day, time, and place certain without further publication, upon announcement at the time and place for the sale set forth above. w&a no. dated april  wilson & associates, p.l.l.c., successor trustee for sale information, visit www.myfir.com and www.realtytrac.com', 'notice (for publication) articles of organization have been filed in the office of the arizona corporation commission for i name: tidy teams llc ii the address of the known place of business is: e. gemini dr. tempe, az the name and street address of the statutory agent is: troi waln e. gemini dr. tempe, az iii (please check a or b) b. [x] management of the limited liability company is reserved to the members. the names and addresses of each person who is a member are: (please check appropriate box) troi waln e. gemini dr. tempe, az [x] member [] manager garrett m. waln e. gemini dr. tempe, az [x] member [] manager jillian k. waln e. gemini dr. tempe, az [x] member [] manager pub: nov.   dec  ', 'abandoned vehicle year: make: chrysler model: lebaron, gold vin: xatname: any time towing & recovery address: po box city: maryville state: tn zip: /, /', 'notice of trustees sale file id. # boston notice is hereby given that leonard j. mcdonald, attorney at law, as trustee (or successor trustee, or substituted trustee), pursuant to the deed of trust which had an original balance of $.executed by bryan boston, a married man as his sole and separate property, w post drive surprise, az  dated december  and recorded december   as instrument no./docket-page of official records in the office of the county recorder of maricopa county, state of arizona, will sell the real property described herein by public auction on june  at a.m. at the main entrance to the superior courts building at the maricopa county courthouse, w. jefferson, phoenix, az  to the highest bidder for cash (in the forms which are lawful tender in the united states and acceptable to the trustee, payable in accordance with ars a), all right, title, and interest conveyed to and now held by it under said deed of trust, in the property situated in said county and state and more fully described as: lot  of surprise farms phase parcel  according to the plat of record in the office of the county recorder of maricopa county, arizona, recorded in book of maps, page . the street address/location of the real property described above is purported to be: w post drive surprise, az  tax parcel no.: -. the undersigned trustee disclaims any liability for any incorrectness of the street address and other common designation, if any, shown herein. the beneficiary under the aforementioned deed of trust has accelerated the note secured thereby and has declared the entire unpaid principal balance, as well as any and all other amounts due in connection with said note and/or deed of trust, immediately due and payable. said sale will be made in an \"as is\" condition, but without covenant or warranty, express or implied, regarding title, possession or encumbrances, to satisfy the indebtedness secured by said deed of trust, advances thereunder, with interest as provided therein, and the unpaid principal balance of the note secured by said deed of trust with interest thereon as proved in said note, plus fees, charges and expenses of the trustee and of the trusts created by said deed of trust current beneficiary: us bank na; care of/servicer: u.s. bank home mortgage frederica st. owensboro, ky  current trustee: leonard j. mcdonald east camelback road #phoenix, arizona ( . dated: //s/leonard j. mcdonald, attorney at law, trustee/successor trustee under said deed of trust, and is qualified to act as successor trustee per ars section  (a)  as a member of the arizona state bar. state of arizona, county of maricopa. this instrument was acknowledged before me on / by leonard j. mcdonald, attorney at law, as trustee/successor trustee. /s/judy quick, notary public commission expiration is / notice: this proceeding is an effort to collect a debt on behalf of the beneficiary under the referenced deed of trust. any information obtained will be used for that purpose. unless the loan is reinstated, this trustees sale proceedings will result in foreclosure of the subject property. published: march  april , ', 'no. cc / ck ventures, llc vs. schellenberg summons (civil - contract) ewing & ewing attorneys, p.c., e. cotton center blvd., # phoenix, az  (  telephone, (  facsimile, nelson ewing, ii (#, tufik shayeb (# attorney for plaintiff. in the south mountain justice court w. jackson st., st  phoenix, az  - maricopa county, state of arizona ck ventures, llc, an arizona limited liability company, plaintiff vs.daniel schellenberg & autumn schellenberg jane/john doe , husband and wife and each of them, defendant(s). daniel schellenberg, e. atlanta ave # phoenix, az  autumn schellenberg, e. main st. # mesa, az jane/john doe  the state of arizona to the above named defendant(s):  you are summoned to respond to this complaint by filing an answer with this court and paying the courts required fee. if you cannot afford to pay the required fee, you may request the court to waive or to defer the fee.  if you were served with this summons in the state of arizona, the court must receive your answer to the complaint within twenty ( calendar days from the date you were served. if you were served outside the state of arizona, the court must receive your answer to the complaint within thirty ( days from the date of service. if the last day is a saturday, sunday, or holiday, you will have until the next working day to file your answer. when calculating time, do not count the day you were served with the summons.  this court is located at (physical address): w. jackson st., st  phoenix, az   your answer must be in writing. (a) you may obtain an answer form from the court listed above, or on the self-service center of the arizona judicial branch website at http://www.azcourts.gov/ under the \"public services\" tab. (b) you may visit http://www.azturbocourt.gov/ to fill in your answer form electronically; this requires payment of an additional fee. (c) you may also prepare your answer on a plain sheet of paper, but your answer must include the case number, the court location, and the names of the parties.  you must provide a copy of your answer to the plaintiff(s) or to the plaintiffs attorney. if you fail to file a written answer with the court within the time indicated above, a default judgment may be entered against you, as requested in the plaintiff(s) complaint. a copy of the summons and complaint may be obtained by contacting ewing & ewing attorneys, p.c. as stated above. dated: oct . s/cody williams, judges signature {court seal} request for reasonable accomodation for persons with disabilities must be made to the court as soon as possible before a court proceeding. , , , , editions arizona capitol times']\n"
     ]
    }
   ],
   "source": [
    "# Convert to list\n",
    "data = df.content.values.tolist()\n",
    "# Remove new line characters\n",
    "data = [str(sent).lower() for sent in data]\n",
    "\n",
    "data = [re.sub('\\s+', ' ', sent) for sent in data]\n",
    "\n",
    "# Remove distracting single quotes\n",
    "data = [re.sub(\"\\'\", \"\", sent) for sent in data]\n",
    "\n",
    "# Remove single word number quotes\n",
    "data = [re.sub(\"\\d+.\\d*\", \"\", sent) for sent in data]\n",
    "\n",
    "# Remove punctation\n",
    "data = [re.sub(\"\\!\", \"\", sent) for sent in data]\n",
    "\n",
    "# Remove blank \n",
    "temp = [x for x in data if x != '']\n",
    "\n",
    "data = temp\n",
    "print(data[:20])"
   ]
  },
  {
   "cell_type": "code",
   "execution_count": 84,
   "metadata": {},
   "outputs": [],
   "source": [
    "# Convert to list\n",
    "def data_clean(data):\n",
    "    # Remove new line characters\n",
    "    data = [str(sent).lower() for sent in data]\n",
    "\n",
    "    data = [re.sub('\\s+', ' ', sent) for sent in data]\n",
    "\n",
    "    # Remove distracting single quotes\n",
    "    data = [re.sub(\"\\'\", \"\", sent) for sent in data]\n",
    "\n",
    "    # Remove single word number quotes\n",
    "    data = [re.sub(\"\\d+.\\d*\", \"\", sent) for sent in data]\n",
    "\n",
    "    # Remove punctation\n",
    "    data = [re.sub(\"\\!\", \"\", sent) for sent in data]\n",
    "\n",
    "    # Remove blank \n",
    "    temp = [x for x in data if x != '']\n",
    "\n",
    "    data = temp\n",
    "    return data"
   ]
  },
  {
   "cell_type": "code",
   "execution_count": 4,
   "metadata": {},
   "outputs": [
    {
     "name": "stdout",
     "output_type": "stream",
     "text": [
      "[['notice', 'for', 'publication', 'articles', 'of', 'organization', 'have', 'been', 'filed', 'in', 'the', 'office', 'of', 'the', 'arizona', 'corporation', 'commission', 'for', 'name', 'cc', 'solutions', 'llc', 'ii', 'the', 'address', 'of', 'the', 'known', 'place', 'of', 'business', 'is', 'murray', 'grey', 'dr', 'queen', 'creek', 'az', 'the', 'name', 'and', 'street', 'address', 'of', 'the', 'statutory', 'agent', 'is', 'claudia', 'romero', 'murray', 'grey', 'dr', 'queen', 'creek', 'az', 'iii', 'please', 'check', 'or', 'management', 'of', 'the', 'limited', 'liability', 'company', 'is', 'reserved', 'to', 'the', 'members', 'the', 'names', 'and', 'addresses', 'of', 'each', 'person', 'who', 'is', 'member', 'are', 'please', 'check', 'appropriate', 'box', 'claudia', 'romero', 'murray', 'grey', 'dr', 'queen', 'creek', 'az', 'member', 'manager', 'published', 'dec', 'jan']]\n"
     ]
    }
   ],
   "source": [
    "def sent_to_words(sentences):\n",
    "    for sentence in sentences:\n",
    "        yield(gensim.utils.simple_preprocess(str(sentence), deacc=True))  # deacc=True removes punctuations\n",
    "\n",
    "data_words = list(sent_to_words(data))\n",
    "\n",
    "print(data_words[:1])"
   ]
  },
  {
   "cell_type": "code",
   "execution_count": 5,
   "metadata": {},
   "outputs": [],
   "source": [
    "LabeledSentence = gensim.models.doc2vec.TaggedDocument"
   ]
  },
  {
   "cell_type": "code",
   "execution_count": 9,
   "metadata": {},
   "outputs": [
    {
     "name": "stdout",
     "output_type": "stream",
     "text": [
      "Number of non-empty emails vectors:  10000\n"
     ]
    }
   ],
   "source": [
    "all_content = []\n",
    "j = 0\n",
    "\n",
    "for em in data_words:           \n",
    "    all_content.append(LabeledSentence(em,[j]))\n",
    "    j+=1\n",
    "\n",
    "print(\"Number of non-empty emails vectors: \", j)"
   ]
  },
  {
   "cell_type": "code",
   "execution_count": 10,
   "metadata": {},
   "outputs": [
    {
     "name": "stdout",
     "output_type": "stream",
     "text": [
      "TaggedDocument(['notice', 'of', 'trustees', 'sale', 'file', 'id', 'flores', 'notice', 'is', 'hereby', 'given', 'that', 'leonard', 'mcdonald', 'attorney', 'at', 'law', 'as', 'trustee', 'or', 'successor', 'trustee', 'or', 'substituted', 'trustee', 'pursuant', 'to', 'the', 'deed', 'of', 'trust', 'which', 'had', 'an', 'original', 'balance', 'of', 'executed', 'by', 'manuel', 'flores', 'married', 'man', 'as', 'his', 'sole', 'and', 'separate', 'property', 'escobar', 'way', 'phoenix', 'az', 'dated', 'february', 'and', 'recorded', 'february', 'as', 'instrument', 'no', 'docket', 'page', 'of', 'official', 'records', 'in', 'the', 'office', 'of', 'the', 'county', 'recorder', 'of', 'maricopa', 'county', 'state', 'of', 'arizona', 'will', 'sell', 'the', 'real', 'property', 'described', 'herein', 'by', 'public', 'auction', 'on', 'may', 'at', 'at', 'the', 'main', 'entrance', 'to', 'the', 'superior', 'courts', 'building', 'at', 'the', 'maricopa', 'county', 'courthouse', 'jefferson', 'phoenix', 'az', 'to', 'the', 'highest', 'bidder', 'for', 'cash', 'in', 'the', 'forms', 'which', 'are', 'lawful', 'tender', 'in', 'the', 'united', 'states', 'and', 'acceptable', 'to', 'the', 'trustee', 'payable', 'in', 'accordance', 'with', 'ars', 'all', 'right', 'title', 'and', 'interest', 'conveyed', 'to', 'and', 'now', 'held', 'by', 'it', 'under', 'said', 'deed', 'of', 'trust', 'in', 'the', 'property', 'situated', 'in', 'said', 'county', 'and', 'state', 'and', 'more', 'fully', 'described', 'as', 'lot', 'of', 'cactus', 'gardens', 'according', 'to', 'the', 'plat', 'of', 'record', 'in', 'the', 'office', 'of', 'the', 'county', 'recorder', 'of', 'maricopa', 'county', 'arizona', 'recorded', 'in', 'book', 'of', 'maps', 'page', 'the', 'street', 'address', 'location', 'of', 'the', 'real', 'property', 'described', 'above', 'is', 'purported', 'to', 'be', 'escobar', 'way', 'phoenix', 'az', 'tax', 'parcel', 'no', 'the', 'undersigned', 'trustee', 'disclaims', 'any', 'liability', 'for', 'any', 'incorrectness', 'of', 'the', 'street', 'address', 'and', 'other', 'common', 'designation', 'if', 'any', 'shown', 'herein', 'the', 'beneficiary', 'under', 'the', 'aforementioned', 'deed', 'of', 'trust', 'has', 'accelerated', 'the', 'note', 'secured', 'thereby', 'and', 'has', 'declared', 'the', 'entire', 'unpaid', 'principal', 'balance', 'as', 'well', 'as', 'any', 'and', 'all', 'other', 'amounts', 'due', 'in', 'connection', 'with', 'said', 'note', 'and', 'or', 'deed', 'of', 'trust', 'immediately', 'due', 'and', 'payable', 'said', 'sale', 'will', 'be', 'made', 'in', 'an', 'as', 'is', 'condition', 'but', 'without', 'covenant', 'or', 'warranty', 'express', 'or', 'implied', 'regarding', 'title', 'possession', 'or', 'encumbrances', 'to', 'satisfy', 'the', 'indebtedness', 'secured', 'by', 'said', 'deed', 'of', 'trust', 'advances', 'thereunder', 'with', 'interest', 'as', 'provided', 'therein', 'and', 'the', 'unpaid', 'principal', 'balance', 'of', 'the', 'note', 'secured', 'by', 'said', 'deed', 'of', 'trust', 'with', 'interest', 'thereon', 'as', 'proved', 'in', 'said', 'note', 'plus', 'fees', 'charges', 'and', 'expenses', 'of', 'the', 'trustee', 'and', 'of', 'the', 'trusts', 'created', 'by', 'said', 'deed', 'of', 'trust', 'current', 'beneficiary', 'wells', 'fargo', 'bank', 'care', 'of', 'servicer', 'wells', 'fargo', 'home', 'mortgage', 'inc', 'one', 'home', 'campus', 'des', 'moines', 'ia', 'current', 'trustee', 'leonard', 'mcdonald', 'east', 'camelback', 'road', 'phoenix', 'arizona', 'dated', 'leonard', 'mcdonald', 'attorney', 'at', 'law', 'trustee', 'successor', 'trustee', 'under', 'said', 'deed', 'of', 'trust', 'and', 'is', 'qualified', 'to', 'act', 'as', 'successor', 'trustee', 'per', 'ars', 'section', 'as', 'member', 'of', 'the', 'arizona', 'state', 'bar', 'state', 'of', 'arizona', 'county', 'of', 'maricopa', 'this', 'instrument', 'was', 'acknowledged', 'before', 'me', 'on', 'by', 'leonard', 'mcdonald', 'attorney', 'at', 'law', 'as', 'trustee', 'successor', 'trustee', 'judy', 'quick', 'notary', 'public', 'commission', 'expiration', 'is', 'notice', 'this', 'proceeding', 'is', 'an', 'effort', 'to', 'collect', 'debt', 'on', 'behalf', 'of', 'the', 'beneficiary', 'under', 'the', 'referenced', 'deed', 'of', 'trust', 'any', 'information', 'obtained', 'will', 'be', 'used', 'for', 'that', 'purpose', 'unless', 'the', 'loan', 'is', 'reinstated', 'this', 'trustees', 'sale', 'proceedings', 'will', 'result', 'in', 'foreclosure', 'of', 'the', 'subject', 'property', 'published', 'february', 'march'], [278])\n"
     ]
    }
   ],
   "source": [
    "print(all_content[278])"
   ]
  },
  {
   "cell_type": "code",
   "execution_count": 11,
   "metadata": {},
   "outputs": [
    {
     "name": "stderr",
     "output_type": "stream",
     "text": [
      "C:\\Users\\Sabir Ismail\\Anaconda3\\lib\\site-packages\\gensim\\models\\doc2vec.py:366: UserWarning: The parameter `size` is deprecated, will be removed in 4.0.0, use `vector_size` instead.\n",
      "  warnings.warn(\"The parameter `size` is deprecated, will be removed in 4.0.0, use `vector_size` instead.\")\n"
     ]
    }
   ],
   "source": [
    "d2v_model = Doc2Vec(all_content, size = 2000, window = 10, min_count = 500, workers=7, dm = 1, \n",
    "                alpha=0.025, min_alpha=0.001)"
   ]
  },
  {
   "cell_type": "code",
   "execution_count": 12,
   "metadata": {},
   "outputs": [],
   "source": [
    "d2v_model.train(all_content, total_examples=d2v_model.corpus_count, epochs=10, start_alpha=0.002, end_alpha=-0.016)"
   ]
  },
  {
   "cell_type": "code",
   "execution_count": 13,
   "metadata": {},
   "outputs": [
    {
     "name": "stdout",
     "output_type": "stream",
     "text": [
      "[(9263, 0.9075719118118286), (2736, 0.7595829367637634), (9281, 0.7397918701171875), (3528, 0.7024680972099304), (7066, 0.6631973385810852), (1681, 0.6353466510772705), (1612, 0.6309569478034973), (4815, 0.6286769509315491), (5211, 0.6243445873260498), (7647, 0.6189743280410767)]\n"
     ]
    }
   ],
   "source": [
    "# shows the similar docs with id = 99\n",
    "print (d2v_model.docvecs.most_similar(1))\n",
    "#print(all_content[282])\n",
    "#print(all_content[1"
   ]
  },
  {
   "cell_type": "code",
   "execution_count": 19,
   "metadata": {},
   "outputs": [
    {
     "name": "stderr",
     "output_type": "stream",
     "text": [
      "C:\\Users\\Sabir Ismail\\Anaconda3\\lib\\site-packages\\ipykernel_launcher.py:2: DeprecationWarning: Call to deprecated `doctag_syn0` (Attribute will be removed in 4.0.0, use docvecs.vectors_docs instead).\n",
      "  \n"
     ]
    }
   ],
   "source": [
    "kmeans_model = KMeans(n_clusters=10, init='k-means++', max_iter=100)  \n",
    "X = kmeans_model.fit(d2v_model.docvecs.doctag_syn0)\n",
    "labels=kmeans_model.labels_.tolist()\n"
   ]
  },
  {
   "cell_type": "code",
   "execution_count": 20,
   "metadata": {},
   "outputs": [
    {
     "name": "stderr",
     "output_type": "stream",
     "text": [
      "C:\\Users\\Sabir Ismail\\Anaconda3\\lib\\site-packages\\ipykernel_launcher.py:1: DeprecationWarning: Call to deprecated `doctag_syn0` (Attribute will be removed in 4.0.0, use docvecs.vectors_docs instead).\n",
      "  \"\"\"Entry point for launching an IPython kernel.\n",
      "C:\\Users\\Sabir Ismail\\Anaconda3\\lib\\site-packages\\ipykernel_launcher.py:2: DeprecationWarning: Call to deprecated `doctag_syn0` (Attribute will be removed in 4.0.0, use docvecs.vectors_docs instead).\n",
      "  \n",
      "C:\\Users\\Sabir Ismail\\Anaconda3\\lib\\site-packages\\ipykernel_launcher.py:3: DeprecationWarning: Call to deprecated `doctag_syn0` (Attribute will be removed in 4.0.0, use docvecs.vectors_docs instead).\n",
      "  This is separate from the ipykernel package so we can avoid doing imports until\n"
     ]
    }
   ],
   "source": [
    "l = kmeans_model.fit_predict(d2v_model.docvecs.doctag_syn0)\n",
    "pca = PCA(n_components=2).fit(d2v_model.docvecs.doctag_syn0)\n",
    "datapoint = pca.transform(d2v_model.docvecs.doctag_syn0)"
   ]
  },
  {
   "cell_type": "code",
   "execution_count": 30,
   "metadata": {},
   "outputs": [
    {
     "data": {
      "image/png": "[encoded data removed]",
      "text/plain": [
       "<Figure size 432x288 with 1 Axes>"
      ]
     },
     "metadata": {},
     "output_type": "display_data"
    },
    {
     "data": {
      "text/plain": [
       "<Figure size 72x72 with 0 Axes>"
      ]
     },
     "metadata": {},
     "output_type": "display_data"
    }
   ],
   "source": [
    "plt.figure\n",
    "label1 = [\"#FFFF00\", \"#008000\", \"#0000FF\", \"#800080\", \"#FFAAAA\",\n",
    "          \"#123321\", \"#008988\", \"#00ABCD\", \"#80CC80\", \"#0044AA\",\n",
    "         ]\n",
    "color = [label1[i] for i in labels]\n",
    "plt.scatter(datapoint[:, 0], datapoint[:, 1], c=color)\n",
    "\n",
    "centroids = kmeans_model.cluster_centers_\n",
    "centroidpoint = pca.transform(centroids)\n",
    "plt.scatter(centroidpoint[:, 0], centroidpoint[:, 1], marker='^', s=150, c='#000000')\n",
    "plt.show()"
   ]
  },
  {
   "cell_type": "code",
   "execution_count": null,
   "metadata": {},
   "outputs": [],
   "source": [
    "stop = timeit.default_timer()\n",
    "execution_time = stop - start\n",
    "\n",
    "print(execution_time) #It returns time in sec"
   ]
  }
 ],
 "metadata": {
  "kernelspec": {
   "display_name": "Python 3",
   "language": "python",
   "name": "python3"
  },
  "language_info": {
   "codemirror_mode": {
    "name": "ipython",
    "version": 3
   },
   "file_extension": ".py",
   "mimetype": "text/x-python",
   "name": "python",
   "nbconvert_exporter": "python",
   "pygments_lexer": "ipython3",
   "version": "3.6.6"
  }
 },
 "nbformat": 4,
 "nbformat_minor": 2
}
