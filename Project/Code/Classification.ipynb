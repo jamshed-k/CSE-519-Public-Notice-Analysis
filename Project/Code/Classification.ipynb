{
 "cells": [
  {
   "cell_type": "code",
   "execution_count": 1,
   "metadata": {},
   "outputs": [],
   "source": [
    "from tqdm._tqdm_notebook import tqdm_notebook\n",
    "import pandas as pd\n",
    "tqdm_notebook.pandas()"
   ]
  },
  {
   "cell_type": "code",
   "execution_count": 2,
   "metadata": {},
   "outputs": [
    {
     "name": "stderr",
     "output_type": "stream",
     "text": [
      "C:\\Users\\Prime\\AppData\\Local\\Continuum\\anaconda3\\lib\\site-packages\\ipykernel_launcher.py:3: FutureWarning: from_csv is deprecated. Please use read_csv(...) instead. Note that some of the default arguments are different, so please refer to the documentation for from_csv when changing your function calls\n",
      "  This is separate from the ipykernel package so we can avoid doing imports until\n"
     ]
    }
   ],
   "source": [
    "import pandas as pd \n",
    "\n",
    "df = pd.DataFrame.from_csv('.\\Data\\cat2_full_categories.txt', sep='\\t', header=0)"
   ]
  },
  {
   "cell_type": "code",
   "execution_count": 3,
   "metadata": {},
   "outputs": [
    {
     "data": {
      "text/html": [
       "<div>\n",
       "<style scoped>\n",
       "    .dataframe tbody tr th:only-of-type {\n",
       "        vertical-align: middle;\n",
       "    }\n",
       "\n",
       "    .dataframe tbody tr th {\n",
       "        vertical-align: top;\n",
       "    }\n",
       "\n",
       "    .dataframe thead th {\n",
       "        text-align: right;\n",
       "    }\n",
       "</style>\n",
       "<table border=\"1\" class=\"dataframe\">\n",
       "  <thead>\n",
       "    <tr style=\"text-align: right;\">\n",
       "      <th></th>\n",
       "      <th>Unnamed: 0.1</th>\n",
       "      <th>Unnamed: 0.1.1</th>\n",
       "      <th>Unnamed: 0.1.1.1</th>\n",
       "      <th>state</th>\n",
       "      <th>id</th>\n",
       "      <th>link</th>\n",
       "      <th>county</th>\n",
       "      <th>newspaper</th>\n",
       "      <th>date</th>\n",
       "      <th>content</th>\n",
       "      <th>notice_id</th>\n",
       "      <th>category</th>\n",
       "    </tr>\n",
       "  </thead>\n",
       "  <tbody>\n",
       "    <tr>\n",
       "      <th>0</th>\n",
       "      <td>1</td>\n",
       "      <td>1</td>\n",
       "      <td>1</td>\n",
       "      <td>Mississippi</td>\n",
       "      <td>626/2272017_23983816</td>\n",
       "      <td>http://www.publicnoticeads.com/MS/search/view....</td>\n",
       "      <td>Pearl River</td>\n",
       "      <td>Picayune Item</td>\n",
       "      <td>2017/02/24</td>\n",
       "      <td>Notice of Auction\\nOn Friday, March 17, 2017 a...</td>\n",
       "      <td>23983816.0</td>\n",
       "      <td>['Auctions']</td>\n",
       "    </tr>\n",
       "  </tbody>\n",
       "</table>\n",
       "</div>"
      ],
      "text/plain": [
       "   Unnamed: 0.1  Unnamed: 0.1.1  Unnamed: 0.1.1.1        state  \\\n",
       "0             1               1                 1  Mississippi   \n",
       "\n",
       "                     id                                               link  \\\n",
       "0  626/2272017_23983816  http://www.publicnoticeads.com/MS/search/view....   \n",
       "\n",
       "        county      newspaper        date  \\\n",
       "0  Pearl River  Picayune Item  2017/02/24   \n",
       "\n",
       "                                             content   notice_id      category  \n",
       "0  Notice of Auction\\nOn Friday, March 17, 2017 a...  23983816.0  ['Auctions']  "
      ]
     },
     "execution_count": 3,
     "metadata": {},
     "output_type": "execute_result"
    }
   ],
   "source": [
    "df[df.id=='626/2272017_23983816']"
   ]
  },
  {
   "cell_type": "code",
   "execution_count": 4,
   "metadata": {},
   "outputs": [
    {
     "data": {
      "text/plain": [
       "496009"
      ]
     },
     "execution_count": 4,
     "metadata": {},
     "output_type": "execute_result"
    }
   ],
   "source": [
    "len(df)"
   ]
  },
  {
   "cell_type": "code",
   "execution_count": 5,
   "metadata": {},
   "outputs": [
    {
     "data": {
      "text/html": [
       "<div>\n",
       "<style scoped>\n",
       "    .dataframe tbody tr th:only-of-type {\n",
       "        vertical-align: middle;\n",
       "    }\n",
       "\n",
       "    .dataframe tbody tr th {\n",
       "        vertical-align: top;\n",
       "    }\n",
       "\n",
       "    .dataframe thead th {\n",
       "        text-align: right;\n",
       "    }\n",
       "</style>\n",
       "<table border=\"1\" class=\"dataframe\">\n",
       "  <thead>\n",
       "    <tr style=\"text-align: right;\">\n",
       "      <th></th>\n",
       "      <th>Unnamed: 0.1</th>\n",
       "      <th>Unnamed: 0.1.1</th>\n",
       "      <th>Unnamed: 0.1.1.1</th>\n",
       "      <th>state</th>\n",
       "      <th>id</th>\n",
       "      <th>link</th>\n",
       "      <th>county</th>\n",
       "      <th>newspaper</th>\n",
       "      <th>date</th>\n",
       "      <th>content</th>\n",
       "      <th>notice_id</th>\n",
       "      <th>category</th>\n",
       "    </tr>\n",
       "  </thead>\n",
       "  <tbody>\n",
       "    <tr>\n",
       "      <th>0</th>\n",
       "      <td>1</td>\n",
       "      <td>1</td>\n",
       "      <td>1</td>\n",
       "      <td>Mississippi</td>\n",
       "      <td>626/2272017_23983816</td>\n",
       "      <td>http://www.publicnoticeads.com/MS/search/view....</td>\n",
       "      <td>Pearl River</td>\n",
       "      <td>Picayune Item</td>\n",
       "      <td>2017/02/24</td>\n",
       "      <td>Notice of Auction\\nOn Friday, March 17, 2017 a...</td>\n",
       "      <td>23983816.0</td>\n",
       "      <td>['Auctions']</td>\n",
       "    </tr>\n",
       "    <tr>\n",
       "      <th>1</th>\n",
       "      <td>9</td>\n",
       "      <td>9</td>\n",
       "      <td>9</td>\n",
       "      <td>Mississippi</td>\n",
       "      <td>626/2272017_23983815</td>\n",
       "      <td>http://www.publicnoticeads.com/MS/search/view....</td>\n",
       "      <td>Pearl River</td>\n",
       "      <td>Picayune Item</td>\n",
       "      <td>2017/02/24</td>\n",
       "      <td>Public Notice\\nOn October 28, 2015, the PA Sta...</td>\n",
       "      <td>23983815.0</td>\n",
       "      <td>['License Suspension']</td>\n",
       "    </tr>\n",
       "    <tr>\n",
       "      <th>2</th>\n",
       "      <td>16</td>\n",
       "      <td>16</td>\n",
       "      <td>16</td>\n",
       "      <td>Wyoming</td>\n",
       "      <td>3493/3302017_24045793</td>\n",
       "      <td>http://www.publicnoticeads.com/WY/search/view....</td>\n",
       "      <td>Fremont</td>\n",
       "      <td>Riverton Ranger</td>\n",
       "      <td>2017/02/24</td>\n",
       "      <td>Click to view PDF.\\n\\nREPAYMENT CONTRACT FOR S...</td>\n",
       "      <td>24045793.0</td>\n",
       "      <td>[]</td>\n",
       "    </tr>\n",
       "    <tr>\n",
       "      <th>3</th>\n",
       "      <td>17</td>\n",
       "      <td>17</td>\n",
       "      <td>17</td>\n",
       "      <td>Mississippi</td>\n",
       "      <td>626/2272017_23983812</td>\n",
       "      <td>http://www.publicnoticeads.com/MS/search/view....</td>\n",
       "      <td>Pearl River</td>\n",
       "      <td>Picayune Item</td>\n",
       "      <td>2017/02/24</td>\n",
       "      <td>NOTICE OF MEDICAL PRACTICE CLOSURE:\\nEffective...</td>\n",
       "      <td>23983812.0</td>\n",
       "      <td>[]</td>\n",
       "    </tr>\n",
       "    <tr>\n",
       "      <th>4</th>\n",
       "      <td>19</td>\n",
       "      <td>19</td>\n",
       "      <td>19</td>\n",
       "      <td>Arkansas</td>\n",
       "      <td>3147/2272017_23983801</td>\n",
       "      <td>http://www.publicnoticeads.com/AR/search/view....</td>\n",
       "      <td>Sebastian</td>\n",
       "      <td>Times Record (Fort Smith)</td>\n",
       "      <td>2017/02/24</td>\n",
       "      <td>Fort Smith Port Authority is requesting sealed...</td>\n",
       "      <td>23983801.0</td>\n",
       "      <td>[]</td>\n",
       "    </tr>\n",
       "  </tbody>\n",
       "</table>\n",
       "</div>"
      ],
      "text/plain": [
       "   Unnamed: 0.1  Unnamed: 0.1.1  Unnamed: 0.1.1.1        state  \\\n",
       "0             1               1                 1  Mississippi   \n",
       "1             9               9                 9  Mississippi   \n",
       "2            16              16                16      Wyoming   \n",
       "3            17              17                17  Mississippi   \n",
       "4            19              19                19     Arkansas   \n",
       "\n",
       "                      id                                               link  \\\n",
       "0   626/2272017_23983816  http://www.publicnoticeads.com/MS/search/view....   \n",
       "1   626/2272017_23983815  http://www.publicnoticeads.com/MS/search/view....   \n",
       "2  3493/3302017_24045793  http://www.publicnoticeads.com/WY/search/view....   \n",
       "3   626/2272017_23983812  http://www.publicnoticeads.com/MS/search/view....   \n",
       "4  3147/2272017_23983801  http://www.publicnoticeads.com/AR/search/view....   \n",
       "\n",
       "        county                  newspaper        date  \\\n",
       "0  Pearl River              Picayune Item  2017/02/24   \n",
       "1  Pearl River              Picayune Item  2017/02/24   \n",
       "2      Fremont            Riverton Ranger  2017/02/24   \n",
       "3  Pearl River              Picayune Item  2017/02/24   \n",
       "4    Sebastian  Times Record (Fort Smith)  2017/02/24   \n",
       "\n",
       "                                             content   notice_id  \\\n",
       "0  Notice of Auction\\nOn Friday, March 17, 2017 a...  23983816.0   \n",
       "1  Public Notice\\nOn October 28, 2015, the PA Sta...  23983815.0   \n",
       "2  Click to view PDF.\\n\\nREPAYMENT CONTRACT FOR S...  24045793.0   \n",
       "3  NOTICE OF MEDICAL PRACTICE CLOSURE:\\nEffective...  23983812.0   \n",
       "4  Fort Smith Port Authority is requesting sealed...  23983801.0   \n",
       "\n",
       "                 category  \n",
       "0            ['Auctions']  \n",
       "1  ['License Suspension']  \n",
       "2                      []  \n",
       "3                      []  \n",
       "4                      []  "
      ]
     },
     "execution_count": 5,
     "metadata": {},
     "output_type": "execute_result"
    }
   ],
   "source": [
    "df.head()"
   ]
  },
  {
   "cell_type": "code",
   "execution_count": 6,
   "metadata": {},
   "outputs": [],
   "source": [
    "df.drop(['Unnamed: 0.1', 'Unnamed: 0.1.1', 'Unnamed: 0.1.1.1'], inplace=True, axis=1)"
   ]
  },
  {
   "cell_type": "code",
   "execution_count": 7,
   "metadata": {},
   "outputs": [
    {
     "data": {
      "text/html": [
       "<div>\n",
       "<style scoped>\n",
       "    .dataframe tbody tr th:only-of-type {\n",
       "        vertical-align: middle;\n",
       "    }\n",
       "\n",
       "    .dataframe tbody tr th {\n",
       "        vertical-align: top;\n",
       "    }\n",
       "\n",
       "    .dataframe thead th {\n",
       "        text-align: right;\n",
       "    }\n",
       "</style>\n",
       "<table border=\"1\" class=\"dataframe\">\n",
       "  <thead>\n",
       "    <tr style=\"text-align: right;\">\n",
       "      <th></th>\n",
       "      <th>state</th>\n",
       "      <th>id</th>\n",
       "      <th>link</th>\n",
       "      <th>county</th>\n",
       "      <th>newspaper</th>\n",
       "      <th>date</th>\n",
       "      <th>content</th>\n",
       "      <th>notice_id</th>\n",
       "      <th>category</th>\n",
       "    </tr>\n",
       "  </thead>\n",
       "  <tbody>\n",
       "    <tr>\n",
       "      <th>0</th>\n",
       "      <td>Mississippi</td>\n",
       "      <td>626/2272017_23983816</td>\n",
       "      <td>http://www.publicnoticeads.com/MS/search/view....</td>\n",
       "      <td>Pearl River</td>\n",
       "      <td>Picayune Item</td>\n",
       "      <td>2017/02/24</td>\n",
       "      <td>Notice of Auction\\nOn Friday, March 17, 2017 a...</td>\n",
       "      <td>23983816.0</td>\n",
       "      <td>['Auctions']</td>\n",
       "    </tr>\n",
       "    <tr>\n",
       "      <th>1</th>\n",
       "      <td>Mississippi</td>\n",
       "      <td>626/2272017_23983815</td>\n",
       "      <td>http://www.publicnoticeads.com/MS/search/view....</td>\n",
       "      <td>Pearl River</td>\n",
       "      <td>Picayune Item</td>\n",
       "      <td>2017/02/24</td>\n",
       "      <td>Public Notice\\nOn October 28, 2015, the PA Sta...</td>\n",
       "      <td>23983815.0</td>\n",
       "      <td>['License Suspension']</td>\n",
       "    </tr>\n",
       "    <tr>\n",
       "      <th>2</th>\n",
       "      <td>Wyoming</td>\n",
       "      <td>3493/3302017_24045793</td>\n",
       "      <td>http://www.publicnoticeads.com/WY/search/view....</td>\n",
       "      <td>Fremont</td>\n",
       "      <td>Riverton Ranger</td>\n",
       "      <td>2017/02/24</td>\n",
       "      <td>Click to view PDF.\\n\\nREPAYMENT CONTRACT FOR S...</td>\n",
       "      <td>24045793.0</td>\n",
       "      <td>[]</td>\n",
       "    </tr>\n",
       "    <tr>\n",
       "      <th>3</th>\n",
       "      <td>Mississippi</td>\n",
       "      <td>626/2272017_23983812</td>\n",
       "      <td>http://www.publicnoticeads.com/MS/search/view....</td>\n",
       "      <td>Pearl River</td>\n",
       "      <td>Picayune Item</td>\n",
       "      <td>2017/02/24</td>\n",
       "      <td>NOTICE OF MEDICAL PRACTICE CLOSURE:\\nEffective...</td>\n",
       "      <td>23983812.0</td>\n",
       "      <td>[]</td>\n",
       "    </tr>\n",
       "    <tr>\n",
       "      <th>4</th>\n",
       "      <td>Arkansas</td>\n",
       "      <td>3147/2272017_23983801</td>\n",
       "      <td>http://www.publicnoticeads.com/AR/search/view....</td>\n",
       "      <td>Sebastian</td>\n",
       "      <td>Times Record (Fort Smith)</td>\n",
       "      <td>2017/02/24</td>\n",
       "      <td>Fort Smith Port Authority is requesting sealed...</td>\n",
       "      <td>23983801.0</td>\n",
       "      <td>[]</td>\n",
       "    </tr>\n",
       "  </tbody>\n",
       "</table>\n",
       "</div>"
      ],
      "text/plain": [
       "         state                     id  \\\n",
       "0  Mississippi   626/2272017_23983816   \n",
       "1  Mississippi   626/2272017_23983815   \n",
       "2      Wyoming  3493/3302017_24045793   \n",
       "3  Mississippi   626/2272017_23983812   \n",
       "4     Arkansas  3147/2272017_23983801   \n",
       "\n",
       "                                                link       county  \\\n",
       "0  http://www.publicnoticeads.com/MS/search/view....  Pearl River   \n",
       "1  http://www.publicnoticeads.com/MS/search/view....  Pearl River   \n",
       "2  http://www.publicnoticeads.com/WY/search/view....      Fremont   \n",
       "3  http://www.publicnoticeads.com/MS/search/view....  Pearl River   \n",
       "4  http://www.publicnoticeads.com/AR/search/view....    Sebastian   \n",
       "\n",
       "                   newspaper        date  \\\n",
       "0              Picayune Item  2017/02/24   \n",
       "1              Picayune Item  2017/02/24   \n",
       "2            Riverton Ranger  2017/02/24   \n",
       "3              Picayune Item  2017/02/24   \n",
       "4  Times Record (Fort Smith)  2017/02/24   \n",
       "\n",
       "                                             content   notice_id  \\\n",
       "0  Notice of Auction\\nOn Friday, March 17, 2017 a...  23983816.0   \n",
       "1  Public Notice\\nOn October 28, 2015, the PA Sta...  23983815.0   \n",
       "2  Click to view PDF.\\n\\nREPAYMENT CONTRACT FOR S...  24045793.0   \n",
       "3  NOTICE OF MEDICAL PRACTICE CLOSURE:\\nEffective...  23983812.0   \n",
       "4  Fort Smith Port Authority is requesting sealed...  23983801.0   \n",
       "\n",
       "                 category  \n",
       "0            ['Auctions']  \n",
       "1  ['License Suspension']  \n",
       "2                      []  \n",
       "3                      []  \n",
       "4                      []  "
      ]
     },
     "execution_count": 7,
     "metadata": {},
     "output_type": "execute_result"
    }
   ],
   "source": [
    "df.head()"
   ]
  },
  {
   "cell_type": "code",
   "execution_count": 8,
   "metadata": {},
   "outputs": [],
   "source": [
    "df['temp'] = df['category'].str.len()"
   ]
  },
  {
   "cell_type": "code",
   "execution_count": 9,
   "metadata": {},
   "outputs": [],
   "source": [
    "df = df[df['temp']>2]"
   ]
  },
  {
   "cell_type": "code",
   "execution_count": 10,
   "metadata": {},
   "outputs": [
    {
     "data": {
      "text/plain": [
       "440655"
      ]
     },
     "execution_count": 10,
     "metadata": {},
     "output_type": "execute_result"
    }
   ],
   "source": [
    "len(df)"
   ]
  },
  {
   "cell_type": "code",
   "execution_count": 11,
   "metadata": {},
   "outputs": [
    {
     "data": {
      "text/html": [
       "<div>\n",
       "<style scoped>\n",
       "    .dataframe tbody tr th:only-of-type {\n",
       "        vertical-align: middle;\n",
       "    }\n",
       "\n",
       "    .dataframe tbody tr th {\n",
       "        vertical-align: top;\n",
       "    }\n",
       "\n",
       "    .dataframe thead th {\n",
       "        text-align: right;\n",
       "    }\n",
       "</style>\n",
       "<table border=\"1\" class=\"dataframe\">\n",
       "  <thead>\n",
       "    <tr style=\"text-align: right;\">\n",
       "      <th></th>\n",
       "      <th>state</th>\n",
       "      <th>id</th>\n",
       "      <th>link</th>\n",
       "      <th>county</th>\n",
       "      <th>newspaper</th>\n",
       "      <th>date</th>\n",
       "      <th>content</th>\n",
       "      <th>notice_id</th>\n",
       "      <th>category</th>\n",
       "      <th>temp</th>\n",
       "    </tr>\n",
       "  </thead>\n",
       "  <tbody>\n",
       "    <tr>\n",
       "      <th>0</th>\n",
       "      <td>Mississippi</td>\n",
       "      <td>626/2272017_23983816</td>\n",
       "      <td>http://www.publicnoticeads.com/MS/search/view....</td>\n",
       "      <td>Pearl River</td>\n",
       "      <td>Picayune Item</td>\n",
       "      <td>2017/02/24</td>\n",
       "      <td>Notice of Auction\\nOn Friday, March 17, 2017 a...</td>\n",
       "      <td>23983816.0</td>\n",
       "      <td>['Auctions']</td>\n",
       "      <td>12</td>\n",
       "    </tr>\n",
       "    <tr>\n",
       "      <th>1</th>\n",
       "      <td>Mississippi</td>\n",
       "      <td>626/2272017_23983815</td>\n",
       "      <td>http://www.publicnoticeads.com/MS/search/view....</td>\n",
       "      <td>Pearl River</td>\n",
       "      <td>Picayune Item</td>\n",
       "      <td>2017/02/24</td>\n",
       "      <td>Public Notice\\nOn October 28, 2015, the PA Sta...</td>\n",
       "      <td>23983815.0</td>\n",
       "      <td>['License Suspension']</td>\n",
       "      <td>22</td>\n",
       "    </tr>\n",
       "    <tr>\n",
       "      <th>6</th>\n",
       "      <td>Louisiana</td>\n",
       "      <td>346/2242017_23980782</td>\n",
       "      <td>http://www.publicnoticeads.com/LA/search/view....</td>\n",
       "      <td>Lincoln</td>\n",
       "      <td>The Ruston Daily Leader</td>\n",
       "      <td>2017/02/24</td>\n",
       "      <td>February 24 Legals\\n\\n\\nNOTICE OF SPECIAL ELEC...</td>\n",
       "      <td>23980782.0</td>\n",
       "      <td>['Elections']</td>\n",
       "      <td>13</td>\n",
       "    </tr>\n",
       "    <tr>\n",
       "      <th>17</th>\n",
       "      <td>Louisiana</td>\n",
       "      <td>363/3012017_23987556</td>\n",
       "      <td>http://www.publicnoticeads.com/LA/search/view....</td>\n",
       "      <td>St. Bernard</td>\n",
       "      <td>The St. Bernard Voice</td>\n",
       "      <td>2017/02/24</td>\n",
       "      <td>Sheriff's Sales Bank of America NA vs. Katedra...</td>\n",
       "      <td>23987556.0</td>\n",
       "      <td>['Auctions']</td>\n",
       "      <td>12</td>\n",
       "    </tr>\n",
       "    <tr>\n",
       "      <th>20</th>\n",
       "      <td>Louisiana</td>\n",
       "      <td>363/3012017_23987557</td>\n",
       "      <td>http://www.publicnoticeads.com/LA/search/view....</td>\n",
       "      <td>St. Bernard</td>\n",
       "      <td>The St. Bernard Voice</td>\n",
       "      <td>2017/02/24</td>\n",
       "      <td>Sheriff's Sales Gulf Coast Bank and Trust Co v...</td>\n",
       "      <td>23987557.0</td>\n",
       "      <td>['Auctions']</td>\n",
       "      <td>12</td>\n",
       "    </tr>\n",
       "  </tbody>\n",
       "</table>\n",
       "</div>"
      ],
      "text/plain": [
       "          state                    id  \\\n",
       "0   Mississippi  626/2272017_23983816   \n",
       "1   Mississippi  626/2272017_23983815   \n",
       "6     Louisiana  346/2242017_23980782   \n",
       "17    Louisiana  363/3012017_23987556   \n",
       "20    Louisiana  363/3012017_23987557   \n",
       "\n",
       "                                                 link       county  \\\n",
       "0   http://www.publicnoticeads.com/MS/search/view....  Pearl River   \n",
       "1   http://www.publicnoticeads.com/MS/search/view....  Pearl River   \n",
       "6   http://www.publicnoticeads.com/LA/search/view....      Lincoln   \n",
       "17  http://www.publicnoticeads.com/LA/search/view....  St. Bernard   \n",
       "20  http://www.publicnoticeads.com/LA/search/view....  St. Bernard   \n",
       "\n",
       "                  newspaper        date  \\\n",
       "0             Picayune Item  2017/02/24   \n",
       "1             Picayune Item  2017/02/24   \n",
       "6   The Ruston Daily Leader  2017/02/24   \n",
       "17    The St. Bernard Voice  2017/02/24   \n",
       "20    The St. Bernard Voice  2017/02/24   \n",
       "\n",
       "                                              content   notice_id  \\\n",
       "0   Notice of Auction\\nOn Friday, March 17, 2017 a...  23983816.0   \n",
       "1   Public Notice\\nOn October 28, 2015, the PA Sta...  23983815.0   \n",
       "6   February 24 Legals\\n\\n\\nNOTICE OF SPECIAL ELEC...  23980782.0   \n",
       "17  Sheriff's Sales Bank of America NA vs. Katedra...  23987556.0   \n",
       "20  Sheriff's Sales Gulf Coast Bank and Trust Co v...  23987557.0   \n",
       "\n",
       "                  category  temp  \n",
       "0             ['Auctions']    12  \n",
       "1   ['License Suspension']    22  \n",
       "6            ['Elections']    13  \n",
       "17            ['Auctions']    12  \n",
       "20            ['Auctions']    12  "
      ]
     },
     "execution_count": 11,
     "metadata": {},
     "output_type": "execute_result"
    }
   ],
   "source": [
    "df.head()"
   ]
  },
  {
   "cell_type": "code",
   "execution_count": 12,
   "metadata": {},
   "outputs": [
    {
     "data": {
      "text/plain": [
       "4213"
      ]
     },
     "execution_count": 12,
     "metadata": {},
     "output_type": "execute_result"
    }
   ],
   "source": [
    "category = list(set(df.category.values))\n",
    "len(category)"
   ]
  },
  {
   "cell_type": "code",
   "execution_count": 13,
   "metadata": {},
   "outputs": [
    {
     "name": "stdout",
     "output_type": "stream",
     "text": [
      "34458\n"
     ]
    }
   ],
   "source": [
    "final_category = []\n",
    "for c in category:\n",
    "    for cc in c.split(','):\n",
    "        cc = cc.strip()\n",
    "        final_category.append(cc.replace('[','').replace(']','').replace('\\'','').replace(',',''))\n",
    "print(len(final_category))"
   ]
  },
  {
   "cell_type": "code",
   "execution_count": 14,
   "metadata": {},
   "outputs": [
    {
     "name": "stdout",
     "output_type": "stream",
     "text": [
      "34\n"
     ]
    }
   ],
   "source": [
    "final_category = list(set(final_category)) \n",
    "print(len(final_category))"
   ]
  },
  {
   "cell_type": "code",
   "execution_count": null,
   "metadata": {},
   "outputs": [],
   "source": [
    "for idx, row in df.iterrows():\n",
    "    for hobby in row.category.split(\",\"):\n",
    "        hobby = hobby.strip()\n",
    "        hobby = hobby.replace('[','').replace(']','').replace('\\'','').replace(',','')\n",
    "        df.loc[idx, hobby] = True\n",
    "\n",
    "df.fillna(False, inplace=True)"
   ]
  },
  {
   "cell_type": "code",
   "execution_count": null,
   "metadata": {},
   "outputs": [],
   "source": [
    "len(df[df['Auctions']==False])"
   ]
  },
  {
   "cell_type": "code",
   "execution_count": null,
   "metadata": {},
   "outputs": [],
   "source": [
    "df.head()"
   ]
  },
  {
   "cell_type": "code",
   "execution_count": null,
   "metadata": {},
   "outputs": [],
   "source": [
    "cat_count = {}\n",
    "\n",
    "for c in final_category:\n",
    "    count = len(df[df[c]==True])\n",
    "    cat_count[c]=count"
   ]
  },
  {
   "cell_type": "code",
   "execution_count": null,
   "metadata": {},
   "outputs": [],
   "source": [
    "from matplotlib import pyplot as plt\n",
    "import numpy as np\n",
    "\n",
    "fig = plt.figure(figsize = (20, 10))\n",
    "ax = fig.add_subplot(111)\n",
    "width = 1/1.5\n",
    "lists = sorted(cat_count.items()) # sorted by key, return a list of tuples\n",
    "x, y = zip(*lists)\n",
    "\n",
    "ax.bar(x,y,width=0.4)\n",
    "ax.set_xticks(np.arange(len(x)))\n",
    "ax.set_ylabel(\"Count\")\n",
    "ax.set_xticklabels(x, rotation = 80, zorder=100)\n",
    "plt.gca().yaxis.grid(linestyle='--')\n",
    "fig.show()"
   ]
  }
 ],
 "metadata": {
  "kernelspec": {
   "display_name": "Python 3",
   "language": "python",
   "name": "python3"
  },
  "language_info": {
   "codemirror_mode": {
    "name": "ipython",
    "version": 3
   },
   "file_extension": ".py",
   "mimetype": "text/x-python",
   "name": "python",
   "nbconvert_exporter": "python",
   "pygments_lexer": "ipython3",
   "version": "3.6.4"
  }
 },
 "nbformat": 4,
 "nbformat_minor": 2
}
