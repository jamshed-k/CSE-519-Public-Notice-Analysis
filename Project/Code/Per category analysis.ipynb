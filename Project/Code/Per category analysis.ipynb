{
 "cells": [
  {
   "cell_type": "code",
   "execution_count": 77,
   "metadata": {},
   "outputs": [
    {
     "name": "stderr",
     "output_type": "stream",
     "text": [
      "C:\\Users\\Sabir Ismail\\Anaconda3\\lib\\site-packages\\ipykernel_launcher.py:7: FutureWarning: from_csv is deprecated. Please use read_csv(...) instead. Note that some of the default arguments are different, so please refer to the documentation for from_csv when changing your function calls\n",
      "  import sys\n"
     ]
    }
   ],
   "source": [
    "import pandas as pd \n",
    "from string import printable\n",
    "st = set(printable)\n",
    "\n",
    "\n",
    "FILE = 'Proceedings_Filtered'\n",
    "df = pd.DataFrame.from_csv('../Data/'+FILE+'.csv')\n",
    "df.content = df.content.str.replace('/',' ') \n",
    "df.content = df.content.str.replace(',',' ') \n",
    "df.content = df.content.str.replace('(',' ')\n",
    "df.content = df.content.str.replace(')',' ') \n",
    "df.content = df.content.str.replace('\"','\\'') \n",
    "df[\"content\"] = df[\"content\"].apply(lambda x: ''.join([\" \" if  i not in  st else i for i in x]))"
   ]
  },
  {
   "cell_type": "code",
   "execution_count": 78,
   "metadata": {},
   "outputs": [],
   "source": [
    "df['len'] = df.content.str.len()"
   ]
  },
  {
   "cell_type": "code",
   "execution_count": 79,
   "metadata": {},
   "outputs": [
    {
     "data": {
      "text/plain": [
       "10019"
      ]
     },
     "execution_count": 79,
     "metadata": {},
     "output_type": "execute_result"
    }
   ],
   "source": [
    "len(df)"
   ]
  },
  {
   "cell_type": "code",
   "execution_count": 80,
   "metadata": {},
   "outputs": [
    {
     "data": {
      "text/plain": [
       "array([[<matplotlib.axes._subplots.AxesSubplot object at 0x0000025EE261D828>]],\n",
       "      dtype=object)"
      ]
     },
     "execution_count": 80,
     "metadata": {},
     "output_type": "execute_result"
    },
    {
     "data": {
      "image/png": "[encoded data removed]",
      "text/plain": [
       "<Figure size 1440x720 with 1 Axes>"
      ]
     },
     "metadata": {},
     "output_type": "display_data"
    }
   ],
   "source": [
    "df.hist(column='len', bins=200, figsize=(20,10))"
   ]
  },
  {
   "cell_type": "code",
   "execution_count": 85,
   "metadata": {},
   "outputs": [
    {
     "data": {
      "text/plain": [
       "586"
      ]
     },
     "execution_count": 85,
     "metadata": {},
     "output_type": "execute_result"
    }
   ],
   "source": [
    "len(df[df.len>4000])"
   ]
  },
  {
   "cell_type": "code",
   "execution_count": 86,
   "metadata": {},
   "outputs": [],
   "source": [
    "df = df[df.len<4000]"
   ]
  },
  {
   "cell_type": "code",
   "execution_count": 87,
   "metadata": {},
   "outputs": [
    {
     "data": {
      "text/plain": [
       "array([[<matplotlib.axes._subplots.AxesSubplot object at 0x0000025EE3129940>]],\n",
       "      dtype=object)"
      ]
     },
     "execution_count": 87,
     "metadata": {},
     "output_type": "execute_result"
    },
    {
     "data": {
      "image/png": "[encoded data removed]",
      "text/plain": [
       "<Figure size 1440x720 with 1 Axes>"
      ]
     },
     "metadata": {},
     "output_type": "display_data"
    }
   ],
   "source": [
    "df.hist(column='len', bins=200, figsize=(20,10))"
   ]
  },
  {
   "cell_type": "code",
   "execution_count": 88,
   "metadata": {},
   "outputs": [],
   "source": [
    "df = df.sort_values(by=['state','len'])\n",
    "df.to_csv('../Data/'+FILE+'.csv')"
   ]
  },
  {
   "cell_type": "code",
   "execution_count": 89,
   "metadata": {},
   "outputs": [],
   "source": [
    "import nltk\n",
    "import csv\n",
    "import string\n",
    "import re\n",
    "from nltk import ngrams\n",
    "from collections import Counter\n",
    "\n",
    "non_speaker = re.compile('[A-Za-z]+: (.*)')\n",
    "\n",
    "def untokenize(ngram):\n",
    "    tokens = list(ngram)\n",
    "    return \"\".join([\" \"+i if not i.startswith(\"'\") and \\\n",
    "                             i not in string.punctuation and \\\n",
    "                             i != \"n't\"\n",
    "                          else i for i in tokens]).strip()\n",
    "\n",
    "def extract_phrases(text, phrase_counter, length):\n",
    "    for sent in nltk.sent_tokenize(text):\n",
    "        strip_speaker = non_speaker.match(sent)\n",
    "        if strip_speaker is not None:\n",
    "            sent = strip_speaker.group(1)\n",
    "        words = nltk.word_tokenize(sent)\n",
    "        for phrase in ngrams(words, length):\n",
    "            if all(word not in string.punctuation for word in phrase):\n",
    "                phrase_counter[untokenize(phrase)] += 1"
   ]
  },
  {
   "cell_type": "code",
   "execution_count": 90,
   "metadata": {},
   "outputs": [],
   "source": [
    "phrase_counter = Counter()\n",
    "\n",
    "def get_phrase(row):\n",
    "    extract_phrases(row, phrase_counter, 3)\n",
    "    return "
   ]
  },
  {
   "cell_type": "code",
   "execution_count": 91,
   "metadata": {},
   "outputs": [
    {
     "name": "stderr",
     "output_type": "stream",
     "text": [
      "C:\\Users\\Sabir Ismail\\Anaconda3\\lib\\site-packages\\ipykernel_launcher.py:21: DeprecationWarning: generator 'ngrams' raised StopIteration\n"
     ]
    },
    {
     "name": "stdout",
     "output_type": "stream",
     "text": [
      "Done\n"
     ]
    }
   ],
   "source": [
    "df.content.apply(get_phrase)\n",
    "print('Done')"
   ]
  },
  {
   "cell_type": "code",
   "execution_count": 92,
   "metadata": {},
   "outputs": [
    {
     "name": "stdout",
     "output_type": "stream",
     "text": [
      "9295\n"
     ]
    }
   ],
   "source": [
    "print(len(df))"
   ]
  },
  {
   "cell_type": "code",
   "execution_count": 93,
   "metadata": {},
   "outputs": [
    {
     "name": "stdout",
     "output_type": "stream",
     "text": [
      "5481  at a point\n",
      "5437  water will be\n",
      "4436  arizona revised statutes\n",
      "3996  response to the\n",
      "3911  of each year\n",
      "3904  notice is hereby\n",
      "3899  is hereby given\n",
      "3800  point of diversion\n",
      "3731  a distance of\n",
      "3630  located within the\n",
      "3607  or at a\n",
      "3607  a point from\n",
      "3607  point from which\n",
      "3563  from which the\n",
      "3446  hereby given that\n",
      "3386  will be used\n",
      "3285  be used for\n",
      "2938  of said section\n",
      "2918  a copy of\n",
      "2917  corner of said\n",
      "2914  4 of section\n",
      "2839  a point located\n",
      "2837  point located within\n",
      "2760  with the court\n",
      "2727  to the adoption\n",
      "2725  consent to the\n",
      "2717  has been scheduled\n",
      "2713  m or at\n",
      "2710  that on the\n",
      "2710  to the state\n",
      "2690  application to the\n",
      "2685  the state engineer\n",
      "2683  made application to\n",
      "2683  state engineer of\n",
      "2683  engineer of nevada\n",
      "2683  of nevada for\n",
      "2679  for permission to\n",
      "2678  nevada for permission\n",
      "2676  jason king p.e\n",
      "2673  to the petition\n",
      "2666  given that on\n",
      "2642  you do not\n",
      "2635  guardianship of a\n",
      "2621  of a minor\n",
      "2617  if you do\n",
      "2606  you have the\n",
      "2529  title 25 chapter\n",
      "2529  25 chapter 6\n",
      "2529  chapter 6 article\n",
      "2529  6 article 1\n",
      "2507  for guardianship of\n",
      "2501  petition for guardianship\n",
      "2388  nevada made application\n",
      "2360  under title 25\n",
      "2296  of this notice\n",
      "2220  the matter of\n",
      "2213  1st to december\n",
      "2211  article 1 arizona\n",
      "2211  1 arizona revised\n",
      "2192  from january 1st\n",
      "2191  january 1st to\n",
      "2185  notice of hearing\n",
      "2183  purposes from january\n",
      "2178  may result in\n",
      "2177  31st of each\n",
      "2164  to december 31st\n",
      "2163  december 31st of\n",
      "2121  at the hearing\n",
      "2104  to change the\n",
      "2099  in the matter\n",
      "2078  superior court of\n",
      "2072  application for water\n",
      "2072  for water no\n",
      "2072  will be diverted\n",
      "2072  be diverted from\n",
      "2068  of water heretofore\n",
      "2067  permission to change\n",
      "2057  the point of\n",
      "2056  heretofore appropriated under\n",
      "2052  water heretofore appropriated\n",
      "2043  of use of\n",
      "1938  a petition for\n",
      "1937  the existing point\n",
      "1937  existing point of\n",
      "1927  appear at the\n",
      "1904  state engineer no\n",
      "1902  given that the\n",
      "1886  of diversion was\n",
      "1863  change the point\n",
      "1831  appropriated under permit\n",
      "1813  notice is given\n",
      "1803  have the right\n",
      "1767  the right to\n",
      "1748  service of this\n",
      "1742  that the petitioner\n",
      "1723  to consider the\n",
      "1720  days after completion\n",
      "1719  after completion of\n",
      "1699  do not understand\n",
      "1681  of service of\n"
     ]
    }
   ],
   "source": [
    "most_common_phrases = phrase_counter.most_common(100)\n",
    "for k,v in most_common_phrases:\n",
    "    print('{0: <5}'.format(v), k)"
   ]
  }
 ],
 "metadata": {
  "kernelspec": {
   "display_name": "Python 3",
   "language": "python",
   "name": "python3"
  },
  "language_info": {
   "codemirror_mode": {
    "name": "ipython",
    "version": 3
   },
   "file_extension": ".py",
   "mimetype": "text/x-python",
   "name": "python",
   "nbconvert_exporter": "python",
   "pygments_lexer": "ipython3",
   "version": "3.6.4"
  }
 },
 "nbformat": 4,
 "nbformat_minor": 2
}
